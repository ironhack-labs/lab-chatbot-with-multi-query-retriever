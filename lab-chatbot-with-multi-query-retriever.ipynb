{
 "cells": [
  {
   "cell_type": "markdown",
   "metadata": {},
   "source": [
    "# Question Answering with LangChain, OpenAI, and MultiQuery Retriever\n",
    "\n",
    "This interactive workbook demonstrates example of Elasticsearch's [MultiQuery Retriever](https://api.python.langchain.com/en/latest/retrievers/langchain.retrievers.multi_query.MultiQueryRetriever.html) to generate similar queries for a given user input and apply all queries to retrieve a larger set of relevant documents from a vectorstore.\n",
    "\n",
    "Before we begin, we first split the fictional workplace documents into passages with `langchain` and uses OpenAI to transform these passages into embeddings and then store these into Elasticsearch.\n",
    "\n",
    "We will then ask a question, generate similar questions using langchain and OpenAI, retrieve relevant passages from the vector store, and use langchain and OpenAI again to provide a summary for the questions."
   ]
  },
  {
   "cell_type": "markdown",
   "metadata": {},
   "source": [
    "## Install packages and import modules"
   ]
  },
  {
   "cell_type": "code",
   "execution_count": null,
   "metadata": {},
   "outputs": [],
   "source": [
    "!python3 -m pip install -qU jq lark langchain langchain-elasticsearch langchain_openai tiktoken"
   ]
  },
  {
   "cell_type": "code",
   "execution_count": null,
   "metadata": {},
   "outputs": [],
   "source": [
    "!pip install langchain_elasticsearch"
   ]
  },
  {
   "cell_type": "code",
   "execution_count": null,
   "metadata": {},
   "outputs": [],
   "source": [
    "from langchain_openai.embeddings import OpenAIEmbeddings\n",
    "from langchain_elasticsearch import ElasticsearchStore\n",
    "from langchain_openai.llms import OpenAI\n",
    "from langchain.retrievers.multi_query import MultiQueryRetriever\n",
    "from getpass import getpass"
   ]
  },
  {
   "cell_type": "markdown",
   "metadata": {},
   "source": [
    "## Connect to Elasticsearch\n",
    "\n",
    "ℹ️ We're using an Elastic Cloud deployment of Elasticsearch for this notebook. If you don't have an Elastic Cloud deployment, sign up [here](https://cloud.elastic.co/registration?utm_source=github&utm_content=elasticsearch-labs-notebook) for a free trial. \n",
    "\n",
    "We'll use the **Cloud ID** to identify our deployment, because we are using Elastic Cloud deployment. To find the Cloud ID for your deployment, go to https://cloud.elastic.co/deployments and select your deployment.\n",
    "\n",
    "We will use [ElasticsearchStore](https://api.python.langchain.com/en/latest/vectorstores/langchain.vectorstores.elasticsearch.ElasticsearchStore.html) to connect to our elastic cloud deployment, This would help create and index data easily.  We would also send list of documents that we created in the previous step"
   ]
  },
  {
   "cell_type": "code",
   "execution_count": null,
   "metadata": {},
   "outputs": [],
   "source": [
    "# https://www.elastic.co/search-labs/tutorials/install-elasticsearch/elastic-cloud#finding-your-cloud-id\n",
    "ELASTIC_CLOUD_ID = getpass(\"Elastic Cloud ID: \")\n",
    "\n",
    "# https://www.elastic.co/search-labs/tutorials/install-elasticsearch/elastic-cloud#creating-an-api-key\n",
    "ELASTIC_API_KEY = getpass(\"Elastic Api Key: \")\n",
    "\n",
    "# https://platform.openai.com/api-keys\n",
    "OPENAI_API_KEY = getpass(\"OpenAI API key: \")\n",
    "\n",
    "embeddings = OpenAIEmbeddings(openai_api_key=OPENAI_API_KEY)\n",
    "\n",
    "vectorstore = ElasticsearchStore(\n",
    "    es_cloud_id=ELASTIC_CLOUD_ID,\n",
    "    es_api_key=ELASTIC_API_KEY,\n",
    "    index_name=\"multi_query_index\", #give it a meaningful name\n",
    "    embedding=embeddings,\n",
    ")"
   ]
  },
  {
   "cell_type": "markdown",
   "metadata": {},
   "source": [
    "## Indexing Data into Elasticsearch\n",
    "Let's download the sample dataset and deserialize the document."
   ]
  },
  {
   "cell_type": "code",
   "execution_count": 5,
   "metadata": {},
   "outputs": [],
   "source": [
    "from urllib.request import urlopen\n",
    "import json\n",
    "\n",
    "url = \"https://raw.githubusercontent.com/elastic/elasticsearch-labs/main/example-apps/chatbot-rag-app/data/data.json\"\n",
    "\n",
    "response = urlopen(url)\n",
    "data = json.load(response)\n",
    "\n",
    "with open(\"temp.json\", \"w\") as json_file:\n",
    "    json.dump(data, json_file)"
   ]
  },
  {
   "cell_type": "code",
   "execution_count": null,
   "metadata": {},
   "outputs": [],
   "source": [
    "# To confirm the expected data content\n",
    "with open(\"temp.json\", \"r\") as f:\n",
    "    data = json.load(f)\n",
    "print(data[:5])  # Print the first 5 records"
   ]
  },
  {
   "cell_type": "code",
   "execution_count": null,
   "metadata": {},
   "outputs": [],
   "source": [
    "count = 0\n",
    "for i in data:\n",
    "    display(count, len(i), i)\n",
    "    count += 1"
   ]
  },
  {
   "cell_type": "code",
   "execution_count": null,
   "metadata": {},
   "outputs": [],
   "source": [
    "# Function to check the length of page_content for all documents\n",
    "def check_document_lengths(docs):\n",
    "    for i, doc in enumerate(docs):\n",
    "        content_length = len(doc.page_content) if doc.page_content else 0\n",
    "        print(f\"Document {i+1} - Length: {content_length} characters\")\n",
    "\n",
    "# Call the function to inspect lengths\n",
    "check_document_lengths(docs)"
   ]
  },
  {
   "cell_type": "markdown",
   "metadata": {},
   "source": [
    "### Split Documents into Passages\n",
    "\n",
    "We’ll chunk documents into passages in order to improve the retrieval specificity and to ensure that we can provide multiple passages within the context window of the final question answering prompt.\n",
    "\n",
    "Here we are chunking documents into 800 token passages with an overlap of 400 tokens.\n",
    "\n",
    "Here we are using a simple splitter but Langchain offers more advanced splitters to reduce the chance of context being lost."
   ]
  },
  {
   "cell_type": "code",
   "execution_count": null,
   "metadata": {},
   "outputs": [],
   "source": [
    "!pip install jq"
   ]
  },
  {
   "cell_type": "code",
   "execution_count": null,
   "metadata": {},
   "outputs": [],
   "source": [
    "from langchain.document_loaders import JSONLoader\n",
    "from langchain.text_splitter import RecursiveCharacterTextSplitter\n",
    "\n",
    "\n",
    "def metadata_func(record: dict, metadata: dict) -> dict:\n",
    "    #Populate the metadata dictionary with keys name, summary, url, category, and updated_at.\n",
    "    \"\"\"\n",
    "    Populate the metadata dictionary with relevant fields from the record.\n",
    "    This metadata will be added to each document chunk.\n",
    "    \"\"\"\n",
    "    # Extract specific metadata fields from the record\n",
    "    metadata[\"name\"] = record.get(\"name\")  # Document name, default is \"Unknown\" if missing\n",
    "    metadata[\"summary\"] = record.get(\"summary\")  # Document summary\n",
    "    metadata[\"url\"] = record.get(\"url\")  # Source URL of the document\n",
    "    metadata[\"category\"] = record.get(\"category\",)  # Category of the document\n",
    "    metadata[\"updated_at\"] = record.get(\"updated_at\")  # Last update timestamp\n",
    "\n",
    "    # Return the updated metadata dictionary\n",
    "    return metadata\n",
    "\n",
    "\n",
    "# For more loaders https://python.langchain.com/docs/modules/data_connection/document_loaders/\n",
    "# And 3rd party loaders https://python.langchain.com/docs/modules/data_connection/document_loaders/#third-party-loaders\n",
    "loader = JSONLoader(\n",
    "    file_path=\"temp.json\",\n",
    "    jq_schema=\".[]\",\n",
    "    content_key=\"content\",\n",
    "    metadata_func=metadata_func,\n",
    ")\n",
    "\n",
    "text_splitter = RecursiveCharacterTextSplitter.from_tiktoken_encoder(\n",
    "    chunk_size=800, chunk_overlap=400 #define chunk size and chunk overlap\n",
    ")\n",
    "docs = loader.load_and_split(text_splitter=text_splitter)"
   ]
  },
  {
   "cell_type": "code",
   "execution_count": null,
   "metadata": {},
   "outputs": [],
   "source": [
    "#Test the metadata_func by printing metadata for a sample record\n",
    "\n",
    "sample_record = {\n",
    "    \"name\": \"Document 1\",\n",
    "    \"summary\": \"A brief summary.\",\n",
    "    \"url\": \"http://example.com\",\n",
    "    \"category\": \"Tutorial\",\n",
    "    \"updated_at\": \"2025-01-30\"\n",
    "}\n",
    "metadata = {}\n",
    "print(metadata_func(sample_record, metadata))"
   ]
  },
  {
   "cell_type": "code",
   "execution_count": null,
   "metadata": {},
   "outputs": [],
   "source": [
    "print(docs[:2])  # Check the first two chunks of the documents"
   ]
  },
  {
   "cell_type": "markdown",
   "metadata": {},
   "source": [
    "### Bulk Import Passages\n",
    "\n",
    "Now that we have split each document into the chunk size of 800, we will now index data to elasticsearch using [ElasticsearchStore.from_documents](https://api.python.langchain.com/en/latest/vectorstores/langchain.vectorstores.elasticsearch.ElasticsearchStore.html#langchain.vectorstores.elasticsearch.ElasticsearchStore.from_documents).\n",
    "\n",
    "We will use Cloud ID, Password and Index name values set in the `Create cloud deployment` step."
   ]
  },
  {
   "cell_type": "code",
   "execution_count": null,
   "metadata": {},
   "outputs": [],
   "source": [
    "# Step 1: Print a Sample of the Documents\n",
    "# Check the first few documents to identify inconsistencies\n",
    "def debug_documents(docs):\n",
    "    for i, doc in enumerate(docs[:5]):\n",
    "        print(f\"Document {i + 1}:\\n\", doc, \"\\n\")\n",
    "\n",
    "# Call the function to print the first few documents\n",
    "debug_documents(docs)"
   ]
  },
  {
   "cell_type": "code",
   "execution_count": null,
   "metadata": {},
   "outputs": [],
   "source": [
    "# Inspect the specific document causing the issue (document 6)\n",
    "print(f\"Inspecting problematic document:\\n{docs[5]}\")"
   ]
  },
  {
   "cell_type": "code",
   "execution_count": null,
   "metadata": {},
   "outputs": [],
   "source": [
    "# Validate the metadata and page content of the document\n",
    "problematic_doc = docs[5]\n",
    "print(\"Page Content:\", problematic_doc.page_content)\n",
    "print(\"Metadata:\", problematic_doc.metadata)"
   ]
  },
  {
   "cell_type": "code",
   "execution_count": null,
   "metadata": {},
   "outputs": [],
   "source": [
    "# Step 2: Validate the Metadata for Each Document\n",
    "# Ensure each document has all required fields and valid values\n",
    "def validate_metadata(docs):\n",
    "    for i, doc in enumerate(docs):\n",
    "        if not doc.metadata:\n",
    "            print(f\"Document {i} is missing metadata.\")\n",
    "        if not doc.page_content:\n",
    "            print(f\"Document {i} is missing page_content.\")\n",
    "\n",
    "# Call the function to validate metadata\n",
    "validate_metadata(docs)"
   ]
  },
  {
   "cell_type": "code",
   "execution_count": null,
   "metadata": {},
   "outputs": [],
   "source": [
    "# Index the split documents into Elasticsearch\n",
    "try:\n",
    "    documents = vectorstore.from_documents(\n",
    "    docs, # List of document chunks\n",
    "    embeddings, # Embedding model\n",
    "    index_name=\"multi_query_index\", # Ensure this matches the created index name\n",
    "    es_cloud_id=ELASTIC_CLOUD_ID, # Cloud ID for Elasticsearch\n",
    "    es_api_key=ELASTIC_API_KEY, # API Key for Elasticsearch\n",
    ")\n",
    "except Exception as e:\n",
    "    print(f\"Error during bulk indexing: {e}\")\n",
    "\n",
    "# Initialize the OpenAI language model (LLM)\n",
    "llm = OpenAI(temperature=0, openai_api_key=OPENAI_API_KEY) # temperature=>Controls randomness (0 = deterministic)\n",
    "\n",
    "# Set up the MultiQueryRetriever using the LLM and vectorstore\n",
    "retriever = MultiQueryRetriever.from_llm(vectorstore.as_retriever(), llm) # Elasticsearch retriever with LLM"
   ]
  },
  {
   "cell_type": "markdown",
   "metadata": {},
   "source": [
    "# Question Answering with MultiQuery Retriever\n",
    "\n",
    "Now that we have the passages stored in Elasticsearch, we can now ask a question to get the relevant passages."
   ]
  },
  {
   "cell_type": "code",
   "execution_count": null,
   "metadata": {},
   "outputs": [],
   "source": [
    "from langchain.schema.runnable import RunnableParallel, RunnablePassthrough\n",
    "from langchain.prompts import ChatPromptTemplate, PromptTemplate\n",
    "from langchain.schema import format_document\n",
    "\n",
    "import logging\n",
    "\n",
    "logging.basicConfig()\n",
    "logging.getLogger(\"langchain.retrievers.multi_query\").setLevel(logging.INFO)\n",
    "\n",
    "LLM_CONTEXT_PROMPT = ChatPromptTemplate.from_template(\n",
    "    \"\"\"You are an assistant for question-answering tasks. Use the following pieces of retrieved context to answer the question. If you don't know the answer, just say that you don't know. Be as verbose and educational in your response as possible. \n",
    "    \n",
    "    context: {context}\n",
    "    Question: \"{question}\"\n",
    "    Answer:\n",
    "    \"\"\"\n",
    ")\n",
    "\n",
    "LLM_DOCUMENT_PROMPT = PromptTemplate.from_template(\n",
    "    \"\"\"\n",
    "---\n",
    "SOURCE: {name}\n",
    "{page_content}\n",
    "---\n",
    "\"\"\"\n",
    ")\n",
    "\n",
    "\n",
    "def _combine_documents(\n",
    "    docs, document_prompt=LLM_DOCUMENT_PROMPT, document_separator=\"\\n\\n\"\n",
    "):\n",
    "    doc_strings = [format_document(doc, document_prompt) for doc in docs]\n",
    "    return document_separator.join(doc_strings)\n",
    "\n",
    "\n",
    "_context = RunnableParallel(\n",
    "    context=retriever | _combine_documents,\n",
    "    question=RunnablePassthrough(),\n",
    ")\n",
    "\n",
    "chain = _context | LLM_CONTEXT_PROMPT | llm\n",
    "\n",
    "ans = chain.invoke(\"what is the nasa sales team?\")\n",
    "\n",
    "print(\"---- Answer ----\")\n",
    "print(ans)"
   ]
  },
  {
   "cell_type": "markdown",
   "metadata": {},
   "source": [
    "**Generate at least two new iteratioins of the previous cells - Be creative.** Did you master Multi-\n",
    "Query Retriever concepts through this lab?"
   ]
  },
  {
   "cell_type": "markdown",
   "metadata": {},
   "source": [
    "# **Iteration No. 01: Modified Context Prompt**"
   ]
  },
  {
   "cell_type": "code",
   "execution_count": null,
   "metadata": {},
   "outputs": [],
   "source": [
    "# Custom context prompt for more structured and formal responses\n",
    "CUSTOM_CONTEXT_PROMPT = ChatPromptTemplate.from_template(\n",
    "    \"\"\"You are an assistant specialized in delivering structured and precise answers. Use the following retrieved context to answer the question. If you don't know the answer, clearly state so. Provide bullet points for key aspects and explain thoroughly.\n",
    "\n",
    "    context: {context}\n",
    "    Question: \"{question}\"\n",
    "    Answer (structured response):\n",
    "    \"\"\"\n",
    ")\n",
    "\n",
    "# Use the existing _context pipeline\n",
    "custom_chain = _context | CUSTOM_CONTEXT_PROMPT | llm\n",
    "\n",
    "# Test with a new question\n",
    "ans01 = custom_chain.invoke(\"What are the key responsibilities of a Senior Software Engineer?\")\n",
    "\n",
    "print(\"---- Answer ----\")\n",
    "print(ans01)\n"
   ]
  },
  {
   "cell_type": "markdown",
   "metadata": {},
   "source": [
    "# **Iteration No. 02: Modified Document Prompt**"
   ]
  },
  {
   "cell_type": "code",
   "execution_count": null,
   "metadata": {},
   "outputs": [],
   "source": [
    "\n",
    "# Custom document prompt for retrieved documents\n",
    "CUSTOM_DOCUMENT_PROMPT = PromptTemplate.from_template(\n",
    "    \"\"\"\n",
    "==== Document Metadata ====\n",
    "SOURCE: {name}\n",
    "CATEGORY: {category}\n",
    "UPDATED: {updated_at}\n",
    "\n",
    "CONTENT:\n",
    "{page_content}\n",
    "===========================\n",
    "\"\"\"\n",
    ")\n",
    "\n",
    "# Update the document formatting in the chain\n",
    "def _combine_custom_documents(\n",
    "    docs, document_prompt=CUSTOM_DOCUMENT_PROMPT, document_separator=\"\\n\\n=== NEXT DOCUMENT ===\\n\\n\"\n",
    "):\n",
    "    doc_strings = [format_document(doc, document_prompt) for doc in docs]\n",
    "    return document_separator.join(doc_strings)\n",
    "\n",
    "# Update the context pipeline with custom document formatting\n",
    "custom_context = RunnableParallel(\n",
    "    context=retriever | _combine_custom_documents,\n",
    "    question=RunnablePassthrough(),\n",
    ")\n",
    "\n",
    "# Create the new chain with the custom context\n",
    "custom_chain_documents = custom_context | LLM_CONTEXT_PROMPT | llm\n",
    "\n",
    "# Test with the same or new question\n",
    "ans02 = custom_chain_documents.invoke(\"What is the NASA sales team?\")\n",
    "\n",
    "print(\"---- Custom Document Answer ----\")\n",
    "print(ans02)"
   ]
  },
  {
   "cell_type": "markdown",
   "metadata": {},
   "source": [
    "# **Iteration No. 03: Dynamic Filters Into the Retriever**"
   ]
  },
  {
   "cell_type": "code",
   "execution_count": null,
   "metadata": {},
   "outputs": [],
   "source": [
    "from langchain.schema.runnable import RunnableMap\n",
    "\n",
    "# Define a filter function for the retriever\n",
    "def filter_documents_by_metadata(docs, category=None, updated_after=None):\n",
    "    \"\"\"\n",
    "    Filters documents based on metadata conditions.\n",
    "\n",
    "    Args:\n",
    "    - docs: List of retrieved documents.\n",
    "    - category: Filter by document category (e.g., 'sharepoint').\n",
    "    - updated_after: Filter by update date (e.g., '2025-01-01').\n",
    "\n",
    "    Returns:\n",
    "    - Filtered list of documents.\n",
    "    \"\"\"\n",
    "    filtered_docs = []\n",
    "    for doc in docs:\n",
    "        doc_category = doc.metadata.get(\"category\", None)\n",
    "        doc_updated_at = doc.metadata.get(\"updated_at\", None)\n",
    "\n",
    "        # Apply category filter\n",
    "        if category and doc_category != category:\n",
    "            continue\n",
    "\n",
    "        # Apply updated_after filter (assuming dates are formatted as 'YYYY-MM-DD')\n",
    "        if updated_after and doc_updated_at:\n",
    "            try:\n",
    "                if doc_updated_at < updated_after:\n",
    "                    continue\n",
    "            except ValueError:\n",
    "                pass  # Skip if date format is invalid\n",
    "\n",
    "        filtered_docs.append(doc)\n",
    "    return filtered_docs\n",
    "\n",
    "# Modify the context pipeline to include filtering\n",
    "filtered_context = RunnableMap(\n",
    "    {\n",
    "        \"context\": retriever | (lambda docs: filter_documents_by_metadata(docs, category=\"sharepoint\", updated_after=\"2025-01-01\")),\n",
    "        \"question\": RunnablePassthrough(),\n",
    "    }\n",
    ")\n",
    "\n",
    "# Create a new chain with the filtered context\n",
    "filtered_chain = filtered_context | LLM_CONTEXT_PROMPT | llm\n",
    "\n",
    "# Test with a filtered query\n",
    "ans03 = filtered_chain.invoke(\"What documents are relevant for NASA projects?\")\n",
    "print(\"---- Filtered Answer ----\")\n",
    "print(ans03)"
   ]
  },
  {
   "cell_type": "markdown",
   "metadata": {},
   "source": [
    "# **Iteration No. 04: Combining Dynamic Filters Into the Retriever and Summarization**"
   ]
  },
  {
   "cell_type": "code",
   "execution_count": null,
   "metadata": {},
   "outputs": [],
   "source": [
    "from langchain.schema.runnable import RunnableLambda, RunnableMap\n",
    "from langchain.prompts import ChatPromptTemplate\n",
    "\n",
    "# Define the filtering function\n",
    "def filter_documents_by_metadata(docs, category=None, updated_after=None):\n",
    "    \"\"\"\n",
    "    Filters documents based on metadata conditions.\n",
    "\n",
    "    Args:\n",
    "    - docs: List of retrieved documents.\n",
    "    - category: Filter by document category (e.g., 'sharepoint').\n",
    "    - updated_after: Filter by update date (e.g., '2025-01-01').\n",
    "\n",
    "    Returns:\n",
    "    - Filtered list of documents.\n",
    "    \"\"\"\n",
    "    filtered_docs = []\n",
    "    for doc in docs:\n",
    "        doc_category = doc.metadata.get(\"category\", None)\n",
    "        doc_updated_at = doc.metadata.get(\"updated_at\", None)\n",
    "\n",
    "        # Apply category filter\n",
    "        if category and doc_category != category:\n",
    "            continue\n",
    "\n",
    "        # Apply updated_after filter\n",
    "        if updated_after and doc_updated_at:\n",
    "            try:\n",
    "                if doc_updated_at < updated_after:\n",
    "                    continue\n",
    "            except ValueError:\n",
    "                pass  # Skip invalid date formats\n",
    "\n",
    "        filtered_docs.append(doc)\n",
    "    return filtered_docs\n",
    "\n",
    "# Define the summarization function\n",
    "def summarize_document(doc):\n",
    "    \"\"\"\n",
    "    Summarizes the content of a single document using the LLM.\n",
    "    \"\"\"\n",
    "    summary_prompt = f\"\"\"\n",
    "    Here is the content of a document:\n",
    "    ---\n",
    "    {doc.page_content}\n",
    "    ---\n",
    "    Please summarize the main idea of this document in 1-2 sentences.\n",
    "    \"\"\"\n",
    "    return llm(summary_prompt)\n",
    "\n",
    "# Combine filtering and summarization\n",
    "def filter_and_summarize(docs, category=None, updated_after=None):\n",
    "    \"\"\"\n",
    "    Filters documents by metadata and generates summaries for each document.\n",
    "    \"\"\"\n",
    "    filtered_docs = filter_documents_by_metadata(docs, category, updated_after)\n",
    "    summarized_docs = []\n",
    "    for doc in filtered_docs:\n",
    "        summary = summarize_document(doc)\n",
    "        summarized_docs.append({\"metadata\": doc.metadata, \"summary\": summary})\n",
    "    return summarized_docs\n",
    "\n",
    "# Test the pipeline with filtered and summarized output\n",
    "query = \"What documents are relevant for NASA projects?\"\n",
    "retrieved_docs = retriever.get_relevant_documents(query)\n",
    "\n",
    "# Filter and summarize the documents\n",
    "filtered_docs = filter_and_summarize(retrieved_docs, category=\"sharepoint\", updated_after=\"2025-01-01\")\n",
    "\n",
    "# Print filtered and summarized documents\n",
    "print(\"---- Filtered and Summarized Documents ----\")\n",
    "if filtered_docs:\n",
    "    for doc in filtered_docs:\n",
    "        print(f\"Source: {doc['metadata']['name']}\")\n",
    "        print(f\"Summary: {doc['summary']}\\n\")\n",
    "else:\n",
    "    print(\"No relevant documents found.\")\n",
    "\n",
    "# Generate the final response using the LLM\n",
    "if filtered_docs:\n",
    "    context = \"\\n\".join([f\"Source: {doc['metadata']['name']}\\nSummary: {doc['summary']}\" for doc in filtered_docs])\n",
    "    final_prompt = f\"\"\"\n",
    "    Here is the context from relevant documents:\n",
    "    {context}\n",
    "    Question: {query}\n",
    "    Answer:\n",
    "    \"\"\"\n",
    "    ans04 = llm(final_prompt)\n",
    "else:\n",
    "    ans04 = \"No relevant documents found.\"\n",
    "\n",
    "# Print the final answer\n",
    "print(\"---- Final Answer ----\")\n",
    "print(ans04)"
   ]
  }
 ],
 "metadata": {
  "kernelspec": {
   "display_name": "base",
   "language": "python",
   "name": "python3"
  },
  "language_info": {
   "codemirror_mode": {
    "name": "ipython",
    "version": 3
   },
   "file_extension": ".py",
   "mimetype": "text/x-python",
   "name": "python",
   "nbconvert_exporter": "python",
   "pygments_lexer": "ipython3",
   "version": "3.12.7"
  }
 },
 "nbformat": 4,
 "nbformat_minor": 4
}
