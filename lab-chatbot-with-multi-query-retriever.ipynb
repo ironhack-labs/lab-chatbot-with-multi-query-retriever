{
 "cells": [
  {
   "cell_type": "markdown",
   "metadata": {},
   "source": [
    "# Question Answering with LangChain, OpenAI, and MultiQuery Retriever\n",
    "\n",
    "This interactive workbook demonstrates example of Elasticsearch's [MultiQuery Retriever](https://api.python.langchain.com/en/latest/retrievers/langchain.retrievers.multi_query.MultiQueryRetriever.html) to generate similar queries for a given user input and apply all queries to retrieve a larger set of relevant documents from a vectorstore.\n",
    "\n",
    "Before we begin, we first split the fictional workplace documents into passages with `langchain` and uses OpenAI to transform these passages into embeddings and then store these into Elasticsearch.\n",
    "\n",
    "We will then ask a question, generate similar questions using langchain and OpenAI, retrieve relevant passages from the vector store, and use langchain and OpenAI again to provide a summary for the questions."
   ]
  },
  {
   "cell_type": "markdown",
   "metadata": {},
   "source": [
    "## Install packages and import modules"
   ]
  },
  {
   "cell_type": "code",
   "execution_count": 5,
   "metadata": {},
   "outputs": [
    {
     "name": "stdout",
     "output_type": "stream",
     "text": [
      "Collecting langchain-elasticsearch\n",
      "  Downloading langchain_elasticsearch-0.3.2-py3-none-any.whl.metadata (8.3 kB)\n",
      "Collecting elasticsearch<9.0.0,>=8.13.1 (from elasticsearch[vectorstore-mmr]<9.0.0,>=8.13.1->langchain-elasticsearch)\n",
      "  Downloading elasticsearch-8.17.1-py3-none-any.whl.metadata (8.8 kB)\n",
      "Requirement already satisfied: langchain-core<0.4.0,>=0.3.0 in c:\\users\\ignacio\\anaconda3\\lib\\site-packages (from langchain-elasticsearch) (0.3.31)\n",
      "Collecting elastic-transport<9,>=8.15.1 (from elasticsearch<9.0.0,>=8.13.1->elasticsearch[vectorstore-mmr]<9.0.0,>=8.13.1->langchain-elasticsearch)\n",
      "  Downloading elastic_transport-8.17.0-py3-none-any.whl.metadata (3.6 kB)\n",
      "Requirement already satisfied: numpy>=1 in c:\\users\\ignacio\\anaconda3\\lib\\site-packages (from elasticsearch[vectorstore-mmr]<9.0.0,>=8.13.1->langchain-elasticsearch) (1.26.4)\n",
      "Collecting simsimd>=3 (from elasticsearch[vectorstore-mmr]<9.0.0,>=8.13.1->langchain-elasticsearch)\n",
      "  Downloading simsimd-6.2.1-cp312-cp312-win_amd64.whl.metadata (67 kB)\n",
      "Requirement already satisfied: PyYAML>=5.3 in c:\\users\\ignacio\\anaconda3\\lib\\site-packages (from langchain-core<0.4.0,>=0.3.0->langchain-elasticsearch) (6.0.1)\n",
      "Requirement already satisfied: jsonpatch<2.0,>=1.33 in c:\\users\\ignacio\\anaconda3\\lib\\site-packages (from langchain-core<0.4.0,>=0.3.0->langchain-elasticsearch) (1.33)\n",
      "Requirement already satisfied: langsmith<0.4,>=0.1.125 in c:\\users\\ignacio\\anaconda3\\lib\\site-packages (from langchain-core<0.4.0,>=0.3.0->langchain-elasticsearch) (0.3.1)\n",
      "Requirement already satisfied: packaging<25,>=23.2 in c:\\users\\ignacio\\anaconda3\\lib\\site-packages (from langchain-core<0.4.0,>=0.3.0->langchain-elasticsearch) (24.1)\n",
      "Requirement already satisfied: pydantic<3.0.0,>=2.7.4 in c:\\users\\ignacio\\anaconda3\\lib\\site-packages (from langchain-core<0.4.0,>=0.3.0->langchain-elasticsearch) (2.8.2)\n",
      "Requirement already satisfied: tenacity!=8.4.0,<10.0.0,>=8.1.0 in c:\\users\\ignacio\\anaconda3\\lib\\site-packages (from langchain-core<0.4.0,>=0.3.0->langchain-elasticsearch) (8.2.3)\n",
      "Requirement already satisfied: typing-extensions>=4.7 in c:\\users\\ignacio\\anaconda3\\lib\\site-packages (from langchain-core<0.4.0,>=0.3.0->langchain-elasticsearch) (4.11.0)\n",
      "Requirement already satisfied: urllib3<3,>=1.26.2 in c:\\users\\ignacio\\anaconda3\\lib\\site-packages (from elastic-transport<9,>=8.15.1->elasticsearch<9.0.0,>=8.13.1->elasticsearch[vectorstore-mmr]<9.0.0,>=8.13.1->langchain-elasticsearch) (2.2.3)\n",
      "Requirement already satisfied: certifi in c:\\users\\ignacio\\anaconda3\\lib\\site-packages (from elastic-transport<9,>=8.15.1->elasticsearch<9.0.0,>=8.13.1->elasticsearch[vectorstore-mmr]<9.0.0,>=8.13.1->langchain-elasticsearch) (2024.8.30)\n",
      "Requirement already satisfied: jsonpointer>=1.9 in c:\\users\\ignacio\\anaconda3\\lib\\site-packages (from jsonpatch<2.0,>=1.33->langchain-core<0.4.0,>=0.3.0->langchain-elasticsearch) (2.1)\n",
      "Requirement already satisfied: httpx<1,>=0.23.0 in c:\\users\\ignacio\\anaconda3\\lib\\site-packages (from langsmith<0.4,>=0.1.125->langchain-core<0.4.0,>=0.3.0->langchain-elasticsearch) (0.27.0)\n",
      "Requirement already satisfied: orjson<4.0.0,>=3.9.14 in c:\\users\\ignacio\\anaconda3\\lib\\site-packages (from langsmith<0.4,>=0.1.125->langchain-core<0.4.0,>=0.3.0->langchain-elasticsearch) (3.10.15)\n",
      "Requirement already satisfied: requests<3,>=2 in c:\\users\\ignacio\\anaconda3\\lib\\site-packages (from langsmith<0.4,>=0.1.125->langchain-core<0.4.0,>=0.3.0->langchain-elasticsearch) (2.32.3)\n",
      "Requirement already satisfied: requests-toolbelt<2.0.0,>=1.0.0 in c:\\users\\ignacio\\anaconda3\\lib\\site-packages (from langsmith<0.4,>=0.1.125->langchain-core<0.4.0,>=0.3.0->langchain-elasticsearch) (1.0.0)\n",
      "Requirement already satisfied: zstandard<0.24.0,>=0.23.0 in c:\\users\\ignacio\\anaconda3\\lib\\site-packages (from langsmith<0.4,>=0.1.125->langchain-core<0.4.0,>=0.3.0->langchain-elasticsearch) (0.23.0)\n",
      "Requirement already satisfied: annotated-types>=0.4.0 in c:\\users\\ignacio\\anaconda3\\lib\\site-packages (from pydantic<3.0.0,>=2.7.4->langchain-core<0.4.0,>=0.3.0->langchain-elasticsearch) (0.6.0)\n",
      "Requirement already satisfied: pydantic-core==2.20.1 in c:\\users\\ignacio\\anaconda3\\lib\\site-packages (from pydantic<3.0.0,>=2.7.4->langchain-core<0.4.0,>=0.3.0->langchain-elasticsearch) (2.20.1)\n",
      "Requirement already satisfied: anyio in c:\\users\\ignacio\\anaconda3\\lib\\site-packages (from httpx<1,>=0.23.0->langsmith<0.4,>=0.1.125->langchain-core<0.4.0,>=0.3.0->langchain-elasticsearch) (4.2.0)\n",
      "Requirement already satisfied: httpcore==1.* in c:\\users\\ignacio\\anaconda3\\lib\\site-packages (from httpx<1,>=0.23.0->langsmith<0.4,>=0.1.125->langchain-core<0.4.0,>=0.3.0->langchain-elasticsearch) (1.0.2)\n",
      "Requirement already satisfied: idna in c:\\users\\ignacio\\anaconda3\\lib\\site-packages (from httpx<1,>=0.23.0->langsmith<0.4,>=0.1.125->langchain-core<0.4.0,>=0.3.0->langchain-elasticsearch) (3.7)\n",
      "Requirement already satisfied: sniffio in c:\\users\\ignacio\\anaconda3\\lib\\site-packages (from httpx<1,>=0.23.0->langsmith<0.4,>=0.1.125->langchain-core<0.4.0,>=0.3.0->langchain-elasticsearch) (1.3.0)\n",
      "Requirement already satisfied: h11<0.15,>=0.13 in c:\\users\\ignacio\\anaconda3\\lib\\site-packages (from httpcore==1.*->httpx<1,>=0.23.0->langsmith<0.4,>=0.1.125->langchain-core<0.4.0,>=0.3.0->langchain-elasticsearch) (0.14.0)\n",
      "Requirement already satisfied: charset-normalizer<4,>=2 in c:\\users\\ignacio\\anaconda3\\lib\\site-packages (from requests<3,>=2->langsmith<0.4,>=0.1.125->langchain-core<0.4.0,>=0.3.0->langchain-elasticsearch) (3.3.2)\n",
      "Downloading langchain_elasticsearch-0.3.2-py3-none-any.whl (45 kB)\n",
      "Downloading elasticsearch-8.17.1-py3-none-any.whl (653 kB)\n",
      "   ---------------------------------------- 0.0/654.0 kB ? eta -:--:--\n",
      "   ---------------------------------------- 654.0/654.0 kB 6.3 MB/s eta 0:00:00\n",
      "Downloading elastic_transport-8.17.0-py3-none-any.whl (64 kB)\n",
      "Downloading simsimd-6.2.1-cp312-cp312-win_amd64.whl (87 kB)\n",
      "Installing collected packages: simsimd, elastic-transport, elasticsearch, langchain-elasticsearch\n",
      "Successfully installed elastic-transport-8.17.0 elasticsearch-8.17.1 langchain-elasticsearch-0.3.2 simsimd-6.2.1\n"
     ]
    }
   ],
   "source": [
    "!pip install langchain-elasticsearch"
   ]
  },
  {
   "cell_type": "code",
   "execution_count": 3,
   "metadata": {},
   "outputs": [
    {
     "name": "stderr",
     "output_type": "stream",
     "text": [
      "Python was not found; run without arguments to install from the Microsoft Store, or disable this shortcut from Settings > Manage App Execution Aliases.\n"
     ]
    }
   ],
   "source": [
    "!python3 -m pip install -qU jq lark langchain langchain-elasticsearch langchain_openai tiktoken\n",
    "\n",
    "from langchain_openai.embeddings import OpenAIEmbeddings\n",
    "from langchain_elasticsearch import ElasticsearchStore\n",
    "from langchain_openai.llms import OpenAI\n",
    "from langchain.retrievers.multi_query import MultiQueryRetriever\n",
    "from getpass import getpass"
   ]
  },
  {
   "cell_type": "markdown",
   "metadata": {},
   "source": [
    "## Connect to Elasticsearch\n",
    "\n",
    "ℹ️ We're using an Elastic Cloud deployment of Elasticsearch for this notebook. If you don't have an Elastic Cloud deployment, sign up [here](https://cloud.elastic.co/registration?utm_source=github&utm_content=elasticsearch-labs-notebook) for a free trial. \n",
    "\n",
    "We'll use the **Cloud ID** to identify our deployment, because we are using Elastic Cloud deployment. To find the Cloud ID for your deployment, go to https://cloud.elastic.co/deployments and select your deployment.\n",
    "\n",
    "We will use [ElasticsearchStore](https://api.python.langchain.com/en/latest/vectorstores/langchain.vectorstores.elasticsearch.ElasticsearchStore.html) to connect to our elastic cloud deployment, This would help create and index data easily.  We would also send list of documents that we created in the previous step"
   ]
  },
  {
   "cell_type": "code",
   "execution_count": 5,
   "metadata": {},
   "outputs": [
    {
     "name": "stdin",
     "output_type": "stream",
     "text": [
      "Elastic Cloud ID:  ········\n",
      "Elastic Api Key:  ········\n",
      "OpenAI API key:  ········\n"
     ]
    }
   ],
   "source": [
    "import os\n",
    "\n",
    "# https://www.elastic.co/search-labs/tutorials/install-elasticsearch/elastic-cloud#finding-your-cloud-id\n",
    "ELASTIC_CLOUD_ID = getpass.getpass(\"Elastic Cloud ID: \")\n",
    "#ELASTIC_CLOUD_ID  = os.getenv('ELASTIC_CLOUD_ID')\n",
    "\n",
    "# https://www.elastic.co/search-labs/tutorials/install-elasticsearch/elastic-cloud#creating-an-api-key\n",
    "ELASTIC_API_KEY = getpass.getpass(\"Elastic Api Key: \")\n",
    "#ELASTIC_API_KEY  = os.getenv('ELASTIC_API_KEY')\n",
    "\n",
    "# https://platform.openai.com/api-keys\n",
    "OPENAI_API_KEY = getpass.getpass(\"OpenAI API key: \")\n",
    "#OPENAI_API_KEY  = os.getenv('OPENAI_API_KEY')\n",
    "\n",
    "embeddings = OpenAIEmbeddings(openai_api_key=OPENAI_API_KEY)\n",
    "\n",
    "INDEX_NAME = \"ind_nam\"\n",
    "\n",
    "vectorstore = ElasticsearchStore(\n",
    "    es_cloud_id=ELASTIC_CLOUD_ID,\n",
    "    es_api_key=ELASTIC_API_KEY,\n",
    "    index_name=INDEX_NAME, #give it a meaningful name,\n",
    "    embedding=embeddings,\n",
    ")"
   ]
  },
  {
   "cell_type": "markdown",
   "metadata": {},
   "source": [
    "## Indexing Data into Elasticsearch\n",
    "Let's download the sample dataset and deserialize the document."
   ]
  },
  {
   "cell_type": "code",
   "execution_count": 7,
   "metadata": {},
   "outputs": [],
   "source": [
    "from urllib.request import urlopen\n",
    "import json\n",
    "\n",
    "url = \"https://raw.githubusercontent.com/elastic/elasticsearch-labs/main/example-apps/chatbot-rag-app/data/data.json\"\n",
    "\n",
    "response = urlopen(url)\n",
    "data = json.load(response)\n",
    "\n",
    "with open(\"temp.json\", \"w\") as json_file:\n",
    "    json.dump(data, json_file)"
   ]
  },
  {
   "cell_type": "markdown",
   "metadata": {},
   "source": [
    "### Split Documents into Passages\n",
    "\n",
    "We’ll chunk documents into passages in order to improve the retrieval specificity and to ensure that we can provide multiple passages within the context window of the final question answering prompt.\n",
    "\n",
    "Here we are chunking documents into 800 token passages with an overlap of 400 tokens.\n",
    "\n",
    "Here we are using a simple splitter but Langchain offers more advanced splitters to reduce the chance of context being lost."
   ]
  },
  {
   "cell_type": "code",
   "execution_count": 89,
   "metadata": {},
   "outputs": [
    {
     "name": "stdout",
     "output_type": "stream",
     "text": [
      "Collecting jq\n",
      "  Downloading jq-1.8.0-cp312-cp312-win_amd64.whl.metadata (7.2 kB)\n",
      "Downloading jq-1.8.0-cp312-cp312-win_amd64.whl (417 kB)\n",
      "Installing collected packages: jq\n",
      "Successfully installed jq-1.8.0\n"
     ]
    }
   ],
   "source": [
    "!pip install jq"
   ]
  },
  {
   "cell_type": "code",
   "execution_count": 9,
   "metadata": {},
   "outputs": [
    {
     "name": "stderr",
     "output_type": "stream",
     "text": [
      "C:\\Users\\Ignacio\\AppData\\Local\\Temp\\ipykernel_58256\\2558737373.py:19: DeprecationWarning: datetime.datetime.utcnow() is deprecated and scheduled for removal in a future version. Use timezone-aware objects to represent datetimes in UTC: datetime.datetime.now(datetime.UTC).\n",
      "  metadata[\"updated_at\"] = datetime.utcnow().isoformat()  # Example default: current UTC time\n"
     ]
    }
   ],
   "source": [
    "from langchain.document_loaders import JSONLoader\n",
    "from langchain.text_splitter import RecursiveCharacterTextSplitter\n",
    "\n",
    "\n",
    "from datetime import datetime\n",
    "\n",
    "def metadata_func(record: dict, metadata: dict) -> dict:\n",
    "    metadata[\"name\"] = record.get(\"name\", \"Unknown\")\n",
    "    metadata[\"summary\"] = record.get(\"summary\", \"\")\n",
    "    metadata[\"url\"] = record.get(\"url\", \"\")\n",
    "    metadata[\"category\"] = record.get(\"category\", \"Uncategorized\")\n",
    "\n",
    "    # Handle empty 'updated_at' field\n",
    "    updated_at = record.get(\"updated_at\", \"\").strip()\n",
    "\n",
    "    if updated_at:  # If it's not empty, keep it\n",
    "        metadata[\"updated_at\"] = updated_at\n",
    "    else:  # If empty, set a default date (or remove it)\n",
    "        metadata[\"updated_at\"] = datetime.utcnow().isoformat()  # Example default: current UTC time\n",
    "\n",
    "    return metadata\n",
    "\n",
    "\n",
    "\n",
    "# For more loaders https://python.langchain.com/docs/modules/data_connection/document_loaders/\n",
    "# And 3rd party loaders https://python.langchain.com/docs/modules/data_connection/document_loaders/#third-party-loaders\n",
    "loader = JSONLoader(\n",
    "    file_path=\"temp.json\",\n",
    "    jq_schema=\".[]\",\n",
    "    content_key=\"content\",\n",
    "    metadata_func=metadata_func,\n",
    ")\n",
    "\n",
    "text_splitter = RecursiveCharacterTextSplitter.from_tiktoken_encoder(\n",
    "    chunk_size=800, chunk_overlap=400 #define chunk size and chunk overlap\n",
    ")\n",
    "docs = loader.load_and_split(text_splitter=text_splitter)"
   ]
  },
  {
   "cell_type": "markdown",
   "metadata": {},
   "source": [
    "### Bulk Import Passages\n",
    "\n",
    "Now that we have split each document into the chunk size of 800, we will now index data to elasticsearch using [ElasticsearchStore.from_documents](https://api.python.langchain.com/en/latest/vectorstores/langchain.vectorstores.elasticsearch.ElasticsearchStore.html#langchain.vectorstores.elasticsearch.ElasticsearchStore.from_documents).\n",
    "\n",
    "We will use Cloud ID, Password and Index name values set in the `Create cloud deployment` step."
   ]
  },
  {
   "cell_type": "code",
   "execution_count": 11,
   "metadata": {},
   "outputs": [
    {
     "name": "stdout",
     "output_type": "stream",
     "text": [
      "Successfully indexed 15 documents.\n"
     ]
    }
   ],
   "source": [
    "from elasticsearch.helpers import bulk\n",
    "from elasticsearch import Elasticsearch\n",
    "\n",
    "# Initialize Elasticsearch client\n",
    "es_client = Elasticsearch(cloud_id=ELASTIC_CLOUD_ID, api_key=ELASTIC_API_KEY)\n",
    "\n",
    "def index_documents(es, docs):\n",
    "    actions = []\n",
    "    for i, doc in enumerate(docs):\n",
    "        try:\n",
    "            action = {\n",
    "                \"_index\": INDEX_NAME,\n",
    "                \"_id\": str(i),\n",
    "                \"_source\": {\n",
    "                    \"content\": doc.page_content,\n",
    "                    \"vector\": embeddings.embed_query(doc.page_content),  # Embeddings here\n",
    "                    \"metadata\": doc.metadata,\n",
    "                },\n",
    "            }\n",
    "            actions.append(action)\n",
    "        except Exception as e:\n",
    "            print(f\"Error in document {i}: {e}\")\n",
    "\n",
    "    try:\n",
    "        success, failed = bulk(es, actions, stats_only=False, raise_on_error=False)  # Capture all errors\n",
    "        print(f\"Successfully indexed {success} documents.\")\n",
    "\n",
    "        if failed:\n",
    "            print(f\"Failed to index {len(failed)} documents. Showing first 3 errors:\")\n",
    "            for error in failed[:3]:  # Print first 3 errors for debugging\n",
    "                print(error)\n",
    "\n",
    "    except Exception as e:\n",
    "        print(f\"Bulk indexing failed: {str(e)}\")\n",
    "\n",
    "# Run indexing\n",
    "index_documents(es_client, docs)\n"
   ]
  },
  {
   "cell_type": "code",
   "execution_count": 13,
   "metadata": {},
   "outputs": [],
   "source": [
    "documents = vectorstore.from_documents(\n",
    "    docs,\n",
    "    embeddings,\n",
    "    index_name=INDEX_NAME,\n",
    "    es_cloud_id=ELASTIC_CLOUD_ID,\n",
    "    es_api_key=ELASTIC_API_KEY,\n",
    ")\n",
    "\n",
    "llm = OpenAI(temperature=0, openai_api_key=OPENAI_API_KEY,max_tokens=200)\n",
    "\n",
    "retriever = MultiQueryRetriever.from_llm(vectorstore.as_retriever(), llm)"
   ]
  },
  {
   "cell_type": "markdown",
   "metadata": {},
   "source": [
    "# Question Answering with MultiQuery Retriever\n",
    "\n",
    "Now that we have the passages stored in Elasticsearch, we can now ask a question to get the relevant passages."
   ]
  },
  {
   "cell_type": "code",
   "execution_count": 15,
   "metadata": {},
   "outputs": [
    {
     "name": "stderr",
     "output_type": "stream",
     "text": [
      "INFO:langchain.retrievers.multi_query:Generated queries: ['1. Can you provide information on the sales team at NASA?', '2. How does the sales team operate within NASA?', '3. What are the responsibilities of the NASA sales team?']\n"
     ]
    },
    {
     "name": "stdout",
     "output_type": "stream",
     "text": [
      "---- Answer ----\n",
      "The NASA sales team is a part of the Americas region in the sales organization of the company. It is responsible for promoting and selling the company's products and services in North and South America. The team is led by two Area Vice-Presidents, Laura Martinez for North America and Gary Johnson for South America. They work closely with other departments, such as marketing, product development, and customer support, to ensure the company consistently delivers high-quality products and services to its clients.\n"
     ]
    }
   ],
   "source": [
    "from langchain.schema.runnable import RunnableParallel, RunnablePassthrough\n",
    "from langchain.prompts import ChatPromptTemplate, PromptTemplate\n",
    "from langchain.schema import format_document\n",
    "\n",
    "import logging\n",
    "\n",
    "logging.basicConfig()\n",
    "logging.getLogger(\"langchain.retrievers.multi_query\").setLevel(logging.INFO)\n",
    "\n",
    "LLM_CONTEXT_PROMPT = ChatPromptTemplate.from_template(\n",
    "    \"\"\"You are an assistant for question-answering tasks. Use the following pieces of retrieved context to answer the question. If you don't know the answer, just say that you don't know. Be as verbose and educational in your response as possible. \n",
    "    \n",
    "    context: {context}\n",
    "    Question: \"{question}\"\n",
    "    Answer:\n",
    "    \"\"\"\n",
    ")\n",
    "\n",
    "LLM_DOCUMENT_PROMPT = PromptTemplate.from_template(\n",
    "    \"\"\"\n",
    "---\n",
    "SOURCE: {name}\n",
    "{page_content}\n",
    "---\n",
    "\"\"\"\n",
    ")\n",
    "\n",
    "\n",
    "def _combine_documents(\n",
    "    docs, document_prompt=LLM_DOCUMENT_PROMPT, document_separator=\"\\n\\n\"\n",
    "):\n",
    "    doc_strings = [format_document(doc, document_prompt) for doc in docs]\n",
    "    return document_separator.join(doc_strings)\n",
    "\n",
    "\n",
    "_context = RunnableParallel(\n",
    "    context=retriever | _combine_documents,\n",
    "    question=RunnablePassthrough(),\n",
    ")\n",
    "\n",
    "chain = _context | LLM_CONTEXT_PROMPT | llm\n",
    "\n",
    "ans = chain.invoke(\"what is the nasa sales team?\")\n",
    "\n",
    "print(\"---- Answer ----\")\n",
    "print(ans)"
   ]
  },
  {
   "cell_type": "markdown",
   "metadata": {},
   "source": [
    "**Generate at least two new iteratioins of the previous cells - Be creative.** Did you master Multi-\n",
    "Query Retriever concepts through this lab?"
   ]
  },
  {
   "cell_type": "code",
   "execution_count": 17,
   "metadata": {},
   "outputs": [
    {
     "name": "stderr",
     "output_type": "stream",
     "text": [
      "INFO:langchain.retrievers.multi_query:Generated queries: ['1. What is the nature of collaboration between NASA and private companies?', '2. Can you explain the partnership between NASA and private companies?', '3. In what ways does NASA work together with private companies?']\n"
     ]
    }
   ],
   "source": [
    "ans2 = chain.invoke(\"How does NASA collaborate with private companies?\")"
   ]
  },
  {
   "cell_type": "code",
   "execution_count": 19,
   "metadata": {},
   "outputs": [
    {
     "name": "stdout",
     "output_type": "stream",
     "text": [
      "---- Answer 2 ----\n",
      "\n",
      "NASA, which stands for North America South America region, is a part of the Americas region in the sales organization. It has two Area Vice-Presidents, Laura Martinez for North America and Gary Johnson for South America. As a part of the sales team, NASA collaborates with private companies by identifying and pursuing new business opportunities, nurturing existing client relationships, and ensuring customer satisfaction. They also work closely with other departments, such as marketing, product development, and customer support, to deliver high-quality products and services to their clients. This collaboration helps NASA to effectively serve their customers and achieve their business objectives.\n"
     ]
    }
   ],
   "source": [
    "print(\"---- Answer 2 ----\")\n",
    "print(ans2)"
   ]
  },
  {
   "cell_type": "code",
   "execution_count": 21,
   "metadata": {},
   "outputs": [
    {
     "name": "stderr",
     "output_type": "stream",
     "text": [
      "INFO:langchain.retrievers.multi_query:Generated queries: ['1. What is the budget allocated by NASA for their projects?', '2. How does NASA fund their projects financially?', '3. Can you provide information on the financial resources utilized by NASA for their projects?']\n"
     ]
    },
    {
     "name": "stdout",
     "output_type": "stream",
     "text": [
      "\n",
      "---- Answer 3 ----\n",
      "I don't know the answer to that question as it is not mentioned in the retrieved context. The context only discusses the sales organization structure and objectives of a tech company, not the budget or funding of NASA.\n"
     ]
    }
   ],
   "source": [
    "ans3 = chain.invoke(\"How much money does NASA use for their projects?\")\n",
    "print(\"\\n---- Answer 3 ----\")\n",
    "print(ans3)"
   ]
  },
  {
   "cell_type": "code",
   "execution_count": null,
   "metadata": {},
   "outputs": [],
   "source": []
  }
 ],
 "metadata": {
  "kernelspec": {
   "display_name": "Python 3 (ipykernel)",
   "language": "python",
   "name": "python3"
  },
  "language_info": {
   "codemirror_mode": {
    "name": "ipython",
    "version": 3
   },
   "file_extension": ".py",
   "mimetype": "text/x-python",
   "name": "python",
   "nbconvert_exporter": "python",
   "pygments_lexer": "ipython3",
   "version": "3.12.7"
  }
 },
 "nbformat": 4,
 "nbformat_minor": 4
}
