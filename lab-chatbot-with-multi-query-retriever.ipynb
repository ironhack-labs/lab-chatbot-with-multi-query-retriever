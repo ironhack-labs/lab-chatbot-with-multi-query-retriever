{
 "cells": [
  {
   "cell_type": "markdown",
   "metadata": {},
   "source": [
    "# Question Answering with LangChain, OpenAI, and MultiQuery Retriever\n",
    "\n",
    "This interactive workbook demonstrates example of Elasticsearch's [MultiQuery Retriever](https://api.python.langchain.com/en/latest/retrievers/langchain.retrievers.multi_query.MultiQueryRetriever.html) to generate similar queries for a given user input and apply all queries to retrieve a larger set of relevant documents from a vectorstore.\n",
    "\n",
    "Before we begin, we first split the fictional workplace documents into passages with `langchain` and uses OpenAI to transform these passages into embeddings and then store these into Elasticsearch.\n",
    "\n",
    "We will then ask a question, generate similar questions using langchain and OpenAI, retrieve relevant passages from the vector store, and use langchain and OpenAI again to provide a summary for the questions."
   ]
  },
  {
   "cell_type": "markdown",
   "metadata": {},
   "source": [
    "## Install packages and import modules"
   ]
  },
  {
   "cell_type": "code",
   "execution_count": 1,
   "metadata": {},
   "outputs": [
    {
     "name": "stderr",
     "output_type": "stream",
     "text": [
      "\n",
      "[notice] A new release of pip is available: 24.3.1 -> 25.0\n",
      "[notice] To update, run: C:\\Users\\larry\\AppData\\Local\\Microsoft\\WindowsApps\\PythonSoftwareFoundation.Python.3.11_qbz5n2kfra8p0\\python.exe -m pip install --upgrade pip\n"
     ]
    }
   ],
   "source": [
    "!python3 -m pip install -qU jq lark langchain langchain-elasticsearch langchain_openai tiktoken"
   ]
  },
  {
   "cell_type": "code",
   "execution_count": 2,
   "metadata": {},
   "outputs": [
    {
     "name": "stdout",
     "output_type": "stream",
     "text": [
      "Collecting langchain_elasticsearch\n",
      "  Using cached langchain_elasticsearch-0.3.2-py3-none-any.whl.metadata (8.3 kB)\n",
      "Collecting elasticsearch<9.0.0,>=8.13.1 (from elasticsearch[vectorstore-mmr]<9.0.0,>=8.13.1->langchain_elasticsearch)\n",
      "  Using cached elasticsearch-8.17.1-py3-none-any.whl.metadata (8.8 kB)\n",
      "Requirement already satisfied: langchain-core<0.4.0,>=0.3.0 in c:\\users\\larry\\anaconda3\\envs\\langchain_env\\lib\\site-packages (from langchain_elasticsearch) (0.3.32)\n",
      "Collecting elastic-transport<9,>=8.15.1 (from elasticsearch<9.0.0,>=8.13.1->elasticsearch[vectorstore-mmr]<9.0.0,>=8.13.1->langchain_elasticsearch)\n",
      "  Using cached elastic_transport-8.17.0-py3-none-any.whl.metadata (3.6 kB)\n",
      "Requirement already satisfied: numpy>=1 in c:\\users\\larry\\anaconda3\\envs\\langchain_env\\lib\\site-packages (from elasticsearch[vectorstore-mmr]<9.0.0,>=8.13.1->langchain_elasticsearch) (1.26.4)\n",
      "Collecting simsimd>=3 (from elasticsearch[vectorstore-mmr]<9.0.0,>=8.13.1->langchain_elasticsearch)\n",
      "  Downloading simsimd-6.2.1-cp310-cp310-win_amd64.whl.metadata (67 kB)\n",
      "Requirement already satisfied: PyYAML>=5.3 in c:\\users\\larry\\anaconda3\\envs\\langchain_env\\lib\\site-packages (from langchain-core<0.4.0,>=0.3.0->langchain_elasticsearch) (6.0.2)\n",
      "Requirement already satisfied: jsonpatch<2.0,>=1.33 in c:\\users\\larry\\anaconda3\\envs\\langchain_env\\lib\\site-packages (from langchain-core<0.4.0,>=0.3.0->langchain_elasticsearch) (1.33)\n",
      "Requirement already satisfied: langsmith<0.4,>=0.1.125 in c:\\users\\larry\\anaconda3\\envs\\langchain_env\\lib\\site-packages (from langchain-core<0.4.0,>=0.3.0->langchain_elasticsearch) (0.1.147)\n",
      "Requirement already satisfied: packaging<25,>=23.2 in c:\\users\\larry\\anaconda3\\envs\\langchain_env\\lib\\site-packages (from langchain-core<0.4.0,>=0.3.0->langchain_elasticsearch) (24.2)\n",
      "Requirement already satisfied: pydantic<3.0.0,>=2.5.2 in c:\\users\\larry\\anaconda3\\envs\\langchain_env\\lib\\site-packages (from langchain-core<0.4.0,>=0.3.0->langchain_elasticsearch) (2.10.6)\n",
      "Requirement already satisfied: tenacity!=8.4.0,<10.0.0,>=8.1.0 in c:\\users\\larry\\anaconda3\\envs\\langchain_env\\lib\\site-packages (from langchain-core<0.4.0,>=0.3.0->langchain_elasticsearch) (8.5.0)\n",
      "Requirement already satisfied: typing-extensions>=4.7 in c:\\users\\larry\\anaconda3\\envs\\langchain_env\\lib\\site-packages (from langchain-core<0.4.0,>=0.3.0->langchain_elasticsearch) (4.12.2)\n",
      "Requirement already satisfied: urllib3<3,>=1.26.2 in c:\\users\\larry\\anaconda3\\envs\\langchain_env\\lib\\site-packages (from elastic-transport<9,>=8.15.1->elasticsearch<9.0.0,>=8.13.1->elasticsearch[vectorstore-mmr]<9.0.0,>=8.13.1->langchain_elasticsearch) (2.3.0)\n",
      "Requirement already satisfied: certifi in c:\\users\\larry\\anaconda3\\envs\\langchain_env\\lib\\site-packages (from elastic-transport<9,>=8.15.1->elasticsearch<9.0.0,>=8.13.1->elasticsearch[vectorstore-mmr]<9.0.0,>=8.13.1->langchain_elasticsearch) (2024.12.14)\n",
      "Requirement already satisfied: jsonpointer>=1.9 in c:\\users\\larry\\anaconda3\\envs\\langchain_env\\lib\\site-packages (from jsonpatch<2.0,>=1.33->langchain-core<0.4.0,>=0.3.0->langchain_elasticsearch) (3.0.0)\n",
      "Requirement already satisfied: httpx<1,>=0.23.0 in c:\\users\\larry\\anaconda3\\envs\\langchain_env\\lib\\site-packages (from langsmith<0.4,>=0.1.125->langchain-core<0.4.0,>=0.3.0->langchain_elasticsearch) (0.28.1)\n",
      "Requirement already satisfied: orjson<4.0.0,>=3.9.14 in c:\\users\\larry\\anaconda3\\envs\\langchain_env\\lib\\site-packages (from langsmith<0.4,>=0.1.125->langchain-core<0.4.0,>=0.3.0->langchain_elasticsearch) (3.10.15)\n",
      "Requirement already satisfied: requests<3,>=2 in c:\\users\\larry\\anaconda3\\envs\\langchain_env\\lib\\site-packages (from langsmith<0.4,>=0.1.125->langchain-core<0.4.0,>=0.3.0->langchain_elasticsearch) (2.32.3)\n",
      "Requirement already satisfied: requests-toolbelt<2.0.0,>=1.0.0 in c:\\users\\larry\\anaconda3\\envs\\langchain_env\\lib\\site-packages (from langsmith<0.4,>=0.1.125->langchain-core<0.4.0,>=0.3.0->langchain_elasticsearch) (1.0.0)\n",
      "Requirement already satisfied: annotated-types>=0.6.0 in c:\\users\\larry\\anaconda3\\envs\\langchain_env\\lib\\site-packages (from pydantic<3.0.0,>=2.5.2->langchain-core<0.4.0,>=0.3.0->langchain_elasticsearch) (0.7.0)\n",
      "Requirement already satisfied: pydantic-core==2.27.2 in c:\\users\\larry\\anaconda3\\envs\\langchain_env\\lib\\site-packages (from pydantic<3.0.0,>=2.5.2->langchain-core<0.4.0,>=0.3.0->langchain_elasticsearch) (2.27.2)\n",
      "Requirement already satisfied: anyio in c:\\users\\larry\\anaconda3\\envs\\langchain_env\\lib\\site-packages (from httpx<1,>=0.23.0->langsmith<0.4,>=0.1.125->langchain-core<0.4.0,>=0.3.0->langchain_elasticsearch) (4.8.0)\n",
      "Requirement already satisfied: httpcore==1.* in c:\\users\\larry\\anaconda3\\envs\\langchain_env\\lib\\site-packages (from httpx<1,>=0.23.0->langsmith<0.4,>=0.1.125->langchain-core<0.4.0,>=0.3.0->langchain_elasticsearch) (1.0.7)\n",
      "Requirement already satisfied: idna in c:\\users\\larry\\anaconda3\\envs\\langchain_env\\lib\\site-packages (from httpx<1,>=0.23.0->langsmith<0.4,>=0.1.125->langchain-core<0.4.0,>=0.3.0->langchain_elasticsearch) (3.10)\n",
      "Requirement already satisfied: h11<0.15,>=0.13 in c:\\users\\larry\\anaconda3\\envs\\langchain_env\\lib\\site-packages (from httpcore==1.*->httpx<1,>=0.23.0->langsmith<0.4,>=0.1.125->langchain-core<0.4.0,>=0.3.0->langchain_elasticsearch) (0.14.0)\n",
      "Requirement already satisfied: charset-normalizer<4,>=2 in c:\\users\\larry\\anaconda3\\envs\\langchain_env\\lib\\site-packages (from requests<3,>=2->langsmith<0.4,>=0.1.125->langchain-core<0.4.0,>=0.3.0->langchain_elasticsearch) (3.4.1)\n",
      "Requirement already satisfied: exceptiongroup>=1.0.2 in c:\\users\\larry\\anaconda3\\envs\\langchain_env\\lib\\site-packages (from anyio->httpx<1,>=0.23.0->langsmith<0.4,>=0.1.125->langchain-core<0.4.0,>=0.3.0->langchain_elasticsearch) (1.2.2)\n",
      "Requirement already satisfied: sniffio>=1.1 in c:\\users\\larry\\anaconda3\\envs\\langchain_env\\lib\\site-packages (from anyio->httpx<1,>=0.23.0->langsmith<0.4,>=0.1.125->langchain-core<0.4.0,>=0.3.0->langchain_elasticsearch) (1.3.1)\n",
      "Using cached langchain_elasticsearch-0.3.2-py3-none-any.whl (45 kB)\n",
      "Using cached elasticsearch-8.17.1-py3-none-any.whl (653 kB)\n",
      "Using cached elastic_transport-8.17.0-py3-none-any.whl (64 kB)\n",
      "Downloading simsimd-6.2.1-cp310-cp310-win_amd64.whl (86 kB)\n",
      "Installing collected packages: simsimd, elastic-transport, elasticsearch, langchain_elasticsearch\n",
      "Successfully installed elastic-transport-8.17.0 elasticsearch-8.17.1 langchain_elasticsearch-0.3.2 simsimd-6.2.1\n"
     ]
    }
   ],
   "source": [
    "!pip install langchain_elasticsearch"
   ]
  },
  {
   "cell_type": "code",
   "execution_count": 2,
   "metadata": {},
   "outputs": [],
   "source": [
    "from langchain_openai.embeddings import OpenAIEmbeddings\n",
    "from langchain_elasticsearch import ElasticsearchStore\n",
    "from langchain_openai.llms import OpenAI\n",
    "from langchain.retrievers.multi_query import MultiQueryRetriever\n",
    "from getpass import getpass"
   ]
  },
  {
   "cell_type": "markdown",
   "metadata": {},
   "source": [
    "## Connect to Elasticsearch\n",
    "\n",
    "ℹ️ We're using an Elastic Cloud deployment of Elasticsearch for this notebook. If you don't have an Elastic Cloud deployment, sign up [here](https://cloud.elastic.co/registration?utm_source=github&utm_content=elasticsearch-labs-notebook) for a free trial. \n",
    "\n",
    "We'll use the **Cloud ID** to identify our deployment, because we are using Elastic Cloud deployment. To find the Cloud ID for your deployment, go to https://cloud.elastic.co/deployments and select your deployment.\n",
    "\n",
    "We will use [ElasticsearchStore](https://api.python.langchain.com/en/latest/vectorstores/langchain.vectorstores.elasticsearch.ElasticsearchStore.html) to connect to our elastic cloud deployment, This would help create and index data easily.  We would also send list of documents that we created in the previous step"
   ]
  },
  {
   "cell_type": "code",
   "execution_count": 6,
   "metadata": {},
   "outputs": [],
   "source": [
    "# https://www.elastic.co/search-labs/tutorials/install-elasticsearch/elastic-cloud#finding-your-cloud-id\n",
    "ELASTIC_CLOUD_ID = getpass(\"Elastic Cloud ID: \")\n",
    "\n",
    "# https://www.elastic.co/search-labs/tutorials/install-elasticsearch/elastic-cloud#creating-an-api-key\n",
    "ELASTIC_API_KEY = getpass(\"Elastic Api Key: \")\n",
    "\n",
    "# https://platform.openai.com/api-keys\n",
    "OPENAI_API_KEY = getpass(\"OpenAI API key: \")\n",
    "\n",
    "embeddings = OpenAIEmbeddings(openai_api_key=OPENAI_API_KEY)\n",
    "\n",
    "vectorstore = ElasticsearchStore(\n",
    "    es_cloud_id=ELASTIC_CLOUD_ID,\n",
    "    es_api_key=ELASTIC_API_KEY,\n",
    "    index_name=\"multi_query_index\", #give it a meaningful name\n",
    "    embedding=embeddings,\n",
    ")"
   ]
  },
  {
   "cell_type": "markdown",
   "metadata": {},
   "source": [
    "## Indexing Data into Elasticsearch\n",
    "Let's download the sample dataset and deserialize the document."
   ]
  },
  {
   "cell_type": "code",
   "execution_count": 7,
   "metadata": {},
   "outputs": [],
   "source": [
    "from urllib.request import urlopen\n",
    "import json\n",
    "\n",
    "url = \"https://raw.githubusercontent.com/elastic/elasticsearch-labs/main/example-apps/chatbot-rag-app/data/data.json\"\n",
    "\n",
    "response = urlopen(url)\n",
    "data = json.load(response)\n",
    "\n",
    "with open(\"temp.json\", \"w\") as json_file:\n",
    "    json.dump(data, json_file)"
   ]
  },
  {
   "cell_type": "code",
   "execution_count": 11,
   "metadata": {},
   "outputs": [
    {
     "name": "stdout",
     "output_type": "stream",
     "text": [
      "[{'content': \"Effective: March 2020\\nPurpose\\n\\nThe purpose of this full-time work-from-home policy is to provide guidelines and support for employees to conduct their work remotely, ensuring the continuity and productivity of business operations during the COVID-19 pandemic and beyond.\\nScope\\n\\nThis policy applies to all employees who are eligible for remote work as determined by their role and responsibilities. It is designed to allow employees to work from home full time while maintaining the same level of performance and collaboration as they would in the office.\\nEligibility\\n\\nEmployees who can perform their work duties remotely and have received approval from their direct supervisor and the HR department are eligible for this work-from-home arrangement.\\nEquipment and Resources\\n\\nThe necessary equipment and resources will be provided to employees for remote work, including a company-issued laptop, software licenses, and access to secure communication tools. Employees are responsible for maintaining and protecting the company's equipment and data.\\nWorkspace\\n\\nEmployees working from home are responsible for creating a comfortable and safe workspace that is conducive to productivity. This includes ensuring that their home office is ergonomically designed, well-lit, and free from distractions.\\nCommunication\\n\\nEffective communication is vital for successful remote work. Employees are expected to maintain regular communication with their supervisors, colleagues, and team members through email, phone calls, video conferences, and other approved communication tools.\\nWork Hours and Availability\\n\\nEmployees are expected to maintain their regular work hours and be available during normal business hours, unless otherwise agreed upon with their supervisor. Any changes to work hours or availability must be communicated to the employee's supervisor and the HR department.\\nPerformance Expectations\\n\\nEmployees working from home are expected to maintain the same level of performance and productivity as if they were working in the office. Supervisors and team members will collaborate to establish clear expectations and goals for remote work.\\nTime Tracking and Overtime\\n\\nEmployees are required to accurately track their work hours using the company's time tracking system. Non-exempt employees must obtain approval from their supervisor before working overtime.\\nConfidentiality and Data Security\\n\\nEmployees must adhere to the company's confidentiality and data security policies while working from home. This includes safeguarding sensitive information, securing personal devices and internet connections, and reporting any security breaches to the IT department.\\nHealth and Well-being\\n\\nThe company encourages employees to prioritize their health and well-being while working from home. This includes taking regular breaks, maintaining a work-life balance, and seeking support from supervisors and colleagues when needed.\\nPolicy Review and Updates\\n\\nThis work-from-home policy will be reviewed periodically and updated as necessary, taking into account changes in public health guidance, business needs, and employee feedback.\\nQuestions and Concerns\\n\\nEmployees are encouraged to direct any questions or concerns about this policy to their supervisor or the HR department.\\n\", 'summary': 'This policy outlines the guidelines for full-time remote work, including eligibility, equipment and resources, workspace requirements, communication expectations, performance expectations, time tracking and overtime, confidentiality and data security, health and well-being, and policy reviews and updates. Employees are encouraged to direct any questions or concerns', 'name': 'Work From Home Policy', 'url': './sharepoint/Work from home policy.txt', 'created_on': '2020-03-01', 'updated_at': '2020-03-01', 'category': 'teams', '_run_ml_inference': True, 'rolePermissions': ['demo', 'manager']}, {'content': 'Starting May 2022, the company will be implementing a two-day in-office work requirement per week for all eligible employees. Please coordinate with your supervisor and HR department to schedule your in-office workdays while continuing to follow all safety protocols.\\n', 'summary': 'Starting May 2022, employees will need to work two days a week in the office. Coordinate with your supervisor and HR department for these days while following safety protocols.', 'name': 'April Work From Home Update', 'url': './sharepoint/April work from home update.txt', 'created_on': '2022-04-29', 'updated_at': '2022-04-29', 'category': 'teams', '_run_ml_inference': True, 'rolePermissions': ['demo', 'manager']}, {'content': 'As we continue to prioritize the well-being of our employees, we are making a slight adjustment to our hybrid work policy. Starting May 1, 2023, employees will be required to work from the office three days a week, with two days designated for remote work. Please communicate with your supervisor and HR department to establish your updated in-office workdays.\\n', 'summary': 'Starting May 1, 2023, our hybrid work policy will require employees to work from the office three days a week and two days remotely.', 'name': 'Wfh Policy Update May 2023', 'url': './sharepoint/WFH policy update May 2023.txt', 'created_on': '2023-05-01', 'updated_at': '2023-05-01', 'category': 'teams', '_run_ml_inference': True, 'rolePermissions': ['demo', 'manager']}, {'content': \"Executive Summary:\\nThis sales strategy document outlines the key objectives, focus areas, and action plans for our tech company's sales operations in fiscal year 2024. Our primary goal is to increase revenue, expand market share, and strengthen customer relationships in our target markets.\\n\\nI. Objectives for Fiscal Year 2024\\n\\nIncrease revenue by 20% compared to fiscal year 2023.\\nExpand market share in key segments by 15%.\\nRetain 95% of existing customers and increase customer satisfaction ratings.\\nLaunch at least two new products or services in high-demand market segments.\\n\\nII. Focus Areas\\nA. Target Markets:\\nContinue to serve existing markets with a focus on high-growth industries.\\nIdentify and penetrate new markets with high potential for our products and services.\\n\\nB. Customer Segmentation:\\nStrengthen relationships with key accounts and strategic partners.\\nPursue new customers in underserved market segments.\\nDevelop tailored offerings for different customer segments based on their needs and preferences.\\n\\nC. Product/Service Portfolio:\\nOptimize the existing product/service portfolio by focusing on high-demand solutions.\\nDevelop and launch innovative products/services in emerging technology areas.\\nEnhance post-sales support and customer service to improve customer satisfaction.\\n\\nIII. Action Plans\\nA. Sales Team Development:\\nExpand the sales team to cover new markets and industries.\\nProvide ongoing training to sales staff on product knowledge, sales techniques, and industry trends.\\nImplement a performance-based incentive system to reward top performers.\\n\\nB. Marketing and Promotion:\\nDevelop targeted marketing campaigns for different customer segments and industries.\\nLeverage digital marketing channels to increase brand visibility and lead generation.\\nParticipate in industry events and trade shows to showcase our products and services.\\n\\nC. Partner Ecosystem:\\nStrengthen existing partnerships and establish new strategic alliances to expand market reach.\\nCollaborate with partners on joint marketing and sales initiatives.\\nProvide partner training and support to ensure they effectively represent our products and services.\\n\\nD. Customer Success:\\nImplement a proactive customer success program to improve customer retention and satisfaction.\\nDevelop a dedicated customer support team to address customer inquiries and concerns promptly.\\nCollect and analyze customer feedback to identify areas for improvement in our products, services, and processes.\\n\\nIV. Monitoring and Evaluation\\nEstablish key performance indicators (KPIs) to track progress toward our objectives.\\nConduct regular sales team meetings to review performance, share best practices, and address challenges.\\nConduct quarterly reviews of our sales strategy to ensure alignment with market trends and adjust as needed.\\n\\nBy following this sales strategy for fiscal year 2024, our tech company aims to achieve significant growth and success in our target markets, while also providing exceptional value and service to our customers.\\n\", 'summary': \"This sales strategy document outlines objectives, focus areas, and action plans for our tech company's sales operations in fiscal year 2024. Our primary goal is to increase revenue, expand market share, and strengthen customer relationships in our target markets. Focus areas include targeting new markets, segmenting customers, enhancing\", 'name': 'Fy2024 Company Sales Strategy', 'url': './sharepoint/FY2024 Company Sales Strategy.txt', 'category': 'teams', 'created_on': '2023-04-15', 'updated_at': '2023-04-15', '_run_ml_inference': True, 'rolePermissions': ['demo', 'manager']}, {'content': \"Purpose\\n\\nThe purpose of this vacation policy is to outline the guidelines and procedures for requesting and taking time off from work for personal and leisure purposes. This policy aims to promote a healthy work-life balance and encourage employees to take time to rest and recharge.\\nScope\\n\\nThis policy applies to all full-time and part-time employees who have completed their probationary period.\\nVacation Accrual\\n\\nFull-time employees accrue vacation time at a rate of [X hours] per month, equivalent to [Y days] per year. Part-time employees accrue vacation time on a pro-rata basis, calculated according to their scheduled work hours.\\n\\nVacation time will begin to accrue from the first day of employment, but employees are eligible to take vacation time only after completing their probationary period. Unused vacation time will be carried over to the next year, up to a maximum of [Z days]. Any additional unused vacation time will be forfeited.\\nVacation Scheduling\\n\\nEmployees are required to submit vacation requests to their supervisor at least [A weeks] in advance, specifying the start and end dates of their vacation. Supervisors will review and approve vacation requests based on business needs, ensuring adequate coverage during the employee's absence.\\n\\nEmployees are encouraged to plan their vacations around the company's peak and non-peak periods to minimize disruptions. Vacation requests during peak periods may be subject to limitations and require additional advance notice.\\nVacation Pay\\n\\nEmployees will receive their regular pay during their approved vacation time. Vacation pay will be calculated based on the employee's average earnings over the [B weeks] preceding their vacation.\\nUnplanned Absences and Vacation Time\\n\\nIn the event of an unplanned absence due to illness or personal emergencies, employees may use their accrued vacation time, subject to supervisor approval. Employees must inform their supervisor as soon as possible and provide any required documentation upon their return to work.\\nVacation Time and Termination of Employment\\n\\nIf an employee's employment is terminated, they will be paid out for any unused vacation time, calculated based on their current rate of pay.\\nPolicy Review and Updates\\n\\nThis vacation policy will be reviewed periodically and updated as necessary, taking into account changes in labor laws, business needs, and employee feedback.\\nQuestions and Concerns\\n\\nEmployees are encouraged to direct any questions or concerns about this policy to their supervisor or the HR department.\\n\", 'summary': ': This policy outlines the guidelines and procedures for requesting and taking time off from work for personal and leisure purposes. Full-time employees accrue vacation time at a rate of [X hours] per month, equivalent to [Y days] per year. Vacation requests must be submitted to supervisors at least', 'name': 'Company Vacation Policy', 'url': 'https://enterprisesearch.sharepoint.com/:t:/s/MSBuilddemo/ES6rw9bKZxVBobG1WUoJpikBF9Bhx1pw_GvJWbsg-Z_HNA?e=faSHVt', 'created_on': '2018-04-15', 'updated_at': '2018-04-16', 'category': 'sharepoint', '_run_ml_inference': True, 'rolePermissions': ['demo', 'manager']}]\n"
     ]
    }
   ],
   "source": [
    "# To confirm the expected data content\n",
    "with open(\"temp.json\", \"r\") as f:\n",
    "    data = json.load(f)\n",
    "print(data[:5])  # Print the first 5 records"
   ]
  },
  {
   "cell_type": "code",
   "execution_count": 29,
   "metadata": {},
   "outputs": [
    {
     "data": {
      "text/plain": [
       "0"
      ]
     },
     "metadata": {},
     "output_type": "display_data"
    },
    {
     "data": {
      "text/plain": [
       "9"
      ]
     },
     "metadata": {},
     "output_type": "display_data"
    },
    {
     "data": {
      "text/plain": [
       "{'content': \"Effective: March 2020\\nPurpose\\n\\nThe purpose of this full-time work-from-home policy is to provide guidelines and support for employees to conduct their work remotely, ensuring the continuity and productivity of business operations during the COVID-19 pandemic and beyond.\\nScope\\n\\nThis policy applies to all employees who are eligible for remote work as determined by their role and responsibilities. It is designed to allow employees to work from home full time while maintaining the same level of performance and collaboration as they would in the office.\\nEligibility\\n\\nEmployees who can perform their work duties remotely and have received approval from their direct supervisor and the HR department are eligible for this work-from-home arrangement.\\nEquipment and Resources\\n\\nThe necessary equipment and resources will be provided to employees for remote work, including a company-issued laptop, software licenses, and access to secure communication tools. Employees are responsible for maintaining and protecting the company's equipment and data.\\nWorkspace\\n\\nEmployees working from home are responsible for creating a comfortable and safe workspace that is conducive to productivity. This includes ensuring that their home office is ergonomically designed, well-lit, and free from distractions.\\nCommunication\\n\\nEffective communication is vital for successful remote work. Employees are expected to maintain regular communication with their supervisors, colleagues, and team members through email, phone calls, video conferences, and other approved communication tools.\\nWork Hours and Availability\\n\\nEmployees are expected to maintain their regular work hours and be available during normal business hours, unless otherwise agreed upon with their supervisor. Any changes to work hours or availability must be communicated to the employee's supervisor and the HR department.\\nPerformance Expectations\\n\\nEmployees working from home are expected to maintain the same level of performance and productivity as if they were working in the office. Supervisors and team members will collaborate to establish clear expectations and goals for remote work.\\nTime Tracking and Overtime\\n\\nEmployees are required to accurately track their work hours using the company's time tracking system. Non-exempt employees must obtain approval from their supervisor before working overtime.\\nConfidentiality and Data Security\\n\\nEmployees must adhere to the company's confidentiality and data security policies while working from home. This includes safeguarding sensitive information, securing personal devices and internet connections, and reporting any security breaches to the IT department.\\nHealth and Well-being\\n\\nThe company encourages employees to prioritize their health and well-being while working from home. This includes taking regular breaks, maintaining a work-life balance, and seeking support from supervisors and colleagues when needed.\\nPolicy Review and Updates\\n\\nThis work-from-home policy will be reviewed periodically and updated as necessary, taking into account changes in public health guidance, business needs, and employee feedback.\\nQuestions and Concerns\\n\\nEmployees are encouraged to direct any questions or concerns about this policy to their supervisor or the HR department.\\n\",\n",
       " 'summary': 'This policy outlines the guidelines for full-time remote work, including eligibility, equipment and resources, workspace requirements, communication expectations, performance expectations, time tracking and overtime, confidentiality and data security, health and well-being, and policy reviews and updates. Employees are encouraged to direct any questions or concerns',\n",
       " 'name': 'Work From Home Policy',\n",
       " 'url': './sharepoint/Work from home policy.txt',\n",
       " 'created_on': '2020-03-01',\n",
       " 'updated_at': '2020-03-01',\n",
       " 'category': 'teams',\n",
       " '_run_ml_inference': True,\n",
       " 'rolePermissions': ['demo', 'manager']}"
      ]
     },
     "metadata": {},
     "output_type": "display_data"
    },
    {
     "data": {
      "text/plain": [
       "1"
      ]
     },
     "metadata": {},
     "output_type": "display_data"
    },
    {
     "data": {
      "text/plain": [
       "9"
      ]
     },
     "metadata": {},
     "output_type": "display_data"
    },
    {
     "data": {
      "text/plain": [
       "{'content': 'Starting May 2022, the company will be implementing a two-day in-office work requirement per week for all eligible employees. Please coordinate with your supervisor and HR department to schedule your in-office workdays while continuing to follow all safety protocols.\\n',\n",
       " 'summary': 'Starting May 2022, employees will need to work two days a week in the office. Coordinate with your supervisor and HR department for these days while following safety protocols.',\n",
       " 'name': 'April Work From Home Update',\n",
       " 'url': './sharepoint/April work from home update.txt',\n",
       " 'created_on': '2022-04-29',\n",
       " 'updated_at': '2022-04-29',\n",
       " 'category': 'teams',\n",
       " '_run_ml_inference': True,\n",
       " 'rolePermissions': ['demo', 'manager']}"
      ]
     },
     "metadata": {},
     "output_type": "display_data"
    },
    {
     "data": {
      "text/plain": [
       "2"
      ]
     },
     "metadata": {},
     "output_type": "display_data"
    },
    {
     "data": {
      "text/plain": [
       "9"
      ]
     },
     "metadata": {},
     "output_type": "display_data"
    },
    {
     "data": {
      "text/plain": [
       "{'content': 'As we continue to prioritize the well-being of our employees, we are making a slight adjustment to our hybrid work policy. Starting May 1, 2023, employees will be required to work from the office three days a week, with two days designated for remote work. Please communicate with your supervisor and HR department to establish your updated in-office workdays.\\n',\n",
       " 'summary': 'Starting May 1, 2023, our hybrid work policy will require employees to work from the office three days a week and two days remotely.',\n",
       " 'name': 'Wfh Policy Update May 2023',\n",
       " 'url': './sharepoint/WFH policy update May 2023.txt',\n",
       " 'created_on': '2023-05-01',\n",
       " 'updated_at': '2023-05-01',\n",
       " 'category': 'teams',\n",
       " '_run_ml_inference': True,\n",
       " 'rolePermissions': ['demo', 'manager']}"
      ]
     },
     "metadata": {},
     "output_type": "display_data"
    },
    {
     "data": {
      "text/plain": [
       "3"
      ]
     },
     "metadata": {},
     "output_type": "display_data"
    },
    {
     "data": {
      "text/plain": [
       "9"
      ]
     },
     "metadata": {},
     "output_type": "display_data"
    },
    {
     "data": {
      "text/plain": [
       "{'content': \"Executive Summary:\\nThis sales strategy document outlines the key objectives, focus areas, and action plans for our tech company's sales operations in fiscal year 2024. Our primary goal is to increase revenue, expand market share, and strengthen customer relationships in our target markets.\\n\\nI. Objectives for Fiscal Year 2024\\n\\nIncrease revenue by 20% compared to fiscal year 2023.\\nExpand market share in key segments by 15%.\\nRetain 95% of existing customers and increase customer satisfaction ratings.\\nLaunch at least two new products or services in high-demand market segments.\\n\\nII. Focus Areas\\nA. Target Markets:\\nContinue to serve existing markets with a focus on high-growth industries.\\nIdentify and penetrate new markets with high potential for our products and services.\\n\\nB. Customer Segmentation:\\nStrengthen relationships with key accounts and strategic partners.\\nPursue new customers in underserved market segments.\\nDevelop tailored offerings for different customer segments based on their needs and preferences.\\n\\nC. Product/Service Portfolio:\\nOptimize the existing product/service portfolio by focusing on high-demand solutions.\\nDevelop and launch innovative products/services in emerging technology areas.\\nEnhance post-sales support and customer service to improve customer satisfaction.\\n\\nIII. Action Plans\\nA. Sales Team Development:\\nExpand the sales team to cover new markets and industries.\\nProvide ongoing training to sales staff on product knowledge, sales techniques, and industry trends.\\nImplement a performance-based incentive system to reward top performers.\\n\\nB. Marketing and Promotion:\\nDevelop targeted marketing campaigns for different customer segments and industries.\\nLeverage digital marketing channels to increase brand visibility and lead generation.\\nParticipate in industry events and trade shows to showcase our products and services.\\n\\nC. Partner Ecosystem:\\nStrengthen existing partnerships and establish new strategic alliances to expand market reach.\\nCollaborate with partners on joint marketing and sales initiatives.\\nProvide partner training and support to ensure they effectively represent our products and services.\\n\\nD. Customer Success:\\nImplement a proactive customer success program to improve customer retention and satisfaction.\\nDevelop a dedicated customer support team to address customer inquiries and concerns promptly.\\nCollect and analyze customer feedback to identify areas for improvement in our products, services, and processes.\\n\\nIV. Monitoring and Evaluation\\nEstablish key performance indicators (KPIs) to track progress toward our objectives.\\nConduct regular sales team meetings to review performance, share best practices, and address challenges.\\nConduct quarterly reviews of our sales strategy to ensure alignment with market trends and adjust as needed.\\n\\nBy following this sales strategy for fiscal year 2024, our tech company aims to achieve significant growth and success in our target markets, while also providing exceptional value and service to our customers.\\n\",\n",
       " 'summary': \"This sales strategy document outlines objectives, focus areas, and action plans for our tech company's sales operations in fiscal year 2024. Our primary goal is to increase revenue, expand market share, and strengthen customer relationships in our target markets. Focus areas include targeting new markets, segmenting customers, enhancing\",\n",
       " 'name': 'Fy2024 Company Sales Strategy',\n",
       " 'url': './sharepoint/FY2024 Company Sales Strategy.txt',\n",
       " 'category': 'teams',\n",
       " 'created_on': '2023-04-15',\n",
       " 'updated_at': '2023-04-15',\n",
       " '_run_ml_inference': True,\n",
       " 'rolePermissions': ['demo', 'manager']}"
      ]
     },
     "metadata": {},
     "output_type": "display_data"
    },
    {
     "data": {
      "text/plain": [
       "4"
      ]
     },
     "metadata": {},
     "output_type": "display_data"
    },
    {
     "data": {
      "text/plain": [
       "9"
      ]
     },
     "metadata": {},
     "output_type": "display_data"
    },
    {
     "data": {
      "text/plain": [
       "{'content': \"Purpose\\n\\nThe purpose of this vacation policy is to outline the guidelines and procedures for requesting and taking time off from work for personal and leisure purposes. This policy aims to promote a healthy work-life balance and encourage employees to take time to rest and recharge.\\nScope\\n\\nThis policy applies to all full-time and part-time employees who have completed their probationary period.\\nVacation Accrual\\n\\nFull-time employees accrue vacation time at a rate of [X hours] per month, equivalent to [Y days] per year. Part-time employees accrue vacation time on a pro-rata basis, calculated according to their scheduled work hours.\\n\\nVacation time will begin to accrue from the first day of employment, but employees are eligible to take vacation time only after completing their probationary period. Unused vacation time will be carried over to the next year, up to a maximum of [Z days]. Any additional unused vacation time will be forfeited.\\nVacation Scheduling\\n\\nEmployees are required to submit vacation requests to their supervisor at least [A weeks] in advance, specifying the start and end dates of their vacation. Supervisors will review and approve vacation requests based on business needs, ensuring adequate coverage during the employee's absence.\\n\\nEmployees are encouraged to plan their vacations around the company's peak and non-peak periods to minimize disruptions. Vacation requests during peak periods may be subject to limitations and require additional advance notice.\\nVacation Pay\\n\\nEmployees will receive their regular pay during their approved vacation time. Vacation pay will be calculated based on the employee's average earnings over the [B weeks] preceding their vacation.\\nUnplanned Absences and Vacation Time\\n\\nIn the event of an unplanned absence due to illness or personal emergencies, employees may use their accrued vacation time, subject to supervisor approval. Employees must inform their supervisor as soon as possible and provide any required documentation upon their return to work.\\nVacation Time and Termination of Employment\\n\\nIf an employee's employment is terminated, they will be paid out for any unused vacation time, calculated based on their current rate of pay.\\nPolicy Review and Updates\\n\\nThis vacation policy will be reviewed periodically and updated as necessary, taking into account changes in labor laws, business needs, and employee feedback.\\nQuestions and Concerns\\n\\nEmployees are encouraged to direct any questions or concerns about this policy to their supervisor or the HR department.\\n\",\n",
       " 'summary': ': This policy outlines the guidelines and procedures for requesting and taking time off from work for personal and leisure purposes. Full-time employees accrue vacation time at a rate of [X hours] per month, equivalent to [Y days] per year. Vacation requests must be submitted to supervisors at least',\n",
       " 'name': 'Company Vacation Policy',\n",
       " 'url': 'https://enterprisesearch.sharepoint.com/:t:/s/MSBuilddemo/ES6rw9bKZxVBobG1WUoJpikBF9Bhx1pw_GvJWbsg-Z_HNA?e=faSHVt',\n",
       " 'created_on': '2018-04-15',\n",
       " 'updated_at': '2018-04-16',\n",
       " 'category': 'sharepoint',\n",
       " '_run_ml_inference': True,\n",
       " 'rolePermissions': ['demo', 'manager']}"
      ]
     },
     "metadata": {},
     "output_type": "display_data"
    },
    {
     "data": {
      "text/plain": [
       "5"
      ]
     },
     "metadata": {},
     "output_type": "display_data"
    },
    {
     "data": {
      "text/plain": [
       "8"
      ]
     },
     "metadata": {},
     "output_type": "display_data"
    },
    {
     "data": {
      "text/plain": [
       "{'content': 'This career leveling matrix provides a framework for understanding the various roles and responsibilities of Software Engineers, as well as the skills and experience required for each level. This matrix is intended to support employee development, facilitate performance evaluations, and provide a clear career progression path.\\nJunior Software Engineer\\n\\nResponsibilities:\\nCollaborate with team members to design, develop, and maintain software applications and components.\\nWrite clean, well-structured, and efficient code following established coding standards.\\nParticipate in code reviews, providing and receiving constructive feedback.\\nTroubleshoot and resolve software defects and issues.\\nAssist with the creation of technical documentation.\\nContinuously learn and stay up-to-date with new technologies and best practices.\\n\\nSkills & Experience:\\nBachelor’s degree in Computer Science or a related field, or equivalent work experience.\\nBasic understanding of software development principles and methodologies.\\nProficiency in at least one programming language.\\nStrong problem-solving and analytical skills.\\nEffective communication and collaboration skills.\\nEagerness to learn and grow within the field.\\nSenior Software Engineer\\n\\nResponsibilities:\\nDesign, develop, and maintain complex software applications and components.\\nLead and mentor junior team members in software development best practices and techniques.\\nConduct code reviews and ensure adherence to coding standards and best practices.\\nCollaborate with cross-functional teams to define, design, and deliver software solutions.\\nIdentify, troubleshoot, and resolve complex software defects and issues.\\nContribute to the creation and maintenance of technical documentation.\\nEvaluate and recommend new technologies, tools, and practices to improve software quality and efficiency.\\n\\nSkills & Experience:\\nBachelor’s degree in Computer Science or a related field, or equivalent work experience.\\n5+ years of software development experience.\\nProficiency in multiple programming languages and technologies.\\nDemonstrated ability to design and implement complex software solutions.\\nStrong leadership, mentoring, and collaboration skills.\\nExcellent problem-solving, analytical, and communication skills.\\nPrincipal Software Engineer\\n\\nResponsibilities:\\nLead the design, development, and maintenance of large-scale, mission-critical software applications and components.\\nProvide technical leadership and mentorship to software engineering teams.\\nDrive the adoption of advanced software development practices and technologies.\\nCollaborate with product management, architecture, and other stakeholders to define and deliver strategic software initiatives.\\nIdentify, troubleshoot, and resolve the most complex software defects and issues.\\nCreate and maintain technical documentation, including architectural designs and best practice guidelines.\\nRepresent [Company Name] as a thought leader in the software engineering community, including speaking at conferences, publishing articles, and contributing to open-source projects.\\n\\nSkills & Experience:\\nBachelor’s degree in Computer Science or a related field, or equivalent work experience.\\n10+ years of software development experience, with a focus on large-scale, mission-critical applications.\\nExpertise in multiple programming languages, technologies, and software development methodologies.\\nProven ability to lead and mentor high-performing software engineering teams.\\nExceptional problem-solving, analytical, and communication skills.\\nStrong business acumen and ability to influence decision-making at the executive level.\\n\\nBy following this career leveling matrix, we aim to support the growth and development of Software Engineers, enabling them to reach their full potential and contribute meaningfully to the success of the organization.\\n',\n",
       " 'summary': '\\nThis career leveling matrix provides a framework for understanding the various roles and responsibilities of Software Engineers, as well as the skills and experience required for each level. It is intended to support employee development, facilitate performance evaluations, and provide a clear career progression path.',\n",
       " 'name': 'Swe Career Matrix',\n",
       " 'url': 'https://enterprisesearch.sharepoint.com/:t:/s/MSBuilddemo/EVYuEyRhHh5Aqc3a39sqbGcBkqKIHRWtJBjjUjNs6snpMg?e=nv1mf4',\n",
       " 'created_on': '2018-04-15',\n",
       " 'category': 'sharepoint',\n",
       " '_run_ml_inference': True,\n",
       " 'rolePermissions': ['demo', 'manager']}"
      ]
     },
     "metadata": {},
     "output_type": "display_data"
    },
    {
     "data": {
      "text/plain": [
       "6"
      ]
     },
     "metadata": {},
     "output_type": "display_data"
    },
    {
     "data": {
      "text/plain": [
       "8"
      ]
     },
     "metadata": {},
     "output_type": "display_data"
    },
    {
     "data": {
      "text/plain": [
       "{'content': \"Title: Working with the Sales Team as an Engineer in a Tech Company\\n\\nIntroduction:\\nAs an engineer in a tech company, collaboration with the sales team is essential to ensure the success of the company's products and services. This guidance document aims to provide an overview of how engineers can effectively work with the sales team, fostering a positive and productive working environment.\\nUnderstanding the Sales Team's Role:\\nThe sales team is responsible for promoting and selling the company's products and services to potential clients. Their role involves establishing relationships with customers, understanding their needs, and ensuring that the offered solutions align with their requirements.\\n\\nAs an engineer, it is important to understand the sales team's goals and objectives, as this will help you to provide them with the necessary information, tools, and support to successfully sell your company's products and services.\\nCommunication:\\nEffective communication is key to successfully working with the sales team. Make sure to maintain open lines of communication, and be responsive to their questions and concerns. This includes:\\n\\na. Attending sales meetings and conference calls when required.\\nb. Providing regular product updates and training sessions to the sales team.\\nc. Being available to answer technical questions and clarifications.\\nCollaboration:\\nCollaborate with the sales team in developing and refining sales materials, such as product presentations, demos, and technical documents. This will ensure that the sales team has accurate and up-to-date information to present to clients.\\n\\nAdditionally, work closely with the sales team on customer projects or product customizations, providing technical guidance, and ensuring that the solutions meet the customer's requirements.\\nCustomer Engagement:\\nAt times, engineers may be asked to join sales meetings or calls with potential clients to provide technical expertise. In these situations, it is important to:\\n\\na. Be prepared and understand the customer's needs and pain points.\\nb. Clearly explain the technical aspects of the product or solution in a simple language that the customer can understand.\\nc. Address any concerns or questions the customer may have.\\nContinuous Improvement:\\nActively seek feedback from the sales team regarding product performance, customer experiences, and market trends. Use this feedback to identify areas of improvement and collaborate with other engineers to enhance the product or service offerings.\\nMutual Respect and Support:\\nIt is essential to treat your colleagues in the sales team with respect and professionalism. Recognize and appreciate their efforts in promoting and selling the company's products and services. In turn, the sales team should also respect and appreciate the technical expertise and knowledge of the engineering team.\\n\\nBy working together, both the engineering and sales teams can contribute to the overall success of the company.\\n\\nConclusion:\\nCollaboration between engineers and the sales team is crucial for a tech company's success. By understanding each other's roles, maintaining effective communication, collaborating on projects, and supporting one another, both teams can work together to achieve the company's goals and ensure customer satisfaction.\\n\",\n",
       " 'summary': \": This guide provides an overview of how engineers can effectively collaborate with the sales team to ensure the success of a tech company. It includes understanding the sales team's role, communicating and collaborating on projects, engaging customers, and providing mutual respect and support.\",\n",
       " 'name': 'Sales Engineering Collaboration',\n",
       " 'url': 'https://enterprisesearch.sharepoint.com/:t:/s/MSBuilddemo/EW21-KJnfHBFoRiF49_uJMcBfHyPKimuPOFsCcJypQWaBQ?e=mGdIqe',\n",
       " 'created_on': '2019-04-15',\n",
       " 'category': 'sharepoint',\n",
       " '_run_ml_inference': True,\n",
       " 'rolePermissions': ['demo', 'manager']}"
      ]
     },
     "metadata": {},
     "output_type": "display_data"
    },
    {
     "data": {
      "text/plain": [
       "7"
      ]
     },
     "metadata": {},
     "output_type": "display_data"
    },
    {
     "data": {
      "text/plain": [
       "8"
      ]
     },
     "metadata": {},
     "output_type": "display_data"
    },
    {
     "data": {
      "text/plain": [
       "{'content': \"Purpose\\nThe purpose of this Intellectual Property Policy is to establish guidelines and procedures for the ownership, protection, and utilization of intellectual property generated by employees during their employment. This policy aims to encourage creativity and innovation while ensuring that the interests of both the company and its employees are protected.\\n\\nScope\\nThis policy applies to all employees, including full-time, part-time, temporary, and contract employees.\\n\\nDefinitions\\na. Intellectual Property (IP): Refers to creations of the mind, such as inventions, literary and artistic works, designs, symbols, and images, that are protected by copyright, trademark, patent, or other forms of legal protection.\\nb. Company Time: Refers to the time during which an employee is actively engaged in performing their job duties.\\nc. Outside Company Time: Refers to the time during which an employee is not engaged in performing their job duties.\\n\\nOwnership of Intellectual Property\\na. Work Generated on Company Time\\ni. Any intellectual property created, conceived, or developed by an employee during company time or using company resources, equipment, or facilities shall be considered the property of the Company.\\nii. Employees are required to promptly disclose any such intellectual property to their supervisor or the appropriate department head.\\nb. Work Generated Outside Company Time\\ni. Intellectual property created, conceived, or developed by an employee outside of company time and without the use of company resources, equipment, or facilities shall generally remain the property of the employee.\\nii. However, if the intellectual property is directly related to the employee's job responsibilities, or if the employee has used company resources, equipment, or facilities in its creation, it may be considered the property of the Company.\\nProtection and Utilization of Intellectual Property\\na. The Company shall have the right to protect, license, and commercialize any intellectual property owned by the company as it deems appropriate.\\nb. Employees are expected to cooperate with the Company in obtaining any necessary legal protection for intellectual property owned by the company, including by signing any documents or providing any necessary information or assistance.\\nConfidentiality\\nEmployees are expected to maintain the confidentiality of any intellectual property owned by the Company and not disclose it to any third parties without the express written consent of an authorized representative of the company.\\nEmployee Acknowledgment\\nAll employees are required to sign an acknowledgment of this Intellectual Property Policy as a condition of their employment with [Company Name]. By signing the acknowledgment, employees agree to abide by the terms of this policy and understand that any violations may result in disciplinary action, up to and including termination of employment.\\nPolicy Review\\nThis Intellectual Property Policy shall be reviewed periodically and may be amended as necessary to ensure its continued effectiveness and compliance with applicable laws and regulations. Employees will be notified of any significant changes to this policy.\\n\",\n",
       " 'summary': \"This Intellectual Property Policy outlines guidelines and procedures for the ownership, protection, and utilization of intellectual property generated by employees during their employment. It establishes the company's ownership of work generated on company time, while recognizing employee ownership of work generated outside of company time without the use of company resources. The policy\",\n",
       " 'name': 'Intellectual Property Policy',\n",
       " 'url': 'https://enterprisesearch.sharepoint.com/:t:/s/MSBuilddemo/EWz3cYEVdzBNsiHsYbKhms4BVYGhravyrUw3T3lzxL4pTg?e=mPIgbO',\n",
       " 'created_on': '2021-06-15',\n",
       " 'category': 'sharepoint',\n",
       " '_run_ml_inference': True,\n",
       " 'rolePermissions': ['demo', 'manager']}"
      ]
     },
     "metadata": {},
     "output_type": "display_data"
    },
    {
     "data": {
      "text/plain": [
       "8"
      ]
     },
     "metadata": {},
     "output_type": "display_data"
    },
    {
     "data": {
      "text/plain": [
       "8"
      ]
     },
     "metadata": {},
     "output_type": "display_data"
    },
    {
     "data": {
      "text/plain": [
       "{'content': \"Code of Conduct\\nPurpose\\n\\nThe purpose of this code of conduct is to establish guidelines for professional and ethical behavior in the workplace. It outlines the principles and values that all employees are expected to uphold in their interactions with colleagues, customers, partners, and other stakeholders.\\nScope\\n\\nThis code of conduct applies to all employees, contractors, and volunteers within the organization, regardless of their role or seniority.\\nCore Values\\n\\nEmployees are expected to adhere to the following core values:\\n\\na. Integrity: Act honestly, ethically, and in the best interests of the organization at all times.\\nb. Respect: Treat all individuals with dignity, courtesy, and fairness, regardless of their background, beliefs, or position.\\nc. Accountability: Take responsibility for one's actions and decisions, and be willing to learn from mistakes.\\nd. Collaboration: Work cooperatively with colleagues and partners to achieve shared goals and promote a positive work environment.\\ne. Excellence: Strive for the highest standards of performance and continuously seek opportunities for improvement.\\nCompliance with Laws and Regulations\\n\\nEmployees must comply with all applicable laws, regulations, and organizational policies in the course of their work. This includes, but is not limited to, employment laws, data protection regulations, and industry-specific guidelines.\\nConflicts of Interest\\n\\nEmployees should avoid situations where their personal interests may conflict with or influence their professional judgment. If a potential conflict of interest arises, employees must disclose it to their supervisor or the appropriate authority within the organization.\\nConfidentiality and Information Security\\n\\nEmployees are responsible for safeguarding the organization's confidential information, as well as any sensitive information entrusted to them by clients, partners, or other third parties. This includes adhering to data protection policies and using secure communication channels.\\nHarassment and Discrimination\\n\\nThe organization is committed to providing a workplace free from harassment, discrimination, and bullying. Employees are expected to treat others with respect and report any incidents of inappropriate behavior to their supervisor or the human resources department.\\nHealth and Safety\\n\\nEmployees must follow all health and safety guidelines and procedures to maintain a safe and healthy work environment. This includes reporting any hazards or unsafe conditions to the appropriate personnel.\\nUse of Company Resources\\n\\nEmployees are expected to use company resources, including time, equipment, and funds, responsibly and for their intended purposes. Misuse or theft of company resources is strictly prohibited.\\nReporting Violations\\n\\nEmployees have a responsibility to report any suspected violations of this code of conduct, as well as any illegal or unethical behavior, to their supervisor or the appropriate authority within the organization. The organization will protect the confidentiality of employees who report violations and will not tolerate retaliation against those who raise concerns.\\nConsequences of Non-Compliance\\n\\nFailure to adhere to this code of conduct may result in disciplinary action, up to and including termination of employment. The organization reserves the right to take legal action against individuals who engage in illegal or unethical conduct.\\nPolicy Review and Updates\\n\\nThis code of conduct will be reviewed periodically and updated as necessary to ensure it remains relevant and effective in promoting ethical behavior and professional standards within the organization.\\nQuestions and Concerns\\n\\nEmployees are encouraged to seek guidance from their supervisor or the human resources department if they have questions or concerns about this code of conduct or its application to specific situations.\\n\",\n",
       " 'summary': 'This code of conduct outlines the principles and values that all employees are expected to uphold in their interactions with colleagues, customers, partners, and other stakeholders. It sets out core values such as integrity, respect, accountability, collaboration and excellence. Employees must comply with all applicable laws, regulations, and organizational',\n",
       " 'name': 'Code Of Conduct',\n",
       " 'url': 'https://enterprisesearch.sharepoint.com/:t:/s/MSBuilddemo/ER3xmeKaZ_pAqPeJWyyNR0QBg6QmoWIGPhwfEyCABWHrPA?e=cvzrgV',\n",
       " 'created_on': '2018-01-12',\n",
       " 'category': 'sharepoint',\n",
       " '_run_ml_inference': True,\n",
       " 'rolePermissions': ['demo', 'manager']}"
      ]
     },
     "metadata": {},
     "output_type": "display_data"
    },
    {
     "data": {
      "text/plain": [
       "9"
      ]
     },
     "metadata": {},
     "output_type": "display_data"
    },
    {
     "data": {
      "text/plain": [
       "8"
      ]
     },
     "metadata": {},
     "output_type": "display_data"
    },
    {
     "data": {
      "text/plain": [
       "{'content': \"Content:\\nThe purpose of this office pet policy is to outline the guidelines and procedures for bringing pets into the workplace. This policy aims to create a positive and inclusive work environment while ensuring the comfort, safety, and well-being of all employees, visitors, and pets.\\nScope\\n\\nThis policy applies to all employees who wish to bring their pets to the office. Pets covered under this policy include dogs, cats, and other small, non-exotic animals, subject to approval by the HR department.\\nPet Approval Process\\n\\nEmployees must obtain prior approval from their supervisor and the HR department before bringing their pets to the office. The approval process includes:\\n\\na. Submitting a written request, including a description of the pet, its breed, age, and temperament.\\nb. Providing proof of up-to-date vaccinations and any required licenses or permits.\\nc. Obtaining written consent from all employees who share the workspace with the pet owner.\\n\\nThe HR department reserves the right to deny or revoke pet approval based on the specific circumstances or concerns raised by other employees.\\nPet Behavior and Supervision\\n\\nEmployees are responsible for the behavior and well-being of their pets while in the office. Pets must be:\\n\\na. Well-behaved, non-aggressive, and not disruptive to the work environment.\\nb. House-trained and able to eliminate waste in designated areas outside the office.\\nc. Kept on a leash or in a secure enclosure when not in the employee's immediate work area.\\n\\nEmployees must closely supervise their pets and promptly address any issues or concerns raised by other staff members.\\nAllergies and Phobias\\n\\nEmployees with allergies or phobias related to pets must inform the HR department, which will work with the affected employees and pet owners to find a suitable solution. This may include adjusting workspaces, limiting the number or types of pets allowed, or implementing additional safety measures.\\nCleanliness and Hygiene\\n\\nEmployees are responsible for maintaining a clean and hygienic work environment. This includes:\\n\\na. Cleaning up after their pets, both indoors and outdoors.\\nb. Regularly grooming their pets to minimize shedding and odors.\\nc. Ensuring their pets are free of pests, such as fleas and ticks.\\nLiability\\n\\nPet owners are liable for any damage or injury caused by their pets. Employees are encouraged to obtain pet liability insurance to cover potential incidents.\\nRestricted Areas\\n\\nPets are not allowed in certain areas of the office, including meeting rooms, restrooms, kitchen and dining areas, and any other designated spaces. Signage will be posted to indicate these restricted areas.\\nPolicy Review and Updates\\n\\nThis office pet policy will be reviewed periodically and updated as necessary, taking into account employee feedback, changes in legislation, and best practices for maintaining a safe and inclusive work environment.\\nQuestions and Concerns\\n\\nEmployees are encouraged to direct any questions or concerns about this policy to their supervisor or the HR department.\\n\",\n",
       " 'summary': 'This policy outlines the guidelines and procedures for bringing pets into the workplace. It covers approval process, pet behavior and supervision, allergies and phobias, cleanliness and hygiene, liability, restricted areas, and policy review. Employees must obtain prior approval from their supervisor and the HR department before bringing their',\n",
       " 'name': 'Office Pet Policy',\n",
       " 'url': 'https://enterprisesearch.sharepoint.com/:t:/s/MSBuilddemo/ETf-69wBeaZJpAn3CY7ExRABQWvav-p24VOnB6C0A4l2pQ?e=X72WuK',\n",
       " 'created_on': '2018-01-12',\n",
       " 'category': 'sharepoint',\n",
       " '_run_ml_inference': True,\n",
       " 'rolePermissions': ['demo', 'manager']}"
      ]
     },
     "metadata": {},
     "output_type": "display_data"
    },
    {
     "data": {
      "text/plain": [
       "10"
      ]
     },
     "metadata": {},
     "output_type": "display_data"
    },
    {
     "data": {
      "text/plain": [
       "8"
      ]
     },
     "metadata": {},
     "output_type": "display_data"
    },
    {
     "data": {
      "text/plain": [
       "{'content': 'Performance Management Policy\\nPurpose and Scope\\nThe purpose of this Performance Management Policy is to establish a consistent and transparent process for evaluating, recognizing, and rewarding employee performance. This policy applies to all employees and aims to foster a culture of continuous improvement, professional growth, and open communication between employees and management.\\nPerformance Planning and Goal Setting\\nAt the beginning of each performance cycle, employees and their supervisors will collaborate to set clear, achievable, and measurable performance goals. These goals should align with the company’s strategic objectives and take into account the employee’s job responsibilities, professional development, and career aspirations.\\nOngoing Feedback and Communication\\nThroughout the performance cycle, employees and supervisors are encouraged to engage in regular, constructive feedback and open communication. This includes discussing progress towards goals, addressing challenges, and identifying opportunities for improvement or additional support. Regular check-ins and updates help ensure that employees stay on track and receive the guidance they need to succeed.\\nPerformance Evaluation\\nAt the end of each performance cycle, employees will participate in a formal performance evaluation with their supervisor. This evaluation will assess the employee’s overall performance, including their achievements, areas for improvement, and progress towards goals. Both the employee and supervisor should come prepared to discuss specific examples, accomplishments, and challenges from the performance period.\\nPerformance Ratings\\nBased on the performance evaluation, employees will receive a performance rating that reflects their overall performance during the cycle. The rating system should be clearly defined and consistently applied across the organization. Performance ratings will be used to inform decisions regarding promotions, salary increases, and other rewards or recognition.\\nPromotions and Advancements\\nHigh-performing employees who consistently demonstrate strong performance, leadership, and a commitment to the company’s values may be considered for promotions or other advancement opportunities. Promotions will be based on factors such as performance ratings, skills, experience, and the needs of the organization. Employees interested in pursuing a promotion should discuss their career goals and development plans with their supervisor.\\nPerformance Improvement Plans\\nEmployees who receive a low performance rating or are struggling to meet their performance goals may be placed on a Performance Improvement Plan (PIP). A PIP is a structured plan designed to help the employee address specific areas of concern, set achievable improvement goals, and receive additional support or resources as needed. Employees on a PIP will be closely monitored and re-evaluated at the end of the improvement period to determine if satisfactory progress has been made.\\nRecognition and Rewards\\nOur company believes in recognizing and rewarding employees for their hard work and dedication. In addition to promotions and salary increases, employees may be eligible for other forms of recognition or rewards based on their performance. This may include bonuses, awards, or other incentives designed to motivate and celebrate employee achievements. The specific criteria and eligibility for these rewards will be communicated by the HR department or management.\\n',\n",
       " 'summary': 'This Performance Management Policy outlines a consistent and transparent process for evaluating, recognizing, and rewarding employees. It includes goal setting, ongoing feedback, performance evaluations, ratings, promotions, and rewards. The policy applies to all employees and encourages open communication and professional growth.',\n",
       " 'name': 'Performance Management Policy',\n",
       " 'url': 'https://enterprisesearch.sharepoint.com/:t:/s/MSBuilddemo/ERsxt9p1uehJqeJu4JlxkakBavbKwcldrYv_hpv3xHikAw?e=pf5R2C',\n",
       " 'created_on': '2018-01-12',\n",
       " 'category': 'sharepoint',\n",
       " '_run_ml_inference': True,\n",
       " 'rolePermissions': ['demo', 'manager']}"
      ]
     },
     "metadata": {},
     "output_type": "display_data"
    },
    {
     "data": {
      "text/plain": [
       "11"
      ]
     },
     "metadata": {},
     "output_type": "display_data"
    },
    {
     "data": {
      "text/plain": [
       "8"
      ]
     },
     "metadata": {},
     "output_type": "display_data"
    },
    {
     "data": {
      "text/plain": [
       "{'content': 'Our sales organization is structured to effectively serve our customers and achieve our business objectives across multiple regions. The organization is divided into the following main regions:\\n\\nThe Americas: This region includes the United States, Canada, Mexico, as well as Central and South America. The North America South America region (NASA) has two Area Vice-Presidents: Laura Martinez is the Area Vice-President of North America, and Gary Johnson is the Area Vice-President of South America.\\n\\nEurope: Our European sales team covers the entire continent, including the United Kingdom, Germany, France, Spain, Italy, and other countries. The team is responsible for understanding the unique market dynamics and cultural nuances, enabling them to effectively target and engage with customers across the region. The Area Vice-President for Europe is Rajesh Patel.\\nAsia-Pacific: This region encompasses countries such as China, Japan, South Korea, India, Australia, and New Zealand. Our sales team in the Asia-Pacific region works diligently to capitalize on growth opportunities and address the diverse needs of customers in this vast and rapidly evolving market. The Area Vice-President for Asia-Pacific is Mei Li.\\nMiddle East & Africa: This region comprises countries across the Middle East and Africa, such as the United Arab Emirates, Saudi Arabia, South Africa, and Nigeria. Our sales team in this region is responsible for navigating the unique market challenges and identifying opportunities to expand our presence and better serve our customers. The Area Vice-President for Middle East & Africa is Jamal Abdi.\\n\\nEach regional sales team consists of dedicated account managers, sales representatives, and support staff, led by their respective Area Vice-Presidents. They are responsible for identifying and pursuing new business opportunities, nurturing existing client relationships, and ensuring customer satisfaction. The teams collaborate closely with other departments, such as marketing, product development, and customer support, to ensure we consistently deliver high-quality products and services to our clients.\\n',\n",
       " 'summary': '\\nOur sales organization is divided into four regions: The Americas, Europe, Asia-Pacific, and Middle East & Africa. Each region is led by an Area Vice-President and consists of dedicated account managers, sales representatives, and support staff. They collaborate with other departments to ensure the delivery of high',\n",
       " 'name': 'Sales Organization Overview',\n",
       " 'url': 'https://enterprisesearch.sharepoint.com/:t:/s/MSBuilddemo/EYsr1eqgn9hMslMJFLR-k54BBX-O3iC26bK7xNEBtYIBkg?e=xeAjiT',\n",
       " 'created_on': '2018-01-15',\n",
       " 'category': 'sharepoint',\n",
       " '_run_ml_inference': True,\n",
       " 'rolePermissions': ['demo', 'manager']}"
      ]
     },
     "metadata": {},
     "output_type": "display_data"
    },
    {
     "data": {
      "text/plain": [
       "12"
      ]
     },
     "metadata": {},
     "output_type": "display_data"
    },
    {
     "data": {
      "text/plain": [
       "9"
      ]
     },
     "metadata": {},
     "output_type": "display_data"
    },
    {
     "data": {
      "text/plain": [
       "{'content': \"Introduction:\\nThis document outlines the compensation bands strategy for the various teams within our IT company. The goal is to establish a fair and competitive compensation structure that aligns with industry standards, rewards performance, and attracts top talent. By implementing this strategy, we aim to foster employee satisfaction and retention while ensuring the company's overall success.\\n\\nPurpose:\\nThe purpose of this compensation bands strategy is to:\\na. Define clear guidelines for salary ranges based on job levels and market benchmarks.\\nb. Support equitable compensation practices across different teams.\\nc. Encourage employee growth and performance.\\nd. Enable effective budgeting and resource allocation.\\n\\nJob Levels:\\nTo establish a comprehensive compensation structure, we have defined distinct job levels within each team. These levels reflect varying degrees of skills, experience, and responsibilities. The levels include:\\na. Entry-Level: Employees with limited experience or early career professionals.\\nb. Intermediate-Level: Employees with moderate experience and demonstrated competence.\\nc. Senior-Level: Experienced employees with advanced skills and leadership capabilities.\\nd. Leadership-Level: Managers and team leaders responsible for strategic decision-making.\\n\\nCompensation Bands:\\nBased on the job levels, the following compensation bands have been established:\\na. Entry-Level Band: This band encompasses salary ranges for employees in entry-level positions. It aims to provide competitive compensation for individuals starting their careers within the company.\\n\\nb. Intermediate-Level Band: This band covers salary ranges for employees who have gained moderate experience and expertise in their respective roles. It rewards employees for their growing skill set and contributions.\\n\\nc. Senior-Level Band: The senior-level band includes salary ranges for experienced employees who have attained advanced skills and have a proven track record of delivering results. It reflects the increased responsibilities and expectations placed upon these individuals.\\n\\nd. Leadership-Level Band: This band comprises salary ranges for managers and team leaders responsible for guiding and overseeing their respective teams. It considers their leadership abilities, strategic thinking, and the impact they have on the company's success.\\n\\nMarket Benchmarking:\\nTo ensure our compensation remains competitive, regular market benchmarking will be conducted. This involves analyzing industry salary trends, regional compensation data, and market demand for specific roles. The findings will inform periodic adjustments to our compensation bands to maintain alignment with the market.\\n\\nPerformance-Based Compensation:\\nIn addition to the defined compensation bands, we emphasize a performance-based compensation model. Performance evaluations will be conducted regularly, and employees exceeding performance expectations will be eligible for bonuses, incentives, and salary increases. This approach rewards high achievers and motivates employees to excel in their roles.\\n\\nConclusion:\\nBy implementing this compensation bands strategy, our IT company aims to establish fair and competitive compensation practices that align with market standards and foster employee satisfaction. Regular evaluations and market benchmarking will enable us to adapt and refine the strategy to meet the evolving needs of our organization.\",\n",
       " 'summary': 'This document outlines a compensation framework for IT teams. It includes job levels, compensation bands, and performance-based incentives to ensure fair and competitive wages. Regular market benchmarking will be conducted to adjust the bands according to industry trends.',\n",
       " 'name': 'Compensation Framework For It Teams',\n",
       " 'url': 'https://enterprisesearch.sharepoint.com/:t:/s/MSBuilddemo/EaAFec6004tAg21g4i67rfgBBRqCm1yY7AZLLQyyaMtsEQ?e=wTMb4z',\n",
       " 'created_on': '2018-01-12',\n",
       " 'category': 'sharepoint',\n",
       " 'restricted': True,\n",
       " '_run_ml_inference': True,\n",
       " 'rolePermissions': ['manager']}"
      ]
     },
     "metadata": {},
     "output_type": "display_data"
    },
    {
     "data": {
      "text/plain": [
       "13"
      ]
     },
     "metadata": {},
     "output_type": "display_data"
    },
    {
     "data": {
      "text/plain": [
       "8"
      ]
     },
     "metadata": {},
     "output_type": "display_data"
    },
    {
     "data": {
      "text/plain": [
       "{'content': \"As an employee in Canada, it's essential to understand how to update your tax elections forms to ensure accurate tax deductions from your pay. This guide will help you navigate the process of updating your TD1 Personal Tax Credits Return form.\\n\\nStep 1: Access the TD1 form\\nThe TD1 form is available on the Canada Revenue Agency (CRA) website. Your employer might provide you with a paper copy or a link to the online form. You can access the form directly through the following link: https://www.canada.ca/en/revenue-agency/services/forms-publications/td1-personal-tax-credits-returns.html\\n\\nStep 2: Choose the correct form version\\nYou'll need to fill out the federal TD1 form and, if applicable, the provincial or territorial TD1 form. Select the appropriate version based on your province or territory of residence.\\n\\nStep 3: Download and open the form\\nFor the best experience, download and open the TD1 form in Adobe Reader. If you have visual impairments, consider using the large print version available on the CRA website.\\n\\nStep 4: Complete the form\\nFill out the form by entering your personal information, such as your name, Social Insurance Number (SIN), and address. Then, go through each section to claim any personal tax credits that apply to you. These credits may include:\\nBasic personal amount\\nAmount for an eligible dependant\\nAmount for infirm dependants age 18 or older\\nCaregiver amount\\nDisability amount\\nTuition and education amounts\\n\\nRead the instructions carefully for each section to ensure you claim the correct amounts.\\n\\nStep 5: Sign and date the form\\nOnce you've completed the form, sign and date it at the bottom.\\n\\nStep 6: Submit the form to your employer\\nSubmit the completed and signed TD1 form to your employer. You can either scan and send it electronically, or provide a printed copy. Your employer will use the information on your TD1 form to calculate the correct amount of tax to be deducted from your pay.\\n\\nStep 7: Update your TD1 form as needed\\nIt's essential to update your TD1 form whenever your personal circumstances change, such as getting married, having a child, or becoming eligible for a new tax credit. Inform your employer of these changes and submit an updated TD1 form to ensure accurate tax deductions.\\n\\nUpdating your tax elections forms is a crucial step in ensuring the correct tax deductions from your pay as a new employee in Canada. Follow this guide and keep your TD1 form up to date to avoid any discrepancies in your tax filings.\\n\",\n",
       " 'summary': ': This guide gives a step-by-step explanation of how to update your TD1 Personal Tax Credits Return form. Access the form from the CRA website and choose the correct version based on your province or territory of residence. Download and open the form in Adobe Reader, fill out the form by entering',\n",
       " 'name': 'Updating Your Tax Elections Forms',\n",
       " 'url': './github/Updating Your Tax Elections Forms.txt',\n",
       " 'created_on': '2022-12-20',\n",
       " 'category': 'github',\n",
       " '_run_ml_inference': True,\n",
       " 'rolePermissions': ['demo', 'manager']}"
      ]
     },
     "metadata": {},
     "output_type": "display_data"
    },
    {
     "data": {
      "text/plain": [
       "14"
      ]
     },
     "metadata": {},
     "output_type": "display_data"
    },
    {
     "data": {
      "text/plain": [
       "8"
      ]
     },
     "metadata": {},
     "output_type": "display_data"
    },
    {
     "data": {
      "text/plain": [
       "{'content': \"Welcome to our team! We are excited to have you on board and look forward to your valuable contributions. This onboarding guide is designed to help you get started by providing essential information about our policies, procedures, and resources. Please read through this guide carefully and reach out to the HR department if you have any questions.\\nIntroduction to Our Company Culture and Values\\nOur company is committed to creating a diverse, inclusive, and supportive work environment. We believe that our employees are our most valuable asset and strive to foster a culture of collaboration, innovation, and continuous learning. Our core values include:\\nIntegrity: We act ethically and honestly in all our interactions.\\nTeamwork: We work together to achieve common goals and support each other's growth.\\nExcellence: We strive for the highest quality in our products, services, and relationships.\\nInnovation: We encourage creativity and embrace change to stay ahead in the market.\\nRespect: We treat each other with dignity and value the unique perspectives of all our colleagues.\\nKey Onboarding Steps\\nTo ensure a smooth onboarding process, please complete the following steps within your first week:\\nAttend orientation: You will be invited to an orientation session to meet your colleagues and learn more about our company's history, mission, and values.\\nReview policies and procedures: Familiarize yourself with our employee handbook, which contains important information about our policies and procedures. Please read it thoroughly and adhere to the guidelines.\\nComplete required training: You may be required to complete mandatory training sessions, such as safety training or anti-harassment training. Ensure that you attend and complete these sessions as soon as possible.\\nUpdating Tax Elections and Documents\\nIt is crucial to ensure your tax information is accurate and up-to-date, regardless of the country you work in. Please follow these steps to update your tax elections and documents:\\nComplete tax forms: Fill out the necessary tax forms for your country or region, which determine the amount of income tax withheld from your paycheck. You should complete new tax forms if your personal or financial situation changes, such as marriage, divorce, or a change in the number of dependents.\\nSubmit regional tax forms: Depending on your location, you may be required to complete additional regional or local tax forms. Check with the HR department to determine which forms are necessary.\\nUpdate your address: If you move, make sure to update your address with the HR department to ensure accurate tax reporting.\\nBenefits Enrollment\\nAs a new employee, you are eligible for various benefits, including health insurance, retirement plans, and paid time off. You will receive detailed information about our benefits package during orientation. To enroll in the benefits, please follow these steps:\\nReview benefits options: Carefully review the benefits package and choose the options that best meet your needs.\\nComplete enrollment forms: Fill out the necessary forms to enroll in your chosen benefits. Submit these forms to the HR department within 30 days of your start date.\\nDesignate beneficiaries: If applicable, designate beneficiaries for your life insurance and retirement plans.\\nGetting Settled in Your Workspace\\nTo help you feel comfortable and productive in your new workspace, take the following steps:\\nSet up your workstation: Organize your desk, chair, and computer according to your preferences. If you require any additional equipment or accommodations, please contact the HR department.\\nObtain necessary supplies: Request any necessary office supplies, such as pens, notepads, or folders, from the designated supply area or by contacting the appropriate department.\\nFamiliarize yourself with office resources: Locate common areas, such as break rooms, restrooms, and meeting rooms. Familiarize yourself with office equipment, including printers, scanners, and telephones.\\n\",\n",
       " 'summary': '\\nThis onboarding guide provides essential information to new employees on our company culture and values, key onboarding steps, tax elections and documents, benefits enrollment, and setting up their workspace.',\n",
       " 'name': 'New Employee Onboarding Guide',\n",
       " 'url': './github/New Employee Onboarding guide.txt',\n",
       " 'created_on': '2018-01-12',\n",
       " 'category': 'github',\n",
       " '_run_ml_inference': True,\n",
       " 'rolePermissions': ['demo', 'manager']}"
      ]
     },
     "metadata": {},
     "output_type": "display_data"
    }
   ],
   "source": [
    "count = 0\n",
    "for i in data:\n",
    "    display(count, len(i), i)\n",
    "    count += 1"
   ]
  },
  {
   "cell_type": "code",
   "execution_count": 31,
   "metadata": {},
   "outputs": [
    {
     "name": "stdout",
     "output_type": "stream",
     "text": [
      "Document 1 - Length: 3266 characters\n",
      "Document 2 - Length: 267 characters\n",
      "Document 3 - Length: 360 characters\n",
      "Document 4 - Length: 3017 characters\n",
      "Document 5 - Length: 2539 characters\n",
      "Document 6 - Length: 3837 characters\n",
      "Document 7 - Length: 3295 characters\n",
      "Document 8 - Length: 3172 characters\n",
      "Document 9 - Length: 3863 characters\n",
      "Document 10 - Length: 3034 characters\n",
      "Document 11 - Length: 3477 characters\n",
      "Document 12 - Length: 2132 characters\n",
      "Document 13 - Length: 3422 characters\n",
      "Document 14 - Length: 2483 characters\n",
      "Document 15 - Length: 3992 characters\n"
     ]
    }
   ],
   "source": [
    "# Function to check the length of page_content for all documents\n",
    "def check_document_lengths(docs):\n",
    "    for i, doc in enumerate(docs):\n",
    "        content_length = len(doc.page_content) if doc.page_content else 0\n",
    "        print(f\"Document {i+1} - Length: {content_length} characters\")\n",
    "\n",
    "# Call the function to inspect lengths\n",
    "check_document_lengths(docs)"
   ]
  },
  {
   "cell_type": "markdown",
   "metadata": {},
   "source": [
    "### Split Documents into Passages\n",
    "\n",
    "We’ll chunk documents into passages in order to improve the retrieval specificity and to ensure that we can provide multiple passages within the context window of the final question answering prompt.\n",
    "\n",
    "Here we are chunking documents into 800 token passages with an overlap of 400 tokens.\n",
    "\n",
    "Here we are using a simple splitter but Langchain offers more advanced splitters to reduce the chance of context being lost."
   ]
  },
  {
   "cell_type": "code",
   "execution_count": 13,
   "metadata": {},
   "outputs": [
    {
     "name": "stdout",
     "output_type": "stream",
     "text": [
      "Collecting jq\n",
      "  Downloading jq-1.8.0-cp310-cp310-win_amd64.whl.metadata (7.2 kB)\n",
      "Downloading jq-1.8.0-cp310-cp310-win_amd64.whl (417 kB)\n",
      "Installing collected packages: jq\n",
      "Successfully installed jq-1.8.0\n"
     ]
    }
   ],
   "source": [
    "!pip install jq"
   ]
  },
  {
   "cell_type": "code",
   "execution_count": 33,
   "metadata": {},
   "outputs": [],
   "source": [
    "from langchain.document_loaders import JSONLoader\n",
    "from langchain.text_splitter import RecursiveCharacterTextSplitter\n",
    "\n",
    "\n",
    "def metadata_func(record: dict, metadata: dict) -> dict:\n",
    "    #Populate the metadata dictionary with keys name, summary, url, category, and updated_at.\n",
    "    \"\"\"\n",
    "    Populate the metadata dictionary with relevant fields from the record.\n",
    "    This metadata will be added to each document chunk.\n",
    "    \"\"\"\n",
    "    # Extract specific metadata fields from the record\n",
    "    metadata[\"name\"] = record.get(\"name\")  # Document name, default is \"Unknown\" if missing\n",
    "    metadata[\"summary\"] = record.get(\"summary\")  # Document summary\n",
    "    metadata[\"url\"] = record.get(\"url\")  # Source URL of the document\n",
    "    metadata[\"category\"] = record.get(\"category\",)  # Category of the document\n",
    "    metadata[\"updated_at\"] = record.get(\"updated_at\")  # Last update timestamp\n",
    "\n",
    "    # Return the updated metadata dictionary\n",
    "    return metadata\n",
    "\n",
    "\n",
    "# For more loaders https://python.langchain.com/docs/modules/data_connection/document_loaders/\n",
    "# And 3rd party loaders https://python.langchain.com/docs/modules/data_connection/document_loaders/#third-party-loaders\n",
    "loader = JSONLoader(\n",
    "    file_path=\"temp.json\",\n",
    "    jq_schema=\".[]\",\n",
    "    content_key=\"content\",\n",
    "    metadata_func=metadata_func,\n",
    ")\n",
    "\n",
    "text_splitter = RecursiveCharacterTextSplitter.from_tiktoken_encoder(\n",
    "    chunk_size=800, chunk_overlap=400 #define chunk size and chunk overlap\n",
    ")\n",
    "docs = loader.load_and_split(text_splitter=text_splitter)"
   ]
  },
  {
   "cell_type": "code",
   "execution_count": 15,
   "metadata": {},
   "outputs": [
    {
     "name": "stdout",
     "output_type": "stream",
     "text": [
      "{'name': 'Document 1', 'summary': 'A brief summary.', 'url': 'http://example.com', 'category': 'Tutorial', 'updated_at': '2025-01-30'}\n"
     ]
    }
   ],
   "source": [
    "#Test the metadata_func by printing metadata for a sample record\n",
    "\n",
    "sample_record = {\n",
    "    \"name\": \"Document 1\",\n",
    "    \"summary\": \"A brief summary.\",\n",
    "    \"url\": \"http://example.com\",\n",
    "    \"category\": \"Tutorial\",\n",
    "    \"updated_at\": \"2025-01-30\"\n",
    "}\n",
    "metadata = {}\n",
    "print(metadata_func(sample_record, metadata))"
   ]
  },
  {
   "cell_type": "code",
   "execution_count": 16,
   "metadata": {},
   "outputs": [
    {
     "name": "stdout",
     "output_type": "stream",
     "text": [
      "[Document(metadata={'source': 'C:\\\\Users\\\\larry\\\\OneDrive\\\\Documents\\\\GitHub\\\\lab-chatbot-with-multi-query-retriever\\\\temp.json', 'seq_num': 1, 'name': 'Work From Home Policy', 'summary': 'This policy outlines the guidelines for full-time remote work, including eligibility, equipment and resources, workspace requirements, communication expectations, performance expectations, time tracking and overtime, confidentiality and data security, health and well-being, and policy reviews and updates. Employees are encouraged to direct any questions or concerns', 'url': './sharepoint/Work from home policy.txt', 'category': 'teams', 'updated_at': '2020-03-01'}, page_content=\"Effective: March 2020\\nPurpose\\n\\nThe purpose of this full-time work-from-home policy is to provide guidelines and support for employees to conduct their work remotely, ensuring the continuity and productivity of business operations during the COVID-19 pandemic and beyond.\\nScope\\n\\nThis policy applies to all employees who are eligible for remote work as determined by their role and responsibilities. It is designed to allow employees to work from home full time while maintaining the same level of performance and collaboration as they would in the office.\\nEligibility\\n\\nEmployees who can perform their work duties remotely and have received approval from their direct supervisor and the HR department are eligible for this work-from-home arrangement.\\nEquipment and Resources\\n\\nThe necessary equipment and resources will be provided to employees for remote work, including a company-issued laptop, software licenses, and access to secure communication tools. Employees are responsible for maintaining and protecting the company's equipment and data.\\nWorkspace\\n\\nEmployees working from home are responsible for creating a comfortable and safe workspace that is conducive to productivity. This includes ensuring that their home office is ergonomically designed, well-lit, and free from distractions.\\nCommunication\\n\\nEffective communication is vital for successful remote work. Employees are expected to maintain regular communication with their supervisors, colleagues, and team members through email, phone calls, video conferences, and other approved communication tools.\\nWork Hours and Availability\\n\\nEmployees are expected to maintain their regular work hours and be available during normal business hours, unless otherwise agreed upon with their supervisor. Any changes to work hours or availability must be communicated to the employee's supervisor and the HR department.\\nPerformance Expectations\\n\\nEmployees working from home are expected to maintain the same level of performance and productivity as if they were working in the office. Supervisors and team members will collaborate to establish clear expectations and goals for remote work.\\nTime Tracking and Overtime\\n\\nEmployees are required to accurately track their work hours using the company's time tracking system. Non-exempt employees must obtain approval from their supervisor before working overtime.\\nConfidentiality and Data Security\\n\\nEmployees must adhere to the company's confidentiality and data security policies while working from home. This includes safeguarding sensitive information, securing personal devices and internet connections, and reporting any security breaches to the IT department.\\nHealth and Well-being\\n\\nThe company encourages employees to prioritize their health and well-being while working from home. This includes taking regular breaks, maintaining a work-life balance, and seeking support from supervisors and colleagues when needed.\\nPolicy Review and Updates\\n\\nThis work-from-home policy will be reviewed periodically and updated as necessary, taking into account changes in public health guidance, business needs, and employee feedback.\\nQuestions and Concerns\\n\\nEmployees are encouraged to direct any questions or concerns about this policy to their supervisor or the HR department.\"), Document(metadata={'source': 'C:\\\\Users\\\\larry\\\\OneDrive\\\\Documents\\\\GitHub\\\\lab-chatbot-with-multi-query-retriever\\\\temp.json', 'seq_num': 2, 'name': 'April Work From Home Update', 'summary': 'Starting May 2022, employees will need to work two days a week in the office. Coordinate with your supervisor and HR department for these days while following safety protocols.', 'url': './sharepoint/April work from home update.txt', 'category': 'teams', 'updated_at': '2022-04-29'}, page_content='Starting May 2022, the company will be implementing a two-day in-office work requirement per week for all eligible employees. Please coordinate with your supervisor and HR department to schedule your in-office workdays while continuing to follow all safety protocols.')]\n"
     ]
    }
   ],
   "source": [
    "print(docs[:2])  # Check the first two chunks of the documents"
   ]
  },
  {
   "cell_type": "markdown",
   "metadata": {},
   "source": [
    "### Bulk Import Passages\n",
    "\n",
    "Now that we have split each document into the chunk size of 800, we will now index data to elasticsearch using [ElasticsearchStore.from_documents](https://api.python.langchain.com/en/latest/vectorstores/langchain.vectorstores.elasticsearch.ElasticsearchStore.html#langchain.vectorstores.elasticsearch.ElasticsearchStore.from_documents).\n",
    "\n",
    "We will use Cloud ID, Password and Index name values set in the `Create cloud deployment` step."
   ]
  },
  {
   "cell_type": "code",
   "execution_count": 18,
   "metadata": {},
   "outputs": [
    {
     "name": "stdout",
     "output_type": "stream",
     "text": [
      "Document 1:\n",
      " page_content='Effective: March 2020\n",
      "Purpose\n",
      "\n",
      "The purpose of this full-time work-from-home policy is to provide guidelines and support for employees to conduct their work remotely, ensuring the continuity and productivity of business operations during the COVID-19 pandemic and beyond.\n",
      "Scope\n",
      "\n",
      "This policy applies to all employees who are eligible for remote work as determined by their role and responsibilities. It is designed to allow employees to work from home full time while maintaining the same level of performance and collaboration as they would in the office.\n",
      "Eligibility\n",
      "\n",
      "Employees who can perform their work duties remotely and have received approval from their direct supervisor and the HR department are eligible for this work-from-home arrangement.\n",
      "Equipment and Resources\n",
      "\n",
      "The necessary equipment and resources will be provided to employees for remote work, including a company-issued laptop, software licenses, and access to secure communication tools. Employees are responsible for maintaining and protecting the company's equipment and data.\n",
      "Workspace\n",
      "\n",
      "Employees working from home are responsible for creating a comfortable and safe workspace that is conducive to productivity. This includes ensuring that their home office is ergonomically designed, well-lit, and free from distractions.\n",
      "Communication\n",
      "\n",
      "Effective communication is vital for successful remote work. Employees are expected to maintain regular communication with their supervisors, colleagues, and team members through email, phone calls, video conferences, and other approved communication tools.\n",
      "Work Hours and Availability\n",
      "\n",
      "Employees are expected to maintain their regular work hours and be available during normal business hours, unless otherwise agreed upon with their supervisor. Any changes to work hours or availability must be communicated to the employee's supervisor and the HR department.\n",
      "Performance Expectations\n",
      "\n",
      "Employees working from home are expected to maintain the same level of performance and productivity as if they were working in the office. Supervisors and team members will collaborate to establish clear expectations and goals for remote work.\n",
      "Time Tracking and Overtime\n",
      "\n",
      "Employees are required to accurately track their work hours using the company's time tracking system. Non-exempt employees must obtain approval from their supervisor before working overtime.\n",
      "Confidentiality and Data Security\n",
      "\n",
      "Employees must adhere to the company's confidentiality and data security policies while working from home. This includes safeguarding sensitive information, securing personal devices and internet connections, and reporting any security breaches to the IT department.\n",
      "Health and Well-being\n",
      "\n",
      "The company encourages employees to prioritize their health and well-being while working from home. This includes taking regular breaks, maintaining a work-life balance, and seeking support from supervisors and colleagues when needed.\n",
      "Policy Review and Updates\n",
      "\n",
      "This work-from-home policy will be reviewed periodically and updated as necessary, taking into account changes in public health guidance, business needs, and employee feedback.\n",
      "Questions and Concerns\n",
      "\n",
      "Employees are encouraged to direct any questions or concerns about this policy to their supervisor or the HR department.' metadata={'source': 'C:\\\\Users\\\\larry\\\\OneDrive\\\\Documents\\\\GitHub\\\\lab-chatbot-with-multi-query-retriever\\\\temp.json', 'seq_num': 1, 'name': 'Work From Home Policy', 'summary': 'This policy outlines the guidelines for full-time remote work, including eligibility, equipment and resources, workspace requirements, communication expectations, performance expectations, time tracking and overtime, confidentiality and data security, health and well-being, and policy reviews and updates. Employees are encouraged to direct any questions or concerns', 'url': './sharepoint/Work from home policy.txt', 'category': 'teams', 'updated_at': '2020-03-01'} \n",
      "\n",
      "Document 2:\n",
      " page_content='Starting May 2022, the company will be implementing a two-day in-office work requirement per week for all eligible employees. Please coordinate with your supervisor and HR department to schedule your in-office workdays while continuing to follow all safety protocols.' metadata={'source': 'C:\\\\Users\\\\larry\\\\OneDrive\\\\Documents\\\\GitHub\\\\lab-chatbot-with-multi-query-retriever\\\\temp.json', 'seq_num': 2, 'name': 'April Work From Home Update', 'summary': 'Starting May 2022, employees will need to work two days a week in the office. Coordinate with your supervisor and HR department for these days while following safety protocols.', 'url': './sharepoint/April work from home update.txt', 'category': 'teams', 'updated_at': '2022-04-29'} \n",
      "\n",
      "Document 3:\n",
      " page_content='As we continue to prioritize the well-being of our employees, we are making a slight adjustment to our hybrid work policy. Starting May 1, 2023, employees will be required to work from the office three days a week, with two days designated for remote work. Please communicate with your supervisor and HR department to establish your updated in-office workdays.' metadata={'source': 'C:\\\\Users\\\\larry\\\\OneDrive\\\\Documents\\\\GitHub\\\\lab-chatbot-with-multi-query-retriever\\\\temp.json', 'seq_num': 3, 'name': 'Wfh Policy Update May 2023', 'summary': 'Starting May 1, 2023, our hybrid work policy will require employees to work from the office three days a week and two days remotely.', 'url': './sharepoint/WFH policy update May 2023.txt', 'category': 'teams', 'updated_at': '2023-05-01'} \n",
      "\n",
      "Document 4:\n",
      " page_content='Executive Summary:\n",
      "This sales strategy document outlines the key objectives, focus areas, and action plans for our tech company's sales operations in fiscal year 2024. Our primary goal is to increase revenue, expand market share, and strengthen customer relationships in our target markets.\n",
      "\n",
      "I. Objectives for Fiscal Year 2024\n",
      "\n",
      "Increase revenue by 20% compared to fiscal year 2023.\n",
      "Expand market share in key segments by 15%.\n",
      "Retain 95% of existing customers and increase customer satisfaction ratings.\n",
      "Launch at least two new products or services in high-demand market segments.\n",
      "\n",
      "II. Focus Areas\n",
      "A. Target Markets:\n",
      "Continue to serve existing markets with a focus on high-growth industries.\n",
      "Identify and penetrate new markets with high potential for our products and services.\n",
      "\n",
      "B. Customer Segmentation:\n",
      "Strengthen relationships with key accounts and strategic partners.\n",
      "Pursue new customers in underserved market segments.\n",
      "Develop tailored offerings for different customer segments based on their needs and preferences.\n",
      "\n",
      "C. Product/Service Portfolio:\n",
      "Optimize the existing product/service portfolio by focusing on high-demand solutions.\n",
      "Develop and launch innovative products/services in emerging technology areas.\n",
      "Enhance post-sales support and customer service to improve customer satisfaction.\n",
      "\n",
      "III. Action Plans\n",
      "A. Sales Team Development:\n",
      "Expand the sales team to cover new markets and industries.\n",
      "Provide ongoing training to sales staff on product knowledge, sales techniques, and industry trends.\n",
      "Implement a performance-based incentive system to reward top performers.\n",
      "\n",
      "B. Marketing and Promotion:\n",
      "Develop targeted marketing campaigns for different customer segments and industries.\n",
      "Leverage digital marketing channels to increase brand visibility and lead generation.\n",
      "Participate in industry events and trade shows to showcase our products and services.\n",
      "\n",
      "C. Partner Ecosystem:\n",
      "Strengthen existing partnerships and establish new strategic alliances to expand market reach.\n",
      "Collaborate with partners on joint marketing and sales initiatives.\n",
      "Provide partner training and support to ensure they effectively represent our products and services.\n",
      "\n",
      "D. Customer Success:\n",
      "Implement a proactive customer success program to improve customer retention and satisfaction.\n",
      "Develop a dedicated customer support team to address customer inquiries and concerns promptly.\n",
      "Collect and analyze customer feedback to identify areas for improvement in our products, services, and processes.\n",
      "\n",
      "IV. Monitoring and Evaluation\n",
      "Establish key performance indicators (KPIs) to track progress toward our objectives.\n",
      "Conduct regular sales team meetings to review performance, share best practices, and address challenges.\n",
      "Conduct quarterly reviews of our sales strategy to ensure alignment with market trends and adjust as needed.\n",
      "\n",
      "By following this sales strategy for fiscal year 2024, our tech company aims to achieve significant growth and success in our target markets, while also providing exceptional value and service to our customers.' metadata={'source': 'C:\\\\Users\\\\larry\\\\OneDrive\\\\Documents\\\\GitHub\\\\lab-chatbot-with-multi-query-retriever\\\\temp.json', 'seq_num': 4, 'name': 'Fy2024 Company Sales Strategy', 'summary': \"This sales strategy document outlines objectives, focus areas, and action plans for our tech company's sales operations in fiscal year 2024. Our primary goal is to increase revenue, expand market share, and strengthen customer relationships in our target markets. Focus areas include targeting new markets, segmenting customers, enhancing\", 'url': './sharepoint/FY2024 Company Sales Strategy.txt', 'category': 'teams', 'updated_at': '2023-04-15'} \n",
      "\n",
      "Document 5:\n",
      " page_content='Purpose\n",
      "\n",
      "The purpose of this vacation policy is to outline the guidelines and procedures for requesting and taking time off from work for personal and leisure purposes. This policy aims to promote a healthy work-life balance and encourage employees to take time to rest and recharge.\n",
      "Scope\n",
      "\n",
      "This policy applies to all full-time and part-time employees who have completed their probationary period.\n",
      "Vacation Accrual\n",
      "\n",
      "Full-time employees accrue vacation time at a rate of [X hours] per month, equivalent to [Y days] per year. Part-time employees accrue vacation time on a pro-rata basis, calculated according to their scheduled work hours.\n",
      "\n",
      "Vacation time will begin to accrue from the first day of employment, but employees are eligible to take vacation time only after completing their probationary period. Unused vacation time will be carried over to the next year, up to a maximum of [Z days]. Any additional unused vacation time will be forfeited.\n",
      "Vacation Scheduling\n",
      "\n",
      "Employees are required to submit vacation requests to their supervisor at least [A weeks] in advance, specifying the start and end dates of their vacation. Supervisors will review and approve vacation requests based on business needs, ensuring adequate coverage during the employee's absence.\n",
      "\n",
      "Employees are encouraged to plan their vacations around the company's peak and non-peak periods to minimize disruptions. Vacation requests during peak periods may be subject to limitations and require additional advance notice.\n",
      "Vacation Pay\n",
      "\n",
      "Employees will receive their regular pay during their approved vacation time. Vacation pay will be calculated based on the employee's average earnings over the [B weeks] preceding their vacation.\n",
      "Unplanned Absences and Vacation Time\n",
      "\n",
      "In the event of an unplanned absence due to illness or personal emergencies, employees may use their accrued vacation time, subject to supervisor approval. Employees must inform their supervisor as soon as possible and provide any required documentation upon their return to work.\n",
      "Vacation Time and Termination of Employment\n",
      "\n",
      "If an employee's employment is terminated, they will be paid out for any unused vacation time, calculated based on their current rate of pay.\n",
      "Policy Review and Updates\n",
      "\n",
      "This vacation policy will be reviewed periodically and updated as necessary, taking into account changes in labor laws, business needs, and employee feedback.\n",
      "Questions and Concerns\n",
      "\n",
      "Employees are encouraged to direct any questions or concerns about this policy to their supervisor or the HR department.' metadata={'source': 'C:\\\\Users\\\\larry\\\\OneDrive\\\\Documents\\\\GitHub\\\\lab-chatbot-with-multi-query-retriever\\\\temp.json', 'seq_num': 5, 'name': 'Company Vacation Policy', 'summary': ': This policy outlines the guidelines and procedures for requesting and taking time off from work for personal and leisure purposes. Full-time employees accrue vacation time at a rate of [X hours] per month, equivalent to [Y days] per year. Vacation requests must be submitted to supervisors at least', 'url': 'https://enterprisesearch.sharepoint.com/:t:/s/MSBuilddemo/ES6rw9bKZxVBobG1WUoJpikBF9Bhx1pw_GvJWbsg-Z_HNA?e=faSHVt', 'category': 'sharepoint', 'updated_at': '2018-04-16'} \n",
      "\n"
     ]
    }
   ],
   "source": [
    "# Step 1: Print a Sample of the Documents\n",
    "# Check the first few documents to identify inconsistencies\n",
    "def debug_documents(docs):\n",
    "    for i, doc in enumerate(docs[:5]):\n",
    "        print(f\"Document {i + 1}:\\n\", doc, \"\\n\")\n",
    "\n",
    "# Call the function to print the first few documents\n",
    "debug_documents(docs)"
   ]
  },
  {
   "cell_type": "code",
   "execution_count": 34,
   "metadata": {},
   "outputs": [
    {
     "name": "stdout",
     "output_type": "stream",
     "text": [
      "Inspecting problematic document:\n",
      "page_content='This career leveling matrix provides a framework for understanding the various roles and responsibilities of Software Engineers, as well as the skills and experience required for each level. This matrix is intended to support employee development, facilitate performance evaluations, and provide a clear career progression path.\n",
      "Junior Software Engineer\n",
      "\n",
      "Responsibilities:\n",
      "Collaborate with team members to design, develop, and maintain software applications and components.\n",
      "Write clean, well-structured, and efficient code following established coding standards.\n",
      "Participate in code reviews, providing and receiving constructive feedback.\n",
      "Troubleshoot and resolve software defects and issues.\n",
      "Assist with the creation of technical documentation.\n",
      "Continuously learn and stay up-to-date with new technologies and best practices.\n",
      "\n",
      "Skills & Experience:\n",
      "Bachelor’s degree in Computer Science or a related field, or equivalent work experience.\n",
      "Basic understanding of software development principles and methodologies.\n",
      "Proficiency in at least one programming language.\n",
      "Strong problem-solving and analytical skills.\n",
      "Effective communication and collaboration skills.\n",
      "Eagerness to learn and grow within the field.\n",
      "Senior Software Engineer\n",
      "\n",
      "Responsibilities:\n",
      "Design, develop, and maintain complex software applications and components.\n",
      "Lead and mentor junior team members in software development best practices and techniques.\n",
      "Conduct code reviews and ensure adherence to coding standards and best practices.\n",
      "Collaborate with cross-functional teams to define, design, and deliver software solutions.\n",
      "Identify, troubleshoot, and resolve complex software defects and issues.\n",
      "Contribute to the creation and maintenance of technical documentation.\n",
      "Evaluate and recommend new technologies, tools, and practices to improve software quality and efficiency.\n",
      "\n",
      "Skills & Experience:\n",
      "Bachelor’s degree in Computer Science or a related field, or equivalent work experience.\n",
      "5+ years of software development experience.\n",
      "Proficiency in multiple programming languages and technologies.\n",
      "Demonstrated ability to design and implement complex software solutions.\n",
      "Strong leadership, mentoring, and collaboration skills.\n",
      "Excellent problem-solving, analytical, and communication skills.\n",
      "Principal Software Engineer\n",
      "\n",
      "Responsibilities:\n",
      "Lead the design, development, and maintenance of large-scale, mission-critical software applications and components.\n",
      "Provide technical leadership and mentorship to software engineering teams.\n",
      "Drive the adoption of advanced software development practices and technologies.\n",
      "Collaborate with product management, architecture, and other stakeholders to define and deliver strategic software initiatives.\n",
      "Identify, troubleshoot, and resolve the most complex software defects and issues.\n",
      "Create and maintain technical documentation, including architectural designs and best practice guidelines.\n",
      "Represent [Company Name] as a thought leader in the software engineering community, including speaking at conferences, publishing articles, and contributing to open-source projects.\n",
      "\n",
      "Skills & Experience:\n",
      "Bachelor’s degree in Computer Science or a related field, or equivalent work experience.\n",
      "10+ years of software development experience, with a focus on large-scale, mission-critical applications.\n",
      "Expertise in multiple programming languages, technologies, and software development methodologies.\n",
      "Proven ability to lead and mentor high-performing software engineering teams.\n",
      "Exceptional problem-solving, analytical, and communication skills.\n",
      "Strong business acumen and ability to influence decision-making at the executive level.\n",
      "\n",
      "By following this career leveling matrix, we aim to support the growth and development of Software Engineers, enabling them to reach their full potential and contribute meaningfully to the success of the organization.' metadata={'source': 'C:\\\\Users\\\\larry\\\\OneDrive\\\\Documents\\\\GitHub\\\\lab-chatbot-with-multi-query-retriever\\\\temp.json', 'seq_num': 6, 'name': 'Swe Career Matrix', 'summary': '\\nThis career leveling matrix provides a framework for understanding the various roles and responsibilities of Software Engineers, as well as the skills and experience required for each level. It is intended to support employee development, facilitate performance evaluations, and provide a clear career progression path.', 'url': 'https://enterprisesearch.sharepoint.com/:t:/s/MSBuilddemo/EVYuEyRhHh5Aqc3a39sqbGcBkqKIHRWtJBjjUjNs6snpMg?e=nv1mf4', 'category': 'sharepoint', 'updated_at': None}\n"
     ]
    }
   ],
   "source": [
    "# Inspect the specific document causing the issue (document 6)\n",
    "print(f\"Inspecting problematic document:\\n{docs[5]}\")"
   ]
  },
  {
   "cell_type": "code",
   "execution_count": 30,
   "metadata": {},
   "outputs": [
    {
     "name": "stdout",
     "output_type": "stream",
     "text": [
      "Page Content: This career leveling matrix provides a framework for understanding the various roles and responsibilities of Software Engineers, as well as the skills and experience required for each level. This matrix is intended to support employee development, facilitate performance evaluations, and provide a clear career progression path.\n",
      "Junior Software Engineer\n",
      "\n",
      "Responsibilities:\n",
      "Collaborate with team members to design, develop, and maintain software applications and components.\n",
      "Write clean, well-structured, and efficient code following established coding standards.\n",
      "Participate in code reviews, providing and receiving constructive feedback.\n",
      "Troubleshoot and resolve software defects and issues.\n",
      "Assist with the creation of technical documentation.\n",
      "Continuously learn and stay up-to-date with new technologies and best practices.\n",
      "\n",
      "Skills & Experience:\n",
      "Bachelor’s degree in Computer Science or a related field, or equivalent work experience.\n",
      "Basic understanding of software development principles and methodologies.\n",
      "Proficiency in at least one programming language.\n",
      "Strong problem-solving and analytical skills.\n",
      "Effective communication and collaboration skills.\n",
      "Eagerness to learn and grow within the field.\n",
      "Senior Software Engineer\n",
      "\n",
      "Responsibilities:\n",
      "Design, develop, and maintain complex software applications and components.\n",
      "Lead and mentor junior team members in software development best practices and techniques.\n",
      "Conduct code reviews and ensure adherence to coding standards and best practices.\n",
      "Collaborate with cross-functional teams to define, design, and deliver software solutions.\n",
      "Identify, troubleshoot, and resolve complex software defects and issues.\n",
      "Contribute to the creation and maintenance of technical documentation.\n",
      "Evaluate and recommend new technologies, tools, and practices to improve software quality and efficiency.\n",
      "\n",
      "Skills & Experience:\n",
      "Bachelor’s degree in Computer Science or a related field, or equivalent work experience.\n",
      "5+ years of software development experience.\n",
      "Proficiency in multiple programming languages and technologies.\n",
      "Demonstrated ability to design and implement complex software solutions.\n",
      "Strong leadership, mentoring, and collaboration skills.\n",
      "Excellent problem-solving, analytical, and communication skills.\n",
      "Principal Software Engineer\n",
      "\n",
      "Responsibilities:\n",
      "Lead the design, development, and maintenance of large-scale, mission-critical software applications and components.\n",
      "Provide technical leadership and mentorship to software engineering teams.\n",
      "Drive the adoption of advanced software development practices and technologies.\n",
      "Collaborate with product management, architecture, and other stakeholders to define and deliver strategic software initiatives.\n",
      "Identify, troubleshoot, and resolve the most complex software defects and issues.\n",
      "Create and maintain technical documentation, including architectural designs and best practice guidelines.\n",
      "Represent [Company Name] as a thought leader in the software engineering community, including speaking at conferences, publishing articles, and contributing to open-source projects.\n",
      "\n",
      "Skills & Experience:\n",
      "Bachelor’s degree in Computer Science or a related field, or equivalent work experience.\n",
      "10+ years of software development experience, with a focus on large-scale, mission-critical applications.\n",
      "Expertise in multiple programming languages, technologies, and software development methodologies.\n",
      "Proven ability to lead and mentor high-performing software engineering teams.\n",
      "Exceptional problem-solving, analytical, and communication skills.\n",
      "Strong business acumen and ability to influence decision-making at the executive level.\n",
      "\n",
      "By following this career leveling matrix, we aim to support the growth and development of Software Engineers, enabling them to reach their full potential and contribute meaningfully to the success of the organization.\n",
      "Metadata: {'source': 'C:\\\\Users\\\\larry\\\\OneDrive\\\\Documents\\\\GitHub\\\\lab-chatbot-with-multi-query-retriever\\\\temp.json', 'seq_num': 6, 'name': 'Swe Career Matrix', 'summary': '\\nThis career leveling matrix provides a framework for understanding the various roles and responsibilities of Software Engineers, as well as the skills and experience required for each level. It is intended to support employee development, facilitate performance evaluations, and provide a clear career progression path.', 'url': 'https://enterprisesearch.sharepoint.com/:t:/s/MSBuilddemo/EVYuEyRhHh5Aqc3a39sqbGcBkqKIHRWtJBjjUjNs6snpMg?e=nv1mf4', 'category': 'sharepoint', 'updated_at': 'Unknown date'}\n"
     ]
    }
   ],
   "source": [
    "# Validate the metadata and page content of the document\n",
    "problematic_doc = docs[5]\n",
    "print(\"Page Content:\", problematic_doc.page_content)\n",
    "print(\"Metadata:\", problematic_doc.metadata)"
   ]
  },
  {
   "cell_type": "code",
   "execution_count": 21,
   "metadata": {},
   "outputs": [],
   "source": [
    "# Step 2: Validate the Metadata for Each Document\n",
    "# Ensure each document has all required fields and valid values\n",
    "def validate_metadata(docs):\n",
    "    for i, doc in enumerate(docs):\n",
    "        if not doc.metadata:\n",
    "            print(f\"Document {i} is missing metadata.\")\n",
    "        if not doc.page_content:\n",
    "            print(f\"Document {i} is missing page_content.\")\n",
    "\n",
    "# Call the function to validate metadata\n",
    "validate_metadata(docs)"
   ]
  },
  {
   "cell_type": "code",
   "execution_count": 35,
   "metadata": {},
   "outputs": [],
   "source": [
    "# Index the split documents into Elasticsearch\n",
    "try:\n",
    "    documents = vectorstore.from_documents(\n",
    "    docs, # List of document chunks\n",
    "    embeddings, # Embedding model\n",
    "    index_name=\"multi_query_index\", # Ensure this matches the created index name\n",
    "    es_cloud_id=ELASTIC_CLOUD_ID, # Cloud ID for Elasticsearch\n",
    "    es_api_key=ELASTIC_API_KEY, # API Key for Elasticsearch\n",
    ")\n",
    "except Exception as e:\n",
    "    print(f\"Error during bulk indexing: {e}\")\n",
    "\n",
    "# Initialize the OpenAI language model (LLM)\n",
    "llm = OpenAI(temperature=0, openai_api_key=OPENAI_API_KEY) # temperature=>Controls randomness (0 = deterministic)\n",
    "\n",
    "# Set up the MultiQueryRetriever using the LLM and vectorstore\n",
    "retriever = MultiQueryRetriever.from_llm(vectorstore.as_retriever(), llm) # Elasticsearch retriever with LLM"
   ]
  },
  {
   "cell_type": "markdown",
   "metadata": {},
   "source": [
    "# Question Answering with MultiQuery Retriever\n",
    "\n",
    "Now that we have the passages stored in Elasticsearch, we can now ask a question to get the relevant passages."
   ]
  },
  {
   "cell_type": "code",
   "execution_count": 36,
   "metadata": {},
   "outputs": [
    {
     "name": "stderr",
     "output_type": "stream",
     "text": [
      "INFO:langchain.retrievers.multi_query:Generated queries: ['1. Can you provide information on the sales team at NASA?', '2. How does the sales team operate within NASA?', '3. What are the responsibilities of the NASA sales team?']\n"
     ]
    },
    {
     "name": "stdout",
     "output_type": "stream",
     "text": [
      "---- Answer ----\n",
      "The NASA sales team is a part of the Americas region in the sales organization of the company. It is led by two Area Vice-Presidents, Laura Martinez for North America and Gary Johnson for South America. The team is responsible for promoting and selling the company's products and services in the North and South American markets. They work closely with other departments, such as marketing, product development, and customer support, to ensure the company's success in these regions.\n"
     ]
    }
   ],
   "source": [
    "from langchain.schema.runnable import RunnableParallel, RunnablePassthrough\n",
    "from langchain.prompts import ChatPromptTemplate, PromptTemplate\n",
    "from langchain.schema import format_document\n",
    "\n",
    "import logging\n",
    "\n",
    "logging.basicConfig()\n",
    "logging.getLogger(\"langchain.retrievers.multi_query\").setLevel(logging.INFO)\n",
    "\n",
    "LLM_CONTEXT_PROMPT = ChatPromptTemplate.from_template(\n",
    "    \"\"\"You are an assistant for question-answering tasks. Use the following pieces of retrieved context to answer the question. If you don't know the answer, just say that you don't know. Be as verbose and educational in your response as possible. \n",
    "    \n",
    "    context: {context}\n",
    "    Question: \"{question}\"\n",
    "    Answer:\n",
    "    \"\"\"\n",
    ")\n",
    "\n",
    "LLM_DOCUMENT_PROMPT = PromptTemplate.from_template(\n",
    "    \"\"\"\n",
    "---\n",
    "SOURCE: {name}\n",
    "{page_content}\n",
    "---\n",
    "\"\"\"\n",
    ")\n",
    "\n",
    "\n",
    "def _combine_documents(\n",
    "    docs, document_prompt=LLM_DOCUMENT_PROMPT, document_separator=\"\\n\\n\"\n",
    "):\n",
    "    doc_strings = [format_document(doc, document_prompt) for doc in docs]\n",
    "    return document_separator.join(doc_strings)\n",
    "\n",
    "\n",
    "_context = RunnableParallel(\n",
    "    context=retriever | _combine_documents,\n",
    "    question=RunnablePassthrough(),\n",
    ")\n",
    "\n",
    "chain = _context | LLM_CONTEXT_PROMPT | llm\n",
    "\n",
    "ans = chain.invoke(\"what is the nasa sales team?\")\n",
    "\n",
    "print(\"---- Answer ----\")\n",
    "print(ans)"
   ]
  },
  {
   "cell_type": "markdown",
   "metadata": {},
   "source": [
    "**Generate at least two new iteratioins of the previous cells - Be creative.** Did you master Multi-\n",
    "Query Retriever concepts through this lab?"
   ]
  },
  {
   "cell_type": "markdown",
   "metadata": {},
   "source": [
    "# **Iteration No. 01: Modified Context Prompt**"
   ]
  },
  {
   "cell_type": "code",
   "execution_count": 37,
   "metadata": {},
   "outputs": [
    {
     "name": "stderr",
     "output_type": "stream",
     "text": [
      "INFO:langchain.retrievers.multi_query:Generated queries: ['1. What are the main duties and obligations of a Senior Software Engineer?', '2. Can you list the primary tasks and roles of a Senior Software Engineer?', '3. What are the core responsibilities that come with being a Senior Software Engineer?']\n"
     ]
    },
    {
     "name": "stdout",
     "output_type": "stream",
     "text": [
      "---- Answer ----\n",
      "- Design, develop, and maintain complex software applications and components.\n",
      "    - Lead and mentor junior team members in software development best practices and techniques.\n",
      "    - Conduct code reviews and ensure adherence to coding standards and best practices.\n",
      "    - Collaborate with cross-functional teams to define, design, and deliver software solutions.\n",
      "    - Identify, troubleshoot, and resolve complex software defects and issues.\n",
      "    - Contribute to the creation and maintenance of technical documentation.\n",
      "    - Evaluate and recommend new technologies, tools, and practices to improve software quality and efficiency.\n"
     ]
    }
   ],
   "source": [
    "# Custom context prompt for more structured and formal responses\n",
    "CUSTOM_CONTEXT_PROMPT = ChatPromptTemplate.from_template(\n",
    "    \"\"\"You are an assistant specialized in delivering structured and precise answers. Use the following retrieved context to answer the question. If you don't know the answer, clearly state so. Provide bullet points for key aspects and explain thoroughly.\n",
    "\n",
    "    context: {context}\n",
    "    Question: \"{question}\"\n",
    "    Answer (structured response):\n",
    "    \"\"\"\n",
    ")\n",
    "\n",
    "# Use the existing _context pipeline\n",
    "custom_chain = _context | CUSTOM_CONTEXT_PROMPT | llm\n",
    "\n",
    "# Test with a new question\n",
    "ans01 = custom_chain.invoke(\"What are the key responsibilities of a Senior Software Engineer?\")\n",
    "\n",
    "print(\"---- Answer ----\")\n",
    "print(ans01)\n"
   ]
  },
  {
   "cell_type": "markdown",
   "metadata": {},
   "source": [
    "# **Iteration No. 02: Modified Document Prompt**"
   ]
  },
  {
   "cell_type": "code",
   "execution_count": 38,
   "metadata": {},
   "outputs": [
    {
     "name": "stderr",
     "output_type": "stream",
     "text": [
      "INFO:langchain.retrievers.multi_query:Generated queries: ['1. Can you provide information on the sales team at NASA?', '2. How does the sales team operate within NASA?', '3. What are the responsibilities of the NASA sales team?']\n"
     ]
    },
    {
     "name": "stdout",
     "output_type": "stream",
     "text": [
      "---- Custom Document Answer ----\n",
      "The NASA sales team is a part of the Americas region in the sales organization of the company. It is responsible for serving customers in North and South America, including the United States, Canada, Mexico, Central and South America. The team is led by two Area Vice-Presidents, Laura Martinez for North America and Gary Johnson for South America. Their main responsibilities include identifying and pursuing new business opportunities, nurturing existing client relationships, and ensuring customer satisfaction. They also collaborate closely with other departments, such as marketing, product development, and customer support, to deliver high-quality products and services to clients.\n"
     ]
    }
   ],
   "source": [
    "\n",
    "# Custom document prompt for retrieved documents\n",
    "CUSTOM_DOCUMENT_PROMPT = PromptTemplate.from_template(\n",
    "    \"\"\"\n",
    "==== Document Metadata ====\n",
    "SOURCE: {name}\n",
    "CATEGORY: {category}\n",
    "UPDATED: {updated_at}\n",
    "\n",
    "CONTENT:\n",
    "{page_content}\n",
    "===========================\n",
    "\"\"\"\n",
    ")\n",
    "\n",
    "# Update the document formatting in the chain\n",
    "def _combine_custom_documents(\n",
    "    docs, document_prompt=CUSTOM_DOCUMENT_PROMPT, document_separator=\"\\n\\n=== NEXT DOCUMENT ===\\n\\n\"\n",
    "):\n",
    "    doc_strings = [format_document(doc, document_prompt) for doc in docs]\n",
    "    return document_separator.join(doc_strings)\n",
    "\n",
    "# Update the context pipeline with custom document formatting\n",
    "custom_context = RunnableParallel(\n",
    "    context=retriever | _combine_custom_documents,\n",
    "    question=RunnablePassthrough(),\n",
    ")\n",
    "\n",
    "# Create the new chain with the custom context\n",
    "custom_chain_documents = custom_context | LLM_CONTEXT_PROMPT | llm\n",
    "\n",
    "# Test with the same or new question\n",
    "ans02 = custom_chain_documents.invoke(\"What is the NASA sales team?\")\n",
    "\n",
    "print(\"---- Custom Document Answer ----\")\n",
    "print(ans02)"
   ]
  },
  {
   "cell_type": "markdown",
   "metadata": {},
   "source": [
    "# **Iteration No. 03: Dynamic Filters Into the Retriever**"
   ]
  },
  {
   "cell_type": "code",
   "execution_count": 39,
   "metadata": {},
   "outputs": [
    {
     "name": "stderr",
     "output_type": "stream",
     "text": [
      "INFO:langchain.retrievers.multi_query:Generated queries: ['1. Which documents pertain to projects at NASA?', '2. Can you suggest any relevant documents for NASA projects?', '3. What are some documents that would be useful for NASA projects?']\n"
     ]
    },
    {
     "name": "stdout",
     "output_type": "stream",
     "text": [
      "---- Filtered Answer ----\n",
      "\n",
      "The documents that are relevant for NASA projects are the Sales Organization Overview and the Swe Career Matrix. These documents provide information on the structure and responsibilities of the NASA region, as well as the roles and skills required for software engineers working on NASA projects. Additionally, the Intellectual Property Policy may also be relevant for NASA projects, as it outlines guidelines for ownership and protection of intellectual property, which may be important for projects involving innovative technology.\n"
     ]
    }
   ],
   "source": [
    "from langchain.schema.runnable import RunnableMap\n",
    "\n",
    "# Define a filter function for the retriever\n",
    "def filter_documents_by_metadata(docs, category=None, updated_after=None):\n",
    "    \"\"\"\n",
    "    Filters documents based on metadata conditions.\n",
    "\n",
    "    Args:\n",
    "    - docs: List of retrieved documents.\n",
    "    - category: Filter by document category (e.g., 'sharepoint').\n",
    "    - updated_after: Filter by update date (e.g., '2025-01-01').\n",
    "\n",
    "    Returns:\n",
    "    - Filtered list of documents.\n",
    "    \"\"\"\n",
    "    filtered_docs = []\n",
    "    for doc in docs:\n",
    "        doc_category = doc.metadata.get(\"category\", None)\n",
    "        doc_updated_at = doc.metadata.get(\"updated_at\", None)\n",
    "\n",
    "        # Apply category filter\n",
    "        if category and doc_category != category:\n",
    "            continue\n",
    "\n",
    "        # Apply updated_after filter (assuming dates are formatted as 'YYYY-MM-DD')\n",
    "        if updated_after and doc_updated_at:\n",
    "            try:\n",
    "                if doc_updated_at < updated_after:\n",
    "                    continue\n",
    "            except ValueError:\n",
    "                pass  # Skip if date format is invalid\n",
    "\n",
    "        filtered_docs.append(doc)\n",
    "    return filtered_docs\n",
    "\n",
    "# Modify the context pipeline to include filtering\n",
    "filtered_context = RunnableMap(\n",
    "    {\n",
    "        \"context\": retriever | (lambda docs: filter_documents_by_metadata(docs, category=\"sharepoint\", updated_after=\"2025-01-01\")),\n",
    "        \"question\": RunnablePassthrough(),\n",
    "    }\n",
    ")\n",
    "\n",
    "# Create a new chain with the filtered context\n",
    "filtered_chain = filtered_context | LLM_CONTEXT_PROMPT | llm\n",
    "\n",
    "# Test with a filtered query\n",
    "ans03 = filtered_chain.invoke(\"What documents are relevant for NASA projects?\")\n",
    "print(\"---- Filtered Answer ----\")\n",
    "print(ans03)"
   ]
  },
  {
   "cell_type": "markdown",
   "metadata": {},
   "source": [
    "# **Iteration No. 04: Combining Dynamic Filters Into the Retriever and Summarization**"
   ]
  },
  {
   "cell_type": "code",
   "execution_count": 43,
   "metadata": {},
   "outputs": [
    {
     "name": "stderr",
     "output_type": "stream",
     "text": [
      "C:\\Users\\larry\\AppData\\Local\\Temp\\ipykernel_5244\\1161325813.py:65: LangChainDeprecationWarning: The method `BaseRetriever.get_relevant_documents` was deprecated in langchain-core 0.1.46 and will be removed in 1.0. Use :meth:`~invoke` instead.\n",
      "  retrieved_docs = retriever.get_relevant_documents(query)\n",
      "INFO:langchain.retrievers.multi_query:Generated queries: ['1. Which documents pertain to projects at NASA?', '2. Can you suggest any relevant documents for NASA projects?', '3. What are some documents that would be useful for NASA projects?']\n"
     ]
    },
    {
     "name": "stdout",
     "output_type": "stream",
     "text": [
      "---- Filtered and Summarized Documents ----\n",
      "Source: Sales Organization Overview\n",
      "Summary: \n",
      "The document outlines the structure and responsibilities of the sales organization, which is divided into four main regions (Americas, Europe, Asia-Pacific, and Middle East & Africa) with dedicated teams led by Area Vice-Presidents. These teams work together to identify and pursue new business opportunities, maintain client relationships, and ensure customer satisfaction.\n",
      "\n",
      "Source: Intellectual Property Policy\n",
      "Summary: \n",
      "This document outlines the guidelines and procedures for ownership, protection, and utilization of intellectual property created by employees during their employment with the company, with the goal of encouraging creativity and innovation while safeguarding the interests of both the company and its employees.\n",
      "\n",
      "Source: Swe Career Matrix\n",
      "Summary: \n",
      "This document outlines a career leveling matrix for Software Engineers, providing a framework for understanding roles, responsibilities, skills, and experience required at different levels. It aims to support employee development, facilitate performance evaluations, and provide a clear career progression path.\n",
      "\n",
      "---- Final Answer ----\n",
      "\n",
      "The documents that are relevant for NASA projects would likely include policies and guidelines related to intellectual property, as well as career leveling matrices for engineers and other employees. Additionally, documents outlining the structure and responsibilities of different teams and departments within the organization may also be relevant for NASA projects.\n"
     ]
    }
   ],
   "source": [
    "from langchain.schema.runnable import RunnableLambda, RunnableMap\n",
    "from langchain.prompts import ChatPromptTemplate\n",
    "\n",
    "# Define the filtering function\n",
    "def filter_documents_by_metadata(docs, category=None, updated_after=None):\n",
    "    \"\"\"\n",
    "    Filters documents based on metadata conditions.\n",
    "\n",
    "    Args:\n",
    "    - docs: List of retrieved documents.\n",
    "    - category: Filter by document category (e.g., 'sharepoint').\n",
    "    - updated_after: Filter by update date (e.g., '2025-01-01').\n",
    "\n",
    "    Returns:\n",
    "    - Filtered list of documents.\n",
    "    \"\"\"\n",
    "    filtered_docs = []\n",
    "    for doc in docs:\n",
    "        doc_category = doc.metadata.get(\"category\", None)\n",
    "        doc_updated_at = doc.metadata.get(\"updated_at\", None)\n",
    "\n",
    "        # Apply category filter\n",
    "        if category and doc_category != category:\n",
    "            continue\n",
    "\n",
    "        # Apply updated_after filter\n",
    "        if updated_after and doc_updated_at:\n",
    "            try:\n",
    "                if doc_updated_at < updated_after:\n",
    "                    continue\n",
    "            except ValueError:\n",
    "                pass  # Skip invalid date formats\n",
    "\n",
    "        filtered_docs.append(doc)\n",
    "    return filtered_docs\n",
    "\n",
    "# Define the summarization function\n",
    "def summarize_document(doc):\n",
    "    \"\"\"\n",
    "    Summarizes the content of a single document using the LLM.\n",
    "    \"\"\"\n",
    "    summary_prompt = f\"\"\"\n",
    "    Here is the content of a document:\n",
    "    ---\n",
    "    {doc.page_content}\n",
    "    ---\n",
    "    Please summarize the main idea of this document in 1-2 sentences.\n",
    "    \"\"\"\n",
    "    return llm(summary_prompt)\n",
    "\n",
    "# Combine filtering and summarization\n",
    "def filter_and_summarize(docs, category=None, updated_after=None):\n",
    "    \"\"\"\n",
    "    Filters documents by metadata and generates summaries for each document.\n",
    "    \"\"\"\n",
    "    filtered_docs = filter_documents_by_metadata(docs, category, updated_after)\n",
    "    summarized_docs = []\n",
    "    for doc in filtered_docs:\n",
    "        summary = summarize_document(doc)\n",
    "        summarized_docs.append({\"metadata\": doc.metadata, \"summary\": summary})\n",
    "    return summarized_docs\n",
    "\n",
    "# Test the pipeline with filtered and summarized output\n",
    "query = \"What documents are relevant for NASA projects?\"\n",
    "retrieved_docs = retriever.get_relevant_documents(query)\n",
    "\n",
    "# Filter and summarize the documents\n",
    "filtered_docs = filter_and_summarize(retrieved_docs, category=\"sharepoint\", updated_after=\"2025-01-01\")\n",
    "\n",
    "# Print filtered and summarized documents\n",
    "print(\"---- Filtered and Summarized Documents ----\")\n",
    "if filtered_docs:\n",
    "    for doc in filtered_docs:\n",
    "        print(f\"Source: {doc['metadata']['name']}\")\n",
    "        print(f\"Summary: {doc['summary']}\\n\")\n",
    "else:\n",
    "    print(\"No relevant documents found.\")\n",
    "\n",
    "# Generate the final response using the LLM\n",
    "if filtered_docs:\n",
    "    context = \"\\n\".join([f\"Source: {doc['metadata']['name']}\\nSummary: {doc['summary']}\" for doc in filtered_docs])\n",
    "    final_prompt = f\"\"\"\n",
    "    Here is the context from relevant documents:\n",
    "    {context}\n",
    "    Question: {query}\n",
    "    Answer:\n",
    "    \"\"\"\n",
    "    ans04 = llm(final_prompt)\n",
    "else:\n",
    "    ans04 = \"No relevant documents found.\"\n",
    "\n",
    "# Print the final answer\n",
    "print(\"---- Final Answer ----\")\n",
    "print(ans04)"
   ]
  }
 ],
 "metadata": {
  "kernelspec": {
   "display_name": "langchain_env",
   "language": "python",
   "name": "python3"
  },
  "language_info": {
   "codemirror_mode": {
    "name": "ipython",
    "version": 3
   },
   "file_extension": ".py",
   "mimetype": "text/x-python",
   "name": "python",
   "nbconvert_exporter": "python",
   "pygments_lexer": "ipython3",
   "version": "3.10.16"
  }
 },
 "nbformat": 4,
 "nbformat_minor": 4
}
