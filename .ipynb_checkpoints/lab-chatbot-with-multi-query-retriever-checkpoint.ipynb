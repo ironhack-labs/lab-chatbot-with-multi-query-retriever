{
 "cells": [
  {
   "cell_type": "markdown",
   "metadata": {},
   "source": [
    "# Question Answering with LangChain, OpenAI, and MultiQuery Retriever\n",
    "\n",
    "This interactive workbook demonstrates example of Elasticsearch's [MultiQuery Retriever](https://api.python.langchain.com/en/latest/retrievers/langchain.retrievers.multi_query.MultiQueryRetriever.html) to generate similar queries for a given user input and apply all queries to retrieve a larger set of relevant documents from a vectorstore.\n",
    "\n",
    "Before we begin, we first split the fictional workplace documents into passages with `langchain` and uses OpenAI to transform these passages into embeddings and then store these into Elasticsearch.\n",
    "\n",
    "We will then ask a question, generate similar questions using langchain and OpenAI, retrieve relevant passages from the vector store, and use langchain and OpenAI again to provide a summary for the questions."
   ]
  },
  {
   "cell_type": "markdown",
   "metadata": {},
   "source": [
    "## Install packages and import modules"
   ]
  },
  {
   "cell_type": "code",
   "execution_count": 3,
   "metadata": {},
   "outputs": [
    {
     "name": "stderr",
     "output_type": "stream",
     "text": [
      "\n",
      "[notice] A new release of pip is available: 24.3.1 -> 25.0\n",
      "[notice] To update, run: C:\\Users\\jesus\\AppData\\Local\\Microsoft\\WindowsApps\\PythonSoftwareFoundation.Python.3.13_qbz5n2kfra8p0\\python.exe -m pip install --upgrade pip\n"
     ]
    }
   ],
   "source": [
    "!python3 -m pip install -qU jq lark langchain langchain-elasticsearch langchain_openai tiktoken"
   ]
  },
  {
   "cell_type": "code",
   "execution_count": 5,
   "metadata": {},
   "outputs": [
    {
     "name": "stdout",
     "output_type": "stream",
     "text": [
      "Collecting langchain_elasticsearch\n",
      "  Using cached langchain_elasticsearch-0.3.2-py3-none-any.whl.metadata (8.3 kB)\n",
      "Collecting elasticsearch<9.0.0,>=8.13.1 (from elasticsearch[vectorstore-mmr]<9.0.0,>=8.13.1->langchain_elasticsearch)\n",
      "  Using cached elasticsearch-8.17.1-py3-none-any.whl.metadata (8.8 kB)\n",
      "Requirement already satisfied: langchain-core<0.4.0,>=0.3.0 in c:\\users\\jesus\\appdata\\local\\anaconda3\\lib\\site-packages (from langchain_elasticsearch) (0.3.33)\n",
      "Collecting elastic-transport<9,>=8.15.1 (from elasticsearch<9.0.0,>=8.13.1->elasticsearch[vectorstore-mmr]<9.0.0,>=8.13.1->langchain_elasticsearch)\n",
      "  Using cached elastic_transport-8.17.0-py3-none-any.whl.metadata (3.6 kB)\n",
      "Requirement already satisfied: numpy>=1 in c:\\users\\jesus\\appdata\\local\\anaconda3\\lib\\site-packages (from elasticsearch[vectorstore-mmr]<9.0.0,>=8.13.1->langchain_elasticsearch) (1.26.4)\n",
      "Collecting simsimd>=3 (from elasticsearch[vectorstore-mmr]<9.0.0,>=8.13.1->langchain_elasticsearch)\n",
      "  Downloading simsimd-6.2.1-cp312-cp312-win_amd64.whl.metadata (67 kB)\n",
      "Requirement already satisfied: PyYAML>=5.3 in c:\\users\\jesus\\appdata\\local\\anaconda3\\lib\\site-packages (from langchain-core<0.4.0,>=0.3.0->langchain_elasticsearch) (6.0.1)\n",
      "Requirement already satisfied: jsonpatch<2.0,>=1.33 in c:\\users\\jesus\\appdata\\local\\anaconda3\\lib\\site-packages (from langchain-core<0.4.0,>=0.3.0->langchain_elasticsearch) (1.33)\n",
      "Requirement already satisfied: langsmith<0.4,>=0.1.125 in c:\\users\\jesus\\appdata\\local\\anaconda3\\lib\\site-packages (from langchain-core<0.4.0,>=0.3.0->langchain_elasticsearch) (0.3.1)\n",
      "Requirement already satisfied: packaging<25,>=23.2 in c:\\users\\jesus\\appdata\\local\\anaconda3\\lib\\site-packages (from langchain-core<0.4.0,>=0.3.0->langchain_elasticsearch) (24.1)\n",
      "Requirement already satisfied: pydantic<3.0.0,>=2.7.4 in c:\\users\\jesus\\appdata\\local\\anaconda3\\lib\\site-packages (from langchain-core<0.4.0,>=0.3.0->langchain_elasticsearch) (2.10.6)\n",
      "Requirement already satisfied: tenacity!=8.4.0,<10.0.0,>=8.1.0 in c:\\users\\jesus\\appdata\\local\\anaconda3\\lib\\site-packages (from langchain-core<0.4.0,>=0.3.0->langchain_elasticsearch) (8.2.3)\n",
      "Requirement already satisfied: typing-extensions>=4.7 in c:\\users\\jesus\\appdata\\local\\anaconda3\\lib\\site-packages (from langchain-core<0.4.0,>=0.3.0->langchain_elasticsearch) (4.12.2)\n",
      "Requirement already satisfied: urllib3<3,>=1.26.2 in c:\\users\\jesus\\appdata\\local\\anaconda3\\lib\\site-packages (from elastic-transport<9,>=8.15.1->elasticsearch<9.0.0,>=8.13.1->elasticsearch[vectorstore-mmr]<9.0.0,>=8.13.1->langchain_elasticsearch) (2.2.3)\n",
      "Requirement already satisfied: certifi in c:\\users\\jesus\\appdata\\local\\anaconda3\\lib\\site-packages (from elastic-transport<9,>=8.15.1->elasticsearch<9.0.0,>=8.13.1->elasticsearch[vectorstore-mmr]<9.0.0,>=8.13.1->langchain_elasticsearch) (2024.8.30)\n",
      "Requirement already satisfied: jsonpointer>=1.9 in c:\\users\\jesus\\appdata\\local\\anaconda3\\lib\\site-packages (from jsonpatch<2.0,>=1.33->langchain-core<0.4.0,>=0.3.0->langchain_elasticsearch) (2.1)\n",
      "Requirement already satisfied: httpx<1,>=0.23.0 in c:\\users\\jesus\\appdata\\local\\anaconda3\\lib\\site-packages (from langsmith<0.4,>=0.1.125->langchain-core<0.4.0,>=0.3.0->langchain_elasticsearch) (0.27.0)\n",
      "Requirement already satisfied: orjson<4.0.0,>=3.9.14 in c:\\users\\jesus\\appdata\\local\\anaconda3\\lib\\site-packages (from langsmith<0.4,>=0.1.125->langchain-core<0.4.0,>=0.3.0->langchain_elasticsearch) (3.10.15)\n",
      "Requirement already satisfied: requests<3,>=2 in c:\\users\\jesus\\appdata\\local\\anaconda3\\lib\\site-packages (from langsmith<0.4,>=0.1.125->langchain-core<0.4.0,>=0.3.0->langchain_elasticsearch) (2.32.3)\n",
      "Requirement already satisfied: requests-toolbelt<2.0.0,>=1.0.0 in c:\\users\\jesus\\appdata\\local\\anaconda3\\lib\\site-packages (from langsmith<0.4,>=0.1.125->langchain-core<0.4.0,>=0.3.0->langchain_elasticsearch) (1.0.0)\n",
      "Requirement already satisfied: zstandard<0.24.0,>=0.23.0 in c:\\users\\jesus\\appdata\\local\\anaconda3\\lib\\site-packages (from langsmith<0.4,>=0.1.125->langchain-core<0.4.0,>=0.3.0->langchain_elasticsearch) (0.23.0)\n",
      "Requirement already satisfied: annotated-types>=0.6.0 in c:\\users\\jesus\\appdata\\local\\anaconda3\\lib\\site-packages (from pydantic<3.0.0,>=2.7.4->langchain-core<0.4.0,>=0.3.0->langchain_elasticsearch) (0.6.0)\n",
      "Requirement already satisfied: pydantic-core==2.27.2 in c:\\users\\jesus\\appdata\\local\\anaconda3\\lib\\site-packages (from pydantic<3.0.0,>=2.7.4->langchain-core<0.4.0,>=0.3.0->langchain_elasticsearch) (2.27.2)\n",
      "Requirement already satisfied: anyio in c:\\users\\jesus\\appdata\\local\\anaconda3\\lib\\site-packages (from httpx<1,>=0.23.0->langsmith<0.4,>=0.1.125->langchain-core<0.4.0,>=0.3.0->langchain_elasticsearch) (4.2.0)\n",
      "Requirement already satisfied: httpcore==1.* in c:\\users\\jesus\\appdata\\local\\anaconda3\\lib\\site-packages (from httpx<1,>=0.23.0->langsmith<0.4,>=0.1.125->langchain-core<0.4.0,>=0.3.0->langchain_elasticsearch) (1.0.2)\n",
      "Requirement already satisfied: idna in c:\\users\\jesus\\appdata\\local\\anaconda3\\lib\\site-packages (from httpx<1,>=0.23.0->langsmith<0.4,>=0.1.125->langchain-core<0.4.0,>=0.3.0->langchain_elasticsearch) (3.7)\n",
      "Requirement already satisfied: sniffio in c:\\users\\jesus\\appdata\\local\\anaconda3\\lib\\site-packages (from httpx<1,>=0.23.0->langsmith<0.4,>=0.1.125->langchain-core<0.4.0,>=0.3.0->langchain_elasticsearch) (1.3.0)\n",
      "Requirement already satisfied: h11<0.15,>=0.13 in c:\\users\\jesus\\appdata\\local\\anaconda3\\lib\\site-packages (from httpcore==1.*->httpx<1,>=0.23.0->langsmith<0.4,>=0.1.125->langchain-core<0.4.0,>=0.3.0->langchain_elasticsearch) (0.14.0)\n",
      "Requirement already satisfied: charset-normalizer<4,>=2 in c:\\users\\jesus\\appdata\\local\\anaconda3\\lib\\site-packages (from requests<3,>=2->langsmith<0.4,>=0.1.125->langchain-core<0.4.0,>=0.3.0->langchain_elasticsearch) (3.3.2)\n",
      "Using cached langchain_elasticsearch-0.3.2-py3-none-any.whl (45 kB)\n",
      "Using cached elasticsearch-8.17.1-py3-none-any.whl (653 kB)\n",
      "Using cached elastic_transport-8.17.0-py3-none-any.whl (64 kB)\n",
      "Downloading simsimd-6.2.1-cp312-cp312-win_amd64.whl (87 kB)\n",
      "Installing collected packages: simsimd, elastic-transport, elasticsearch, langchain_elasticsearch\n",
      "Successfully installed elastic-transport-8.17.0 elasticsearch-8.17.1 langchain_elasticsearch-0.3.2 simsimd-6.2.1\n"
     ]
    }
   ],
   "source": [
    "!pip install langchain_elasticsearch"
   ]
  },
  {
   "cell_type": "code",
   "execution_count": 7,
   "metadata": {},
   "outputs": [],
   "source": [
    "from langchain_openai.embeddings import OpenAIEmbeddings\n",
    "from langchain_elasticsearch import ElasticsearchStore\n",
    "from langchain_openai.llms import OpenAI\n",
    "from langchain.retrievers.multi_query import MultiQueryRetriever\n",
    "from getpass import getpass"
   ]
  },
  {
   "cell_type": "markdown",
   "metadata": {},
   "source": [
    "## Connect to Elasticsearch\n",
    "\n",
    "ℹ️ We're using an Elastic Cloud deployment of Elasticsearch for this notebook. If you don't have an Elastic Cloud deployment, sign up [here](https://cloud.elastic.co/registration?utm_source=github&utm_content=elasticsearch-labs-notebook) for a free trial. \n",
    "\n",
    "We'll use the **Cloud ID** to identify our deployment, because we are using Elastic Cloud deployment. To find the Cloud ID for your deployment, go to https://cloud.elastic.co/deployments and select your deployment.\n",
    "\n",
    "We will use [ElasticsearchStore](https://api.python.langchain.com/en/latest/vectorstores/langchain.vectorstores.elasticsearch.ElasticsearchStore.html) to connect to our elastic cloud deployment, This would help create and index data easily.  We would also send list of documents that we created in the previous step"
   ]
  },
  {
   "cell_type": "code",
   "execution_count": null,
   "metadata": {},
   "outputs": [],
   "source": [
    "# https://www.elastic.co/search-labs/tutorials/install-elasticsearch/elastic-cloud#finding-your-cloud-id\n",
    "ELASTIC_CLOUD_ID = getpass(\"Elastic Cloud ID: \")\n",
    "\n",
    "# https://www.elastic.co/search-labs/tutorials/install-elasticsearch/elastic-cloud#creating-an-api-key\n",
    "ELASTIC_API_KEY = getpass(\"Elastic Api Key: \")\n",
    "\n",
    "# https://platform.openai.com/api-keys\n",
    "OPENAI_API_KEY = getpass(\"OpenAI API key: \")\n",
    "\n",
    "embeddings = OpenAIEmbeddings(openai_api_key=OPENAI_API_KEY)\n",
    "\n",
    "vectorstore = ElasticsearchStore(\n",
    "    es_cloud_id=ELASTIC_CLOUD_ID,\n",
    "    es_api_key=ELASTIC_API_KEY,\n",
    "    index_name=\"multi_query_index\",\n",
    "    embedding=embeddings,\n",
    ")"
   ]
  },
  {
   "cell_type": "markdown",
   "metadata": {},
   "source": [
    "## Indexing Data into Elasticsearch\n",
    "Let's download the sample dataset and deserialize the document."
   ]
  },
  {
   "cell_type": "code",
   "execution_count": null,
   "metadata": {},
   "outputs": [],
   "source": [
    "from urllib.request import urlopen\n",
    "import json\n",
    "\n",
    "url = \"https://raw.githubusercontent.com/elastic/elasticsearch-labs/main/example-apps/chatbot-rag-app/data/data.json\"\n",
    "\n",
    "response = urlopen(url)\n",
    "data = json.load(response)\n",
    "\n",
    "with open(\"temp.json\", \"w\") as json_file:\n",
    "    json.dump(data, json_file)"
   ]
  },
  {
   "cell_type": "code",
   "execution_count": null,
   "metadata": {},
   "outputs": [],
   "source": [
    "# To confirm the expected data content\n",
    "with open(\"temp.json\", \"r\") as f:\n",
    "    data = json.load(f)\n",
    "print(data[:5])  # Print the first 5 records"
   ]
  },
  {
   "cell_type": "code",
   "execution_count": null,
   "metadata": {},
   "outputs": [],
   "source": [
    "count = 0\n",
    "for i in data:\n",
    "    display(count, len(i), i)\n",
    "    count += 1"
   ]
  },
  {
   "cell_type": "code",
   "execution_count": null,
   "metadata": {},
   "outputs": [],
   "source": [
    "# Function to check the length of page_content for all documents\n",
    "def check_document_lengths(docs):\n",
    "    for i, doc in enumerate(docs):\n",
    "        content_length = len(doc.page_content) if doc.page_content else 0\n",
    "        print(f\"Document {i+1} - Length: {content_length} characters\")\n",
    "\n",
    "# Call the function to inspect lengths\n",
    "check_document_lengths(docs)"
   ]
  },
  {
   "cell_type": "markdown",
   "metadata": {},
   "source": [
    "### Split Documents into Passages\n",
    "\n",
    "We’ll chunk documents into passages in order to improve the retrieval specificity and to ensure that we can provide multiple passages within the context window of the final question answering prompt.\n",
    "\n",
    "Here we are chunking documents into 800 token passages with an overlap of 400 tokens.\n",
    "\n",
    "Here we are using a simple splitter but Langchain offers more advanced splitters to reduce the chance of context being lost."
   ]
  },
  {
   "cell_type": "code",
   "execution_count": 9,
   "metadata": {},
   "outputs": [
    {
     "name": "stdout",
     "output_type": "stream",
     "text": [
      "Collecting jq\n",
      "  Downloading jq-1.8.0-cp312-cp312-win_amd64.whl.metadata (7.2 kB)\n",
      "Downloading jq-1.8.0-cp312-cp312-win_amd64.whl (417 kB)\n",
      "Installing collected packages: jq\n",
      "Successfully installed jq-1.8.0\n"
     ]
    }
   ],
   "source": [
    "!pip install jq"
   ]
  },
  {
   "cell_type": "code",
   "execution_count": null,
   "metadata": {},
   "outputs": [],
   "source": [
    "from langchain.document_loaders import JSONLoader\n",
    "from langchain.text_splitter import RecursiveCharacterTextSplitter\n",
    "\n",
    "\n",
    "def metadata_func(record: dict, metadata: dict) -> dict:\n",
    "    #Populate the metadata dictionary with keys name, summary, url, category, and updated_at.\n",
    "    \"\"\"\n",
    "    Populate the metadata dictionary with relevant fields from the record.\n",
    "    This metadata will be added to each document chunk.\n",
    "    \"\"\"\n",
    "    # Extract specific metadata fields from the record\n",
    "    metadata[\"name\"] = record.get(\"name\")  # Document name, default is \"Unknown\" if missing\n",
    "    metadata[\"summary\"] = record.get(\"summary\")  # Document summary\n",
    "    metadata[\"url\"] = record.get(\"url\")  # Source URL of the document\n",
    "    metadata[\"category\"] = record.get(\"category\",)  # Category of the document\n",
    "    metadata[\"updated_at\"] = record.get(\"updated_at\")  # Last update timestamp\n",
    "\n",
    "    # Return the updated metadata dictionary\n",
    "    return metadata\n",
    "\n",
    "\n",
    "# For more loaders https://python.langchain.com/docs/modules/data_connection/document_loaders/\n",
    "# And 3rd party loaders https://python.langchain.com/docs/modules/data_connection/document_loaders/#third-party-loaders\n",
    "loader = JSONLoader(\n",
    "    file_path=\"temp.json\",\n",
    "    jq_schema=\".[]\",\n",
    "    content_key=\"content\",\n",
    "    metadata_func=metadata_func,\n",
    ")\n",
    "\n",
    "text_splitter = RecursiveCharacterTextSplitter.from_tiktoken_encoder(\n",
    "    chunk_size=800, chunk_overlap=400 #define chunk size and chunk overlap\n",
    ")\n",
    "docs = loader.load_and_split(text_splitter=text_splitter)"
   ]
  },
  {
   "cell_type": "code",
   "execution_count": null,
   "metadata": {},
   "outputs": [],
   "source": [
    "#Test the metadata_func by printing metadata for a sample record\n",
    "\n",
    "sample_record = {\n",
    "    \"name\": \"Document 1\",\n",
    "    \"summary\": \"A brief summary.\",\n",
    "    \"url\": \"http://example.com\",\n",
    "    \"category\": \"Tutorial\",\n",
    "    \"updated_at\": \"2025-01-30\"\n",
    "}\n",
    "metadata = {}\n",
    "print(metadata_func(sample_record, metadata))"
   ]
  },
  {
   "cell_type": "code",
   "execution_count": null,
   "metadata": {},
   "outputs": [],
   "source": [
    "print(docs[:2])  # Check the first two chunks of the documents"
   ]
  },
  {
   "cell_type": "markdown",
   "metadata": {},
   "source": [
    "### Bulk Import Passages\n",
    "\n",
    "Now that we have split each document into the chunk size of 800, we will now index data to elasticsearch using [ElasticsearchStore.from_documents](https://api.python.langchain.com/en/latest/vectorstores/langchain.vectorstores.elasticsearch.ElasticsearchStore.html#langchain.vectorstores.elasticsearch.ElasticsearchStore.from_documents).\n",
    "\n",
    "We will use Cloud ID, Password and Index name values set in the `Create cloud deployment` step."
   ]
  },
  {
   "cell_type": "code",
   "execution_count": null,
   "metadata": {},
   "outputs": [],
   "source": [
    "# Step 1: Print a Sample of the Documents\n",
    "# Check the first few documents to identify inconsistencies\n",
    "def debug_documents(docs):\n",
    "    for i, doc in enumerate(docs[:5]):\n",
    "        print(f\"Document {i + 1}:\\n\", doc, \"\\n\")\n",
    "\n",
    "# Call the function to print the first few documents\n",
    "debug_documents(docs)"
   ]
  },
  {
   "cell_type": "code",
   "execution_count": null,
   "metadata": {},
   "outputs": [],
   "source": [
    "# Inspect the specific document causing the issue (document 6)\n",
    "print(f\"Inspecting problematic document:\\n{docs[5]}\")"
   ]
  },
  {
   "cell_type": "code",
   "execution_count": null,
   "metadata": {},
   "outputs": [],
   "source": [
    "# Validate the metadata and page content of the document\n",
    "problematic_doc = docs[5]\n",
    "print(\"Page Content:\", problematic_doc.page_content)\n",
    "print(\"Metadata:\", problematic_doc.metadata)"
   ]
  },
  {
   "cell_type": "code",
   "execution_count": null,
   "metadata": {},
   "outputs": [],
   "source": [
    "# Step 2: Validate the Metadata for Each Document\n",
    "# Ensure each document has all required fields and valid values\n",
    "def validate_metadata(docs):\n",
    "    for i, doc in enumerate(docs):\n",
    "        if not doc.metadata:\n",
    "            print(f\"Document {i} is missing metadata.\")\n",
    "        if not doc.page_content:\n",
    "            print(f\"Document {i} is missing page_content.\")\n",
    "\n",
    "# Call the function to validate metadata\n",
    "validate_metadata(docs)"
   ]
  },
  {
   "cell_type": "code",
   "execution_count": null,
   "metadata": {},
   "outputs": [],
   "source": [
    "# Index the split documents into Elasticsearch\n",
    "try:\n",
    "    documents = vectorstore.from_documents(\n",
    "    docs, # List of document chunks\n",
    "    embeddings, # Embedding model\n",
    "    index_name=\"multi_query_index\", # Ensure this matches the created index name\n",
    "    es_cloud_id=ELASTIC_CLOUD_ID, # Cloud ID for Elasticsearch\n",
    "    es_api_key=ELASTIC_API_KEY, # API Key for Elasticsearch\n",
    ")\n",
    "except Exception as e:\n",
    "    print(f\"Error during bulk indexing: {e}\")\n",
    "\n",
    "# Initialize the OpenAI language model (LLM)\n",
    "llm = OpenAI(temperature=0, openai_api_key=OPENAI_API_KEY) # temperature=>Controls randomness (0 = deterministic)\n",
    "\n",
    "# Set up the MultiQueryRetriever using the LLM and vectorstore\n",
    "retriever = MultiQueryRetriever.from_llm(vectorstore.as_retriever(), llm) # Elasticsearch retriever with LLM"
   ]
  },
  {
   "cell_type": "markdown",
   "metadata": {},
   "source": [
    "# Question Answering with MultiQuery Retriever\n",
    "\n",
    "Now that we have the passages stored in Elasticsearch, we can now ask a question to get the relevant passages."
   ]
  },
  {
   "cell_type": "code",
   "execution_count": null,
   "metadata": {},
   "outputs": [],
   "source": [
    "from langchain.schema.runnable import RunnableParallel, RunnablePassthrough\n",
    "from langchain.prompts import ChatPromptTemplate, PromptTemplate\n",
    "from langchain.schema import format_document\n",
    "\n",
    "import logging\n",
    "\n",
    "logging.basicConfig()\n",
    "logging.getLogger(\"langchain.retrievers.multi_query\").setLevel(logging.INFO)\n",
    "\n",
    "LLM_CONTEXT_PROMPT = ChatPromptTemplate.from_template(\n",
    "    \"\"\"You are an assistant for question-answering tasks. Use the following pieces of retrieved context to answer the question. If you don't know the answer, just say that you don't know. Be as verbose and educational in your response as possible. \n",
    "    \n",
    "    context: {context}\n",
    "    Question: \"{question}\"\n",
    "    Answer:\n",
    "    \"\"\"\n",
    ")\n",
    "\n",
    "LLM_DOCUMENT_PROMPT = PromptTemplate.from_template(\n",
    "    \"\"\"\n",
    "---\n",
    "SOURCE: {name}\n",
    "{page_content}\n",
    "---\n",
    "\"\"\"\n",
    ")\n",
    "\n",
    "\n",
    "def _combine_documents(\n",
    "    docs, document_prompt=LLM_DOCUMENT_PROMPT, document_separator=\"\\n\\n\"\n",
    "):\n",
    "    doc_strings = [format_document(doc, document_prompt) for doc in docs]\n",
    "    return document_separator.join(doc_strings)\n",
    "\n",
    "\n",
    "_context = RunnableParallel(\n",
    "    context=retriever | _combine_documents,\n",
    "    question=RunnablePassthrough(),\n",
    ")\n",
    "\n",
    "chain = _context | LLM_CONTEXT_PROMPT | llm\n",
    "\n",
    "ans = chain.invoke(\"what is the nasa sales team?\")\n",
    "\n",
    "print(\"---- Answer ----\")\n",
    "print(ans)"
   ]
  },
  {
   "cell_type": "markdown",
   "metadata": {},
   "source": [
    "**Generate at least two new iteratioins of the previous cells - Be creative.** Did you master Multi-\n",
    "Query Retriever concepts through this lab?"
   ]
  },
  {
   "cell_type": "code",
   "execution_count": null,
   "metadata": {},
   "outputs": [],
   "source": [
    "#Iteration No. 01: Modified Context Prompt\n",
    "\n",
    "# Custom context prompt for more structured and formal responses\n",
    "CUSTOM_CONTEXT_PROMPT = ChatPromptTemplate.from_template(\n",
    "    \"\"\"You are an assistant specialized in delivering structured and precise answers. Use the following retrieved context to answer the question. If you don't know the answer, clearly state so. Provide bullet points for key aspects and explain thoroughly.\n",
    "\n",
    "    context: {context}\n",
    "    Question: \"{question}\"\n",
    "    Answer (structured response):\n",
    "    \"\"\"\n",
    ")\n",
    "\n",
    "# Use the existing _context pipeline\n",
    "custom_chain = _context | CUSTOM_CONTEXT_PROMPT | llm\n",
    "\n",
    "# Test with a new question\n",
    "ans01 = custom_chain.invoke(\"What are the key responsibilities of a Senior Software Engineer?\")\n",
    "\n",
    "print(\"---- Answer ----\")\n",
    "print(ans01)"
   ]
  },
  {
   "cell_type": "code",
   "execution_count": null,
   "metadata": {},
   "outputs": [],
   "source": [
    "#Iteration No. 02: Modified Document Prompt\n",
    "\n",
    "# Custom document prompt for retrieved documents\n",
    "CUSTOM_DOCUMENT_PROMPT = PromptTemplate.from_template(\n",
    "    \"\"\"\n",
    "==== Document Metadata ====\n",
    "SOURCE: {name}\n",
    "CATEGORY: {category}\n",
    "UPDATED: {updated_at}\n",
    "\n",
    "CONTENT:\n",
    "{page_content}\n",
    "===========================\n",
    "\"\"\"\n",
    ")\n",
    "\n",
    "# Update the document formatting in the chain\n",
    "def _combine_custom_documents(\n",
    "    docs, document_prompt=CUSTOM_DOCUMENT_PROMPT, document_separator=\"\\n\\n=== NEXT DOCUMENT ===\\n\\n\"\n",
    "):\n",
    "    doc_strings = [format_document(doc, document_prompt) for doc in docs]\n",
    "    return document_separator.join(doc_strings)\n",
    "\n",
    "# Update the context pipeline with custom document formatting\n",
    "custom_context = RunnableParallel(\n",
    "    context=retriever | _combine_custom_documents,\n",
    "    question=RunnablePassthrough(),\n",
    ")\n",
    "\n",
    "# Create the new chain with the custom context\n",
    "custom_chain_documents = custom_context | LLM_CONTEXT_PROMPT | llm\n",
    "\n",
    "# Test with the same or new question\n",
    "ans02 = custom_chain_documents.invoke(\"What is the NASA sales team?\")\n",
    "\n",
    "print(\"---- Custom Document Answer ----\")\n",
    "print(ans02)"
   ]
  }
 ],
 "metadata": {
  "kernelspec": {
   "display_name": "Python 3 (ipykernel)",
   "language": "python",
   "name": "python3"
  },
  "language_info": {
   "codemirror_mode": {
    "name": "ipython",
    "version": 3
   },
   "file_extension": ".py",
   "mimetype": "text/x-python",
   "name": "python",
   "nbconvert_exporter": "python",
   "pygments_lexer": "ipython3",
   "version": "3.12.7"
  }
 },
 "nbformat": 4,
 "nbformat_minor": 4
}
